{
 "cells": [
  {
   "cell_type": "code",
   "execution_count": 1,
   "id": "29a7d2b8",
   "metadata": {},
   "outputs": [
    {
     "data": {
      "text/plain": [
       "[{'nombre': 'hector', 'apellido': 'gomez', 'dni': '10210904'},\n",
       " {'nombre': 'manuel', 'apellido': 'gomez', 'dni': '10210905'},\n",
       " {'nombre': 'pedro', 'apellido': 'gomez', 'dni': '10210906'},\n",
       " {'nombre': 'maria', 'apellido': 'gomez', 'dni': '10210907'},\n",
       " {'nombre': 'josefina', 'apellido': 'gomez', 'dni': '10210908'}]"
      ]
     },
     "execution_count": 1,
     "metadata": {},
     "output_type": "execute_result"
    }
   ],
   "source": [
    "clientes = [\n",
    "    {'nombre':'hector','apellido':'gomez','dni':'10210904'},\n",
    "    {'nombre':'manuel','apellido':'gomez','dni':'10210905'},\n",
    "    {'nombre':'pedro','apellido':'gomez','dni':'10210906'},\n",
    "    {'nombre':'maria','apellido':'gomez','dni':'10210907'},\n",
    "    {'nombre':'josefina','apellido':'gomez','dni':'10210908'}\n",
    "]\n",
    "clientes"
   ]
  },
  {
   "cell_type": "code",
   "execution_count": 6,
   "id": "4a325399",
   "metadata": {},
   "outputs": [],
   "source": [
    "def buscar_cliente(bd_clie,documento):\n",
    "    existe =False\n",
    "    for item in bd_clie:\n",
    "        if (documento == item['dni']):\n",
    "            print('{} {}'.format(item['nombre'],item['apellido']))\n",
    "            existe=True\n",
    "            break\n",
    "    if existe == False:        \n",
    "        print(\"Cliente no registrado en nuestra Base de datos\")        "
   ]
  },
  {
   "cell_type": "code",
   "execution_count": 9,
   "id": "1c654cfd",
   "metadata": {},
   "outputs": [
    {
     "name": "stdout",
     "output_type": "stream",
     "text": [
      "Cliente no registrado en nuestra Base de datos\n"
     ]
    }
   ],
   "source": [
    "buscar_cliente(clientes,'102105')"
   ]
  },
  {
   "cell_type": "markdown",
   "id": "7d44fef7",
   "metadata": {},
   "source": [
    "## Manejo de Listas"
   ]
  },
  {
   "cell_type": "code",
   "execution_count": 10,
   "id": "c1f52770",
   "metadata": {},
   "outputs": [],
   "source": [
    "lista = [ 2.1, 2.0, 3.1, 4.5, 8.0 ]"
   ]
  },
  {
   "cell_type": "code",
   "execution_count": 11,
   "id": "82a3c89c",
   "metadata": {},
   "outputs": [
    {
     "data": {
      "text/plain": [
       "[2.1, 2.0, 3.1, 4.5, 8.0]"
      ]
     },
     "execution_count": 11,
     "metadata": {},
     "output_type": "execute_result"
    }
   ],
   "source": [
    "lista"
   ]
  },
  {
   "cell_type": "code",
   "execution_count": 12,
   "id": "a5208512",
   "metadata": {},
   "outputs": [
    {
     "data": {
      "text/plain": [
       "2.1"
      ]
     },
     "execution_count": 12,
     "metadata": {},
     "output_type": "execute_result"
    }
   ],
   "source": [
    "lista[0]"
   ]
  },
  {
   "cell_type": "code",
   "execution_count": 13,
   "id": "1ec8e763",
   "metadata": {},
   "outputs": [
    {
     "data": {
      "text/plain": [
       "8.0"
      ]
     },
     "execution_count": 13,
     "metadata": {},
     "output_type": "execute_result"
    }
   ],
   "source": [
    "lista[-1]"
   ]
  },
  {
   "cell_type": "code",
   "execution_count": 14,
   "id": "6fb9c8b1",
   "metadata": {},
   "outputs": [
    {
     "data": {
      "text/plain": [
       "[3.1, 4.5]"
      ]
     },
     "execution_count": 14,
     "metadata": {},
     "output_type": "execute_result"
    }
   ],
   "source": [
    "lista[2:4]"
   ]
  },
  {
   "cell_type": "code",
   "execution_count": 15,
   "id": "42de8071",
   "metadata": {},
   "outputs": [
    {
     "data": {
      "text/plain": [
       "[3.1, 4.5, 8.0]"
      ]
     },
     "execution_count": 15,
     "metadata": {},
     "output_type": "execute_result"
    }
   ],
   "source": [
    "lista[2:]"
   ]
  },
  {
   "cell_type": "code",
   "execution_count": 16,
   "id": "8a18a0c1",
   "metadata": {},
   "outputs": [
    {
     "data": {
      "text/plain": [
       "[2.1, 2.0]"
      ]
     },
     "execution_count": 16,
     "metadata": {},
     "output_type": "execute_result"
    }
   ],
   "source": [
    "lista[:2]"
   ]
  },
  {
   "cell_type": "code",
   "execution_count": 17,
   "id": "10655fb6",
   "metadata": {},
   "outputs": [
    {
     "data": {
      "text/plain": [
       "[2.1, 2.0, 9, 3.1, 4.5, 8.0]"
      ]
     },
     "execution_count": 17,
     "metadata": {},
     "output_type": "execute_result"
    }
   ],
   "source": [
    "lista.insert(2,9)\n",
    "lista"
   ]
  },
  {
   "cell_type": "code",
   "execution_count": 18,
   "id": "267b39bc",
   "metadata": {},
   "outputs": [
    {
     "data": {
      "text/plain": [
       "[2.1, 2.0, 9, 3.1, 4.5, 8.0, 200]"
      ]
     },
     "execution_count": 18,
     "metadata": {},
     "output_type": "execute_result"
    }
   ],
   "source": [
    "lista.append(200)\n",
    "lista"
   ]
  },
  {
   "cell_type": "code",
   "execution_count": 19,
   "id": "63db2219",
   "metadata": {},
   "outputs": [
    {
     "data": {
      "text/plain": [
       "[2.1, 2.0, 180, 3.1, 4.5, 8.0, 200]"
      ]
     },
     "execution_count": 19,
     "metadata": {},
     "output_type": "execute_result"
    }
   ],
   "source": [
    "lista[2]=180\n",
    "lista"
   ]
  },
  {
   "cell_type": "code",
   "execution_count": 20,
   "id": "314a99e5",
   "metadata": {},
   "outputs": [
    {
     "data": {
      "text/plain": [
       "[2.1, 2.0, 180, 3.1, 4.5, 8.0]"
      ]
     },
     "execution_count": 20,
     "metadata": {},
     "output_type": "execute_result"
    }
   ],
   "source": [
    "lista.remove(200)\n",
    "lista"
   ]
  },
  {
   "cell_type": "code",
   "execution_count": 21,
   "id": "27f7d9b3",
   "metadata": {},
   "outputs": [
    {
     "data": {
      "text/plain": [
       "[2.1, 180, 3.1, 4.5, 8.0]"
      ]
     },
     "execution_count": 21,
     "metadata": {},
     "output_type": "execute_result"
    }
   ],
   "source": [
    "lista.pop(1)\n",
    "lista"
   ]
  },
  {
   "cell_type": "code",
   "execution_count": 23,
   "id": "4726644e",
   "metadata": {},
   "outputs": [
    {
     "data": {
      "text/plain": [
       "[2.1, 3.1, 4.5, 8.0, 180]"
      ]
     },
     "execution_count": 23,
     "metadata": {},
     "output_type": "execute_result"
    }
   ],
   "source": [
    "lista.sort()\n",
    "lista"
   ]
  },
  {
   "cell_type": "code",
   "execution_count": 24,
   "id": "713f7dfa",
   "metadata": {},
   "outputs": [
    {
     "data": {
      "text/plain": [
       "[180, 8.0, 4.5, 3.1, 2.1]"
      ]
     },
     "execution_count": 24,
     "metadata": {},
     "output_type": "execute_result"
    }
   ],
   "source": [
    "lista.sort(reverse=True)\n",
    "lista"
   ]
  },
  {
   "cell_type": "code",
   "execution_count": 25,
   "id": "14d852d3",
   "metadata": {},
   "outputs": [
    {
     "data": {
      "text/plain": [
       "5"
      ]
     },
     "execution_count": 25,
     "metadata": {},
     "output_type": "execute_result"
    }
   ],
   "source": [
    "#lista.clear()\n",
    "size = len(lista)\n",
    "size"
   ]
  },
  {
   "cell_type": "code",
   "execution_count": 26,
   "id": "d2867860",
   "metadata": {},
   "outputs": [],
   "source": [
    "fruits = ['banana', 'orange', 'mango', 'lemon']"
   ]
  },
  {
   "cell_type": "code",
   "execution_count": 27,
   "id": "d73b319f",
   "metadata": {},
   "outputs": [
    {
     "data": {
      "text/plain": [
       "True"
      ]
     },
     "execution_count": 27,
     "metadata": {},
     "output_type": "execute_result"
    }
   ],
   "source": [
    "does_exist = 'banana' in fruits\n",
    "does_exist\n"
   ]
  },
  {
   "cell_type": "code",
   "execution_count": 28,
   "id": "2c9198a2",
   "metadata": {},
   "outputs": [
    {
     "data": {
      "text/plain": [
       "['orange', 'mango', 'lemon']"
      ]
     },
     "execution_count": 28,
     "metadata": {},
     "output_type": "execute_result"
    }
   ],
   "source": [
    "del fruits[0]\n",
    "fruits"
   ]
  },
  {
   "cell_type": "code",
   "execution_count": 29,
   "id": "dd866439",
   "metadata": {},
   "outputs": [
    {
     "data": {
      "text/plain": [
       "['orange', 'mango', 'lemon']"
      ]
     },
     "execution_count": 29,
     "metadata": {},
     "output_type": "execute_result"
    }
   ],
   "source": [
    "fruits_copy = fruits.copy()  \n",
    "fruits_copy\n"
   ]
  },
  {
   "cell_type": "code",
   "execution_count": 30,
   "id": "ec847764",
   "metadata": {},
   "outputs": [
    {
     "data": {
      "text/plain": [
       "[0, 1, 2, 3, 4, 5, 6]"
      ]
     },
     "execution_count": 30,
     "metadata": {},
     "output_type": "execute_result"
    }
   ],
   "source": [
    "num1 = [0, 1, 2, 3]\n",
    "num2= [4, 5,6]\n",
    "num1.extend(num2)\n",
    "num1\n"
   ]
  },
  {
   "cell_type": "code",
   "execution_count": 32,
   "id": "5b0af298",
   "metadata": {},
   "outputs": [
    {
     "data": {
      "text/plain": [
       "2"
      ]
     },
     "execution_count": 32,
     "metadata": {},
     "output_type": "execute_result"
    }
   ],
   "source": [
    "fruits = ['banana', 'orange', 'mango', 'lemon','orange']\n",
    "fruits.count('orange')"
   ]
  },
  {
   "cell_type": "code",
   "execution_count": 33,
   "id": "739a3f62",
   "metadata": {},
   "outputs": [
    {
     "data": {
      "text/plain": [
       "2"
      ]
     },
     "execution_count": 33,
     "metadata": {},
     "output_type": "execute_result"
    }
   ],
   "source": [
    "fruits.index('mango')"
   ]
  },
  {
   "cell_type": "code",
   "execution_count": 34,
   "id": "c0c3923d",
   "metadata": {},
   "outputs": [],
   "source": [
    "import csv\n",
    "with open ('cinema.csv','r',encoding='ISO 8859-1') as miArchivo:\n",
    "    leer =csv.reader(miArchivo)\n",
    "    listaPeliculas=list(leer)"
   ]
  },
  {
   "cell_type": "code",
   "execution_count": 35,
   "id": "98d05b67",
   "metadata": {},
   "outputs": [
    {
     "data": {
      "text/plain": [
       "[['mes', 'pais', 'pelicula', 'año', 'salas'],\n",
       " ['febrero', 'perú', 'once machos', '2019', 'sala1 , sala2'],\n",
       " ['marzo', 'chile', 'asu mare', '2019', 'sala1 , sala2,sala3'],\n",
       " ['abril', 'perú', 'la huerfana', '2020', 'sala1 , sala2'],\n",
       " ['mayo', 'chile', 'los choches', '2017', 'sala1 , sala2'],\n",
       " ['junio', 'argentina', 'la ladrona', '2016', 'sala1 , sala2,sala3'],\n",
       " ['julio', 'argentina', 'la oscuridad', '2017', 'sala1 , sala2'],\n",
       " ['agosto', 'chile', 'el despertar', '2018', 'sala1 , sala2'],\n",
       " ['septiembre', 'chile', 'sonanbulo', '2019', 'sala1 , sala2'],\n",
       " ['octubre', 'perú', 'pordiosero', '2020', 'sala1 , sala2 ,sala3'],\n",
       " ['noviembre', 'argentina', 'robot', '2021', 'sala1 , sala2'],\n",
       " ['diciembre', 'argentina', 'el pozo', '2022', 'sala1 , sala2']]"
      ]
     },
     "execution_count": 35,
     "metadata": {},
     "output_type": "execute_result"
    }
   ],
   "source": [
    "listaPeliculas"
   ]
  },
  {
   "cell_type": "markdown",
   "id": "ae43c1d6",
   "metadata": {},
   "source": [
    "# Indicadores\n",
    "1.- Que me Muestre las Peliculas Por Pais\n",
    "argentina\n",
    "('la ladrona 2016') ,('la oscuridad 2017),('robot 2021'),('el pozo' 2022)"
   ]
  },
  {
   "cell_type": "code",
   "execution_count": 36,
   "id": "01252006",
   "metadata": {},
   "outputs": [],
   "source": [
    "def peliculas_por_pais(cartelera,pais):\n",
    "    pelicula_pais=[]\n",
    "    for mes_exhibicion,pais_pelicula,nombre_pelicula,año_filmacion,salas in cartelera:\n",
    "        if pais_pelicula == pais:\n",
    "            #Guardar el nombre y el año de filmacion en una tupla\n",
    "            pelicula_pais.append((nombre_pelicula,año_filmacion))\n",
    "    return pelicula_pais        "
   ]
  },
  {
   "cell_type": "code",
   "execution_count": 39,
   "id": "0ec6ed59",
   "metadata": {},
   "outputs": [
    {
     "data": {
      "text/plain": [
       "[('once machos', '2019'), ('la huerfana', '2020'), ('pordiosero', '2020')]"
      ]
     },
     "execution_count": 39,
     "metadata": {},
     "output_type": "execute_result"
    }
   ],
   "source": [
    "peliculas_por_pais(listaPeliculas,'perú')"
   ]
  },
  {
   "cell_type": "code",
   "execution_count": 40,
   "id": "09cd0d4a",
   "metadata": {},
   "outputs": [],
   "source": [
    "def peliculas_por_sala(cartelera,sala):\n",
    "    peliculas_sala=dict()\n",
    "    for mes_exhibicion,pais_pelicula,nombre_pelicula,año_filmacion,salas in cartelera:\n",
    "        if sala in salas:\n",
    "            if mes_exhibicion in peliculas_sala:\n",
    "                peliculas_sala[mes_exhibicion].append(nombre_pelicula)\n",
    "            else:\n",
    "                peliculas_sala[mes_exhibicion]=[nombre_pelicula]\n",
    "    return peliculas_sala            \n",
    "    "
   ]
  },
  {
   "cell_type": "code",
   "execution_count": 41,
   "id": "d70168b7",
   "metadata": {},
   "outputs": [
    {
     "data": {
      "text/plain": [
       "{'febrero': ['once machos'],\n",
       " 'marzo': ['asu mare'],\n",
       " 'abril': ['la huerfana'],\n",
       " 'mayo': ['los choches'],\n",
       " 'junio': ['la ladrona'],\n",
       " 'julio': ['la oscuridad'],\n",
       " 'agosto': ['el despertar'],\n",
       " 'septiembre': ['sonanbulo'],\n",
       " 'octubre': ['pordiosero'],\n",
       " 'noviembre': ['robot'],\n",
       " 'diciembre': ['el pozo']}"
      ]
     },
     "execution_count": 41,
     "metadata": {},
     "output_type": "execute_result"
    }
   ],
   "source": [
    "peliculas_por_sala(listaPeliculas,'sala2')"
   ]
  },
  {
   "cell_type": "code",
   "execution_count": null,
   "id": "d382697c",
   "metadata": {},
   "outputs": [],
   "source": []
  }
 ],
 "metadata": {
  "kernelspec": {
   "display_name": "Python 3 (ipykernel)",
   "language": "python",
   "name": "python3"
  },
  "language_info": {
   "codemirror_mode": {
    "name": "ipython",
    "version": 3
   },
   "file_extension": ".py",
   "mimetype": "text/x-python",
   "name": "python",
   "nbconvert_exporter": "python",
   "pygments_lexer": "ipython3",
   "version": "3.7.0"
  }
 },
 "nbformat": 4,
 "nbformat_minor": 5
}
