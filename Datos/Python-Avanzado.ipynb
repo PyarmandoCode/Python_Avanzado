{
 "cells": [
  {
   "cell_type": "code",
   "execution_count": 1,
   "id": "ac047102",
   "metadata": {},
   "outputs": [
    {
     "data": {
      "text/plain": [
       "[{'nombre': 'hector', 'apellido': 'gomez', 'dni': '10210904'},\n",
       " {'nombre': 'manuel', 'apellido': 'gomez', 'dni': '10210905'},\n",
       " {'nombre': 'pedro', 'apellido': 'gomez', 'dni': '10210906'},\n",
       " {'nombre': 'maria', 'apellido': 'gomez', 'dni': '10210907'},\n",
       " {'nombre': 'josefina', 'apellido': 'gomez', 'dni': '10210908'}]"
      ]
     },
     "execution_count": 1,
     "metadata": {},
     "output_type": "execute_result"
    }
   ],
   "source": [
    "clientes = [\n",
    "    {'nombre':'hector','apellido':'gomez','dni':'10210904'},\n",
    "    {'nombre':'manuel','apellido':'gomez','dni':'10210905'},\n",
    "    {'nombre':'pedro','apellido':'gomez','dni':'10210906'},\n",
    "    {'nombre':'maria','apellido':'gomez','dni':'10210907'},\n",
    "    {'nombre':'josefina','apellido':'gomez','dni':'10210908'}\n",
    "]\n",
    "clientes"
   ]
  },
  {
   "cell_type": "code",
   "execution_count": 6,
   "id": "711ad9f1",
   "metadata": {},
   "outputs": [],
   "source": [
    "def buscar_cliente(bd_clie,documento):\n",
    "    existe =False\n",
    "    for item in bd_clie:\n",
    "        if (documento == item['dni']):\n",
    "            print('{} {}'.format(item['nombre'],item['apellido']))\n",
    "            existe=True\n",
    "            break\n",
    "    if existe == False:        \n",
    "        print(\"Cliente no registrado en nuestra Base de datos\")        "
   ]
  },
  {
   "cell_type": "code",
   "execution_count": 9,
   "id": "80328795",
   "metadata": {},
   "outputs": [
    {
     "name": "stdout",
     "output_type": "stream",
     "text": [
      "Cliente no registrado en nuestra Base de datos\n"
     ]
    }
   ],
   "source": [
    "buscar_cliente(clientes,'102105')"
   ]
  },
  {
   "cell_type": "markdown",
   "id": "2deb182f",
   "metadata": {},
   "source": [
    "## Manejo de Listas"
   ]
  },
  {
   "cell_type": "code",
   "execution_count": 10,
   "id": "4fdd3e67",
   "metadata": {},
   "outputs": [],
   "source": [
    "lista = [ 2.1, 2.0, 3.1, 4.5, 8.0 ]"
   ]
  },
  {
   "cell_type": "code",
   "execution_count": 11,
   "id": "4ec536d7",
   "metadata": {},
   "outputs": [
    {
     "data": {
      "text/plain": [
       "[2.1, 2.0, 3.1, 4.5, 8.0]"
      ]
     },
     "execution_count": 11,
     "metadata": {},
     "output_type": "execute_result"
    }
   ],
   "source": [
    "lista"
   ]
  },
  {
   "cell_type": "code",
   "execution_count": 12,
   "id": "2909d91f",
   "metadata": {},
   "outputs": [
    {
     "data": {
      "text/plain": [
       "2.1"
      ]
     },
     "execution_count": 12,
     "metadata": {},
     "output_type": "execute_result"
    }
   ],
   "source": [
    "lista[0]"
   ]
  },
  {
   "cell_type": "code",
   "execution_count": 13,
   "id": "c23ec91f",
   "metadata": {},
   "outputs": [
    {
     "data": {
      "text/plain": [
       "8.0"
      ]
     },
     "execution_count": 13,
     "metadata": {},
     "output_type": "execute_result"
    }
   ],
   "source": [
    "lista[-1]"
   ]
  },
  {
   "cell_type": "code",
   "execution_count": 14,
   "id": "e7470a54",
   "metadata": {},
   "outputs": [
    {
     "data": {
      "text/plain": [
       "[3.1, 4.5]"
      ]
     },
     "execution_count": 14,
     "metadata": {},
     "output_type": "execute_result"
    }
   ],
   "source": [
    "lista[2:4]"
   ]
  },
  {
   "cell_type": "code",
   "execution_count": 15,
   "id": "cd2e9501",
   "metadata": {},
   "outputs": [
    {
     "data": {
      "text/plain": [
       "[3.1, 4.5, 8.0]"
      ]
     },
     "execution_count": 15,
     "metadata": {},
     "output_type": "execute_result"
    }
   ],
   "source": [
    "lista[2:]"
   ]
  },
  {
   "cell_type": "code",
   "execution_count": 16,
   "id": "3ffcf224",
   "metadata": {},
   "outputs": [
    {
     "data": {
      "text/plain": [
       "[2.1, 2.0]"
      ]
     },
     "execution_count": 16,
     "metadata": {},
     "output_type": "execute_result"
    }
   ],
   "source": [
    "lista[:2]"
   ]
  },
  {
   "cell_type": "code",
   "execution_count": 17,
   "id": "b1501740",
   "metadata": {},
   "outputs": [
    {
     "data": {
      "text/plain": [
       "[2.1, 2.0, 9, 3.1, 4.5, 8.0]"
      ]
     },
     "execution_count": 17,
     "metadata": {},
     "output_type": "execute_result"
    }
   ],
   "source": [
    "lista.insert(2,9)\n",
    "lista"
   ]
  },
  {
   "cell_type": "code",
   "execution_count": 18,
   "id": "4183c6b8",
   "metadata": {},
   "outputs": [
    {
     "data": {
      "text/plain": [
       "[2.1, 2.0, 9, 3.1, 4.5, 8.0, 200]"
      ]
     },
     "execution_count": 18,
     "metadata": {},
     "output_type": "execute_result"
    }
   ],
   "source": [
    "lista.append(200)\n",
    "lista"
   ]
  },
  {
   "cell_type": "code",
   "execution_count": 19,
   "id": "883aa956",
   "metadata": {},
   "outputs": [
    {
     "data": {
      "text/plain": [
       "[2.1, 2.0, 180, 3.1, 4.5, 8.0, 200]"
      ]
     },
     "execution_count": 19,
     "metadata": {},
     "output_type": "execute_result"
    }
   ],
   "source": [
    "lista[2]=180\n",
    "lista"
   ]
  },
  {
   "cell_type": "code",
   "execution_count": 20,
   "id": "7368b7d7",
   "metadata": {},
   "outputs": [
    {
     "data": {
      "text/plain": [
       "[2.1, 2.0, 180, 3.1, 4.5, 8.0]"
      ]
     },
     "execution_count": 20,
     "metadata": {},
     "output_type": "execute_result"
    }
   ],
   "source": [
    "lista.remove(200)\n",
    "lista"
   ]
  },
  {
   "cell_type": "code",
   "execution_count": 21,
   "id": "2200eceb",
   "metadata": {},
   "outputs": [
    {
     "data": {
      "text/plain": [
       "[2.1, 180, 3.1, 4.5, 8.0]"
      ]
     },
     "execution_count": 21,
     "metadata": {},
     "output_type": "execute_result"
    }
   ],
   "source": [
    "lista.pop(1)\n",
    "lista"
   ]
  },
  {
   "cell_type": "code",
   "execution_count": 23,
   "id": "9bd29567",
   "metadata": {},
   "outputs": [
    {
     "data": {
      "text/plain": [
       "[2.1, 3.1, 4.5, 8.0, 180]"
      ]
     },
     "execution_count": 23,
     "metadata": {},
     "output_type": "execute_result"
    }
   ],
   "source": [
    "lista.sort()\n",
    "lista"
   ]
  },
  {
   "cell_type": "code",
   "execution_count": 24,
   "id": "2e5aa5ce",
   "metadata": {},
   "outputs": [
    {
     "data": {
      "text/plain": [
       "[180, 8.0, 4.5, 3.1, 2.1]"
      ]
     },
     "execution_count": 24,
     "metadata": {},
     "output_type": "execute_result"
    }
   ],
   "source": [
    "lista.sort(reverse=True)\n",
    "lista"
   ]
  },
  {
   "cell_type": "code",
   "execution_count": 25,
   "id": "993a8aa8",
   "metadata": {},
   "outputs": [
    {
     "data": {
      "text/plain": [
       "5"
      ]
     },
     "execution_count": 25,
     "metadata": {},
     "output_type": "execute_result"
    }
   ],
   "source": [
    "#lista.clear()\n",
    "size = len(lista)\n",
    "size"
   ]
  },
  {
   "cell_type": "code",
   "execution_count": 26,
   "id": "d6f067cb",
   "metadata": {},
   "outputs": [],
   "source": [
    "fruits = ['banana', 'orange', 'mango', 'lemon']"
   ]
  },
  {
   "cell_type": "code",
   "execution_count": 27,
   "id": "a64175f3",
   "metadata": {},
   "outputs": [
    {
     "data": {
      "text/plain": [
       "True"
      ]
     },
     "execution_count": 27,
     "metadata": {},
     "output_type": "execute_result"
    }
   ],
   "source": [
    "does_exist = 'banana' in fruits\n",
    "does_exist\n"
   ]
  },
  {
   "cell_type": "code",
   "execution_count": 28,
   "id": "4a922326",
   "metadata": {},
   "outputs": [
    {
     "data": {
      "text/plain": [
       "['orange', 'mango', 'lemon']"
      ]
     },
     "execution_count": 28,
     "metadata": {},
     "output_type": "execute_result"
    }
   ],
   "source": [
    "del fruits[0]\n",
    "fruits"
   ]
  },
  {
   "cell_type": "code",
   "execution_count": 29,
   "id": "568e9f3c",
   "metadata": {},
   "outputs": [
    {
     "data": {
      "text/plain": [
       "['orange', 'mango', 'lemon']"
      ]
     },
     "execution_count": 29,
     "metadata": {},
     "output_type": "execute_result"
    }
   ],
   "source": [
    "fruits_copy = fruits.copy()  \n",
    "fruits_copy\n"
   ]
  },
  {
   "cell_type": "code",
   "execution_count": 30,
   "id": "4ed73e14",
   "metadata": {},
   "outputs": [
    {
     "data": {
      "text/plain": [
       "[0, 1, 2, 3, 4, 5, 6]"
      ]
     },
     "execution_count": 30,
     "metadata": {},
     "output_type": "execute_result"
    }
   ],
   "source": [
    "num1 = [0, 1, 2, 3]\n",
    "num2= [4, 5,6]\n",
    "num1.extend(num2)\n",
    "num1\n"
   ]
  },
  {
   "cell_type": "code",
   "execution_count": 32,
   "id": "7446ff80",
   "metadata": {},
   "outputs": [
    {
     "data": {
      "text/plain": [
       "2"
      ]
     },
     "execution_count": 32,
     "metadata": {},
     "output_type": "execute_result"
    }
   ],
   "source": [
    "fruits = ['banana', 'orange', 'mango', 'lemon','orange']\n",
    "fruits.count('orange')"
   ]
  },
  {
   "cell_type": "code",
   "execution_count": null,
   "id": "c3593c04",
   "metadata": {},
   "outputs": [],
   "source": []
  }
 ],
 "metadata": {
  "kernelspec": {
   "display_name": "Python 3 (ipykernel)",
   "language": "python",
   "name": "python3"
  },
  "language_info": {
   "codemirror_mode": {
    "name": "ipython",
    "version": 3
   },
   "file_extension": ".py",
   "mimetype": "text/x-python",
   "name": "python",
   "nbconvert_exporter": "python",
   "pygments_lexer": "ipython3",
   "version": "3.7.0"
  }
 },
 "nbformat": 4,
 "nbformat_minor": 5
}
