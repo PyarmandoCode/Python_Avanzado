{
 "cells": [
  {
   "cell_type": "code",
   "execution_count": 1,
   "id": "d6c8648c",
   "metadata": {},
   "outputs": [
    {
     "data": {
      "text/plain": [
       "[{'nombre': 'hector', 'apellido': 'gomez', 'dni': '10210904'},\n",
       " {'nombre': 'manuel', 'apellido': 'gomez', 'dni': '10210905'},\n",
       " {'nombre': 'pedro', 'apellido': 'gomez', 'dni': '10210906'},\n",
       " {'nombre': 'maria', 'apellido': 'gomez', 'dni': '10210907'},\n",
       " {'nombre': 'josefina', 'apellido': 'gomez', 'dni': '10210908'}]"
      ]
     },
     "execution_count": 1,
     "metadata": {},
     "output_type": "execute_result"
    }
   ],
   "source": [
    "clientes = [\n",
    "    {'nombre':'hector','apellido':'gomez','dni':'10210904'},\n",
    "    {'nombre':'manuel','apellido':'gomez','dni':'10210905'},\n",
    "    {'nombre':'pedro','apellido':'gomez','dni':'10210906'},\n",
    "    {'nombre':'maria','apellido':'gomez','dni':'10210907'},\n",
    "    {'nombre':'josefina','apellido':'gomez','dni':'10210908'}\n",
    "]\n",
    "clientes"
   ]
  },
  {
   "cell_type": "code",
   "execution_count": 6,
   "id": "10878689",
   "metadata": {},
   "outputs": [],
   "source": [
    "def buscar_cliente(bd_clie,documento):\n",
    "    existe =False\n",
    "    for item in bd_clie:\n",
    "        if (documento == item['dni']):\n",
    "            print('{} {}'.format(item['nombre'],item['apellido']))\n",
    "            existe=True\n",
    "            break\n",
    "    if existe == False:        \n",
    "        print(\"Cliente no registrado en nuestra Base de datos\")        "
   ]
  },
  {
   "cell_type": "code",
   "execution_count": 9,
   "id": "73937ee0",
   "metadata": {},
   "outputs": [
    {
     "name": "stdout",
     "output_type": "stream",
     "text": [
      "Cliente no registrado en nuestra Base de datos\n"
     ]
    }
   ],
   "source": [
    "buscar_cliente(clientes,'102105')"
   ]
  },
  {
   "cell_type": "markdown",
   "id": "1c44edf3",
   "metadata": {},
   "source": [
    "## Manejo de Listas"
   ]
  },
  {
   "cell_type": "code",
   "execution_count": 10,
   "id": "f94f1fb8",
   "metadata": {},
   "outputs": [],
   "source": [
    "lista = [ 2.1, 2.0, 3.1, 4.5, 8.0 ]"
   ]
  },
  {
   "cell_type": "code",
   "execution_count": 11,
   "id": "2ce876fe",
   "metadata": {},
   "outputs": [
    {
     "data": {
      "text/plain": [
       "[2.1, 2.0, 3.1, 4.5, 8.0]"
      ]
     },
     "execution_count": 11,
     "metadata": {},
     "output_type": "execute_result"
    }
   ],
   "source": [
    "lista"
   ]
  },
  {
   "cell_type": "code",
   "execution_count": 12,
   "id": "c0ad3a6e",
   "metadata": {},
   "outputs": [
    {
     "data": {
      "text/plain": [
       "2.1"
      ]
     },
     "execution_count": 12,
     "metadata": {},
     "output_type": "execute_result"
    }
   ],
   "source": [
    "lista[0]"
   ]
  },
  {
   "cell_type": "code",
   "execution_count": 13,
   "id": "42528df9",
   "metadata": {},
   "outputs": [
    {
     "data": {
      "text/plain": [
       "8.0"
      ]
     },
     "execution_count": 13,
     "metadata": {},
     "output_type": "execute_result"
    }
   ],
   "source": [
    "lista[-1]"
   ]
  },
  {
   "cell_type": "code",
   "execution_count": 14,
   "id": "0924dda3",
   "metadata": {},
   "outputs": [
    {
     "data": {
      "text/plain": [
       "[3.1, 4.5]"
      ]
     },
     "execution_count": 14,
     "metadata": {},
     "output_type": "execute_result"
    }
   ],
   "source": [
    "lista[2:4]"
   ]
  },
  {
   "cell_type": "code",
   "execution_count": 15,
   "id": "f9a8253d",
   "metadata": {},
   "outputs": [
    {
     "data": {
      "text/plain": [
       "[3.1, 4.5, 8.0]"
      ]
     },
     "execution_count": 15,
     "metadata": {},
     "output_type": "execute_result"
    }
   ],
   "source": [
    "lista[2:]"
   ]
  },
  {
   "cell_type": "code",
   "execution_count": 16,
   "id": "fd5db00c",
   "metadata": {},
   "outputs": [
    {
     "data": {
      "text/plain": [
       "[2.1, 2.0]"
      ]
     },
     "execution_count": 16,
     "metadata": {},
     "output_type": "execute_result"
    }
   ],
   "source": [
    "lista[:2]"
   ]
  },
  {
   "cell_type": "code",
   "execution_count": 17,
   "id": "f238d396",
   "metadata": {},
   "outputs": [
    {
     "data": {
      "text/plain": [
       "[2.1, 2.0, 9, 3.1, 4.5, 8.0]"
      ]
     },
     "execution_count": 17,
     "metadata": {},
     "output_type": "execute_result"
    }
   ],
   "source": [
    "lista.insert(2,9)\n",
    "lista"
   ]
  },
  {
   "cell_type": "code",
   "execution_count": 18,
   "id": "150c4319",
   "metadata": {},
   "outputs": [
    {
     "data": {
      "text/plain": [
       "[2.1, 2.0, 9, 3.1, 4.5, 8.0, 200]"
      ]
     },
     "execution_count": 18,
     "metadata": {},
     "output_type": "execute_result"
    }
   ],
   "source": [
    "lista.append(200)\n",
    "lista"
   ]
  },
  {
   "cell_type": "code",
   "execution_count": 19,
   "id": "0c8fce14",
   "metadata": {},
   "outputs": [
    {
     "data": {
      "text/plain": [
       "[2.1, 2.0, 180, 3.1, 4.5, 8.0, 200]"
      ]
     },
     "execution_count": 19,
     "metadata": {},
     "output_type": "execute_result"
    }
   ],
   "source": [
    "lista[2]=180\n",
    "lista"
   ]
  },
  {
   "cell_type": "code",
   "execution_count": 20,
   "id": "69269d5e",
   "metadata": {},
   "outputs": [
    {
     "data": {
      "text/plain": [
       "[2.1, 2.0, 180, 3.1, 4.5, 8.0]"
      ]
     },
     "execution_count": 20,
     "metadata": {},
     "output_type": "execute_result"
    }
   ],
   "source": [
    "lista.remove(200)\n",
    "lista"
   ]
  },
  {
   "cell_type": "code",
   "execution_count": 21,
   "id": "2fd5ff81",
   "metadata": {},
   "outputs": [
    {
     "data": {
      "text/plain": [
       "[2.1, 180, 3.1, 4.5, 8.0]"
      ]
     },
     "execution_count": 21,
     "metadata": {},
     "output_type": "execute_result"
    }
   ],
   "source": [
    "lista.pop(1)\n",
    "lista"
   ]
  },
  {
   "cell_type": "code",
   "execution_count": 23,
   "id": "0faceceb",
   "metadata": {},
   "outputs": [
    {
     "data": {
      "text/plain": [
       "[2.1, 3.1, 4.5, 8.0, 180]"
      ]
     },
     "execution_count": 23,
     "metadata": {},
     "output_type": "execute_result"
    }
   ],
   "source": [
    "lista.sort()\n",
    "lista"
   ]
  },
  {
   "cell_type": "code",
   "execution_count": 24,
   "id": "01967867",
   "metadata": {},
   "outputs": [
    {
     "data": {
      "text/plain": [
       "[180, 8.0, 4.5, 3.1, 2.1]"
      ]
     },
     "execution_count": 24,
     "metadata": {},
     "output_type": "execute_result"
    }
   ],
   "source": [
    "lista.sort(reverse=True)\n",
    "lista"
   ]
  },
  {
   "cell_type": "code",
   "execution_count": 25,
   "id": "a986c786",
   "metadata": {},
   "outputs": [
    {
     "data": {
      "text/plain": [
       "5"
      ]
     },
     "execution_count": 25,
     "metadata": {},
     "output_type": "execute_result"
    }
   ],
   "source": [
    "#lista.clear()\n",
    "size = len(lista)\n",
    "size"
   ]
  },
  {
   "cell_type": "code",
   "execution_count": 26,
   "id": "e65e88af",
   "metadata": {},
   "outputs": [],
   "source": [
    "fruits = ['banana', 'orange', 'mango', 'lemon']"
   ]
  },
  {
   "cell_type": "code",
   "execution_count": 27,
   "id": "ba34954c",
   "metadata": {},
   "outputs": [
    {
     "data": {
      "text/plain": [
       "True"
      ]
     },
     "execution_count": 27,
     "metadata": {},
     "output_type": "execute_result"
    }
   ],
   "source": [
    "does_exist = 'banana' in fruits\n",
    "does_exist\n"
   ]
  },
  {
   "cell_type": "code",
   "execution_count": 28,
   "id": "cffc56c1",
   "metadata": {},
   "outputs": [
    {
     "data": {
      "text/plain": [
       "['orange', 'mango', 'lemon']"
      ]
     },
     "execution_count": 28,
     "metadata": {},
     "output_type": "execute_result"
    }
   ],
   "source": [
    "del fruits[0]\n",
    "fruits"
   ]
  },
  {
   "cell_type": "code",
   "execution_count": 29,
   "id": "a592c8fb",
   "metadata": {},
   "outputs": [
    {
     "data": {
      "text/plain": [
       "['orange', 'mango', 'lemon']"
      ]
     },
     "execution_count": 29,
     "metadata": {},
     "output_type": "execute_result"
    }
   ],
   "source": [
    "fruits_copy = fruits.copy()  \n",
    "fruits_copy\n"
   ]
  },
  {
   "cell_type": "code",
   "execution_count": 30,
   "id": "9ee87ef7",
   "metadata": {},
   "outputs": [
    {
     "data": {
      "text/plain": [
       "[0, 1, 2, 3, 4, 5, 6]"
      ]
     },
     "execution_count": 30,
     "metadata": {},
     "output_type": "execute_result"
    }
   ],
   "source": [
    "num1 = [0, 1, 2, 3]\n",
    "num2= [4, 5,6]\n",
    "num1.extend(num2)\n",
    "num1\n"
   ]
  },
  {
   "cell_type": "code",
   "execution_count": 32,
   "id": "47d27aec",
   "metadata": {},
   "outputs": [
    {
     "data": {
      "text/plain": [
       "2"
      ]
     },
     "execution_count": 32,
     "metadata": {},
     "output_type": "execute_result"
    }
   ],
   "source": [
    "fruits = ['banana', 'orange', 'mango', 'lemon','orange']\n",
    "fruits.count('orange')"
   ]
  },
  {
   "cell_type": "code",
   "execution_count": 33,
   "id": "65c32f56",
   "metadata": {},
   "outputs": [
    {
     "data": {
      "text/plain": [
       "2"
      ]
     },
     "execution_count": 33,
     "metadata": {},
     "output_type": "execute_result"
    }
   ],
   "source": [
    "fruits.index('mango')"
   ]
  },
  {
   "cell_type": "code",
   "execution_count": 34,
   "id": "1aa7ebb6",
   "metadata": {},
   "outputs": [],
   "source": [
    "import csv\n",
    "with open ('cinema.csv','r',encoding='ISO 8859-1') as miArchivo:\n",
    "    leer =csv.reader(miArchivo)\n",
    "    listaPeliculas=list(leer)"
   ]
  },
  {
   "cell_type": "code",
   "execution_count": 35,
   "id": "8237c078",
   "metadata": {},
   "outputs": [
    {
     "data": {
      "text/plain": [
       "[['mes', 'pais', 'pelicula', 'año', 'salas'],\n",
       " ['febrero', 'perú', 'once machos', '2019', 'sala1 , sala2'],\n",
       " ['marzo', 'chile', 'asu mare', '2019', 'sala1 , sala2,sala3'],\n",
       " ['abril', 'perú', 'la huerfana', '2020', 'sala1 , sala2'],\n",
       " ['mayo', 'chile', 'los choches', '2017', 'sala1 , sala2'],\n",
       " ['junio', 'argentina', 'la ladrona', '2016', 'sala1 , sala2,sala3'],\n",
       " ['julio', 'argentina', 'la oscuridad', '2017', 'sala1 , sala2'],\n",
       " ['agosto', 'chile', 'el despertar', '2018', 'sala1 , sala2'],\n",
       " ['septiembre', 'chile', 'sonanbulo', '2019', 'sala1 , sala2'],\n",
       " ['octubre', 'perú', 'pordiosero', '2020', 'sala1 , sala2 ,sala3'],\n",
       " ['noviembre', 'argentina', 'robot', '2021', 'sala1 , sala2'],\n",
       " ['diciembre', 'argentina', 'el pozo', '2022', 'sala1 , sala2']]"
      ]
     },
     "execution_count": 35,
     "metadata": {},
     "output_type": "execute_result"
    }
   ],
   "source": [
    "listaPeliculas"
   ]
  },
  {
   "cell_type": "markdown",
   "id": "8b570808",
   "metadata": {},
   "source": [
    "# Indicadores\n",
    "1.- Que me Muestre las Peliculas Por Pais\n",
    "argentina\n",
    "('la ladrona 2016') ,('la oscuridad 2017),('robot 2021'),('el pozo' 2022)"
   ]
  },
  {
   "cell_type": "code",
   "execution_count": 36,
   "id": "69419f54",
   "metadata": {},
   "outputs": [],
   "source": [
    "def peliculas_por_pais(cartelera,pais):\n",
    "    pelicula_pais=[]\n",
    "    for mes_exhibicion,pais_pelicula,nombre_pelicula,año_filmacion,salas in cartelera:\n",
    "        if pais_pelicula == pais:\n",
    "            #Guardar el nombre y el año de filmacion en una tupla\n",
    "            pelicula_pais.append((nombre_pelicula,año_filmacion))\n",
    "    return pelicula_pais        "
   ]
  },
  {
   "cell_type": "code",
   "execution_count": 39,
   "id": "6916b6bf",
   "metadata": {},
   "outputs": [
    {
     "data": {
      "text/plain": [
       "[('once machos', '2019'), ('la huerfana', '2020'), ('pordiosero', '2020')]"
      ]
     },
     "execution_count": 39,
     "metadata": {},
     "output_type": "execute_result"
    }
   ],
   "source": [
    "peliculas_por_pais(listaPeliculas,'perú')"
   ]
  },
  {
   "cell_type": "code",
   "execution_count": 40,
   "id": "bff39ec9",
   "metadata": {},
   "outputs": [],
   "source": [
    "def peliculas_por_sala(cartelera,sala):\n",
    "    peliculas_sala=dict()\n",
    "    for mes_exhibicion,pais_pelicula,nombre_pelicula,año_filmacion,salas in cartelera:\n",
    "        if sala in salas:\n",
    "            if mes_exhibicion in peliculas_sala:\n",
    "                peliculas_sala[mes_exhibicion].append(nombre_pelicula)\n",
    "            else:\n",
    "                peliculas_sala[mes_exhibicion]=[nombre_pelicula]\n",
    "    return peliculas_sala            "
   ]
  },
  {
   "cell_type": "code",
   "execution_count": 43,
   "id": "d2663c10",
   "metadata": {},
   "outputs": [
    {
     "data": {
      "text/plain": [
       "{'marzo': ['asu mare'], 'junio': ['la ladrona'], 'octubre': ['pordiosero']}"
      ]
     },
     "execution_count": 43,
     "metadata": {},
     "output_type": "execute_result"
    }
   ],
   "source": [
    "peliculas_por_sala(listaPeliculas,'sala3')"
   ]
  },
  {
   "cell_type": "markdown",
   "id": "a7e27d48",
   "metadata": {},
   "source": [
    "# Librerias Para el Tratamiento de Datos"
   ]
  },
  {
   "cell_type": "code",
   "execution_count": 44,
   "id": "c7e96e15",
   "metadata": {},
   "outputs": [
    {
     "name": "stdout",
     "output_type": "stream",
     "text": [
      "Requirement already satisfied: pandas in c:\\users\\armando\\appdata\\local\\programs\\python\\python37\\lib\\site-packages (1.1.5)\n",
      "Requirement already satisfied: python-dateutil>=2.7.3 in c:\\users\\armando\\appdata\\roaming\\python\\python37\\site-packages (from pandas) (2.8.2)\n",
      "Requirement already satisfied: pytz>=2017.2 in c:\\users\\armando\\appdata\\local\\programs\\python\\python37\\lib\\site-packages (from pandas) (2023.3)\n",
      "Requirement already satisfied: numpy>=1.15.4 in c:\\users\\armando\\appdata\\local\\programs\\python\\python37\\lib\\site-packages (from pandas) (1.21.6)\n",
      "Requirement already satisfied: six>=1.5 in c:\\users\\armando\\appdata\\roaming\\python\\python37\\site-packages (from python-dateutil>=2.7.3->pandas) (1.14.0)\n",
      "Note: you may need to restart the kernel to use updated packages.\n"
     ]
    }
   ],
   "source": [
    "pip install pandas"
   ]
  },
  {
   "cell_type": "code",
   "execution_count": 45,
   "id": "bf4a79cf",
   "metadata": {},
   "outputs": [],
   "source": [
    "import pandas as pd"
   ]
  },
  {
   "cell_type": "code",
   "execution_count": 49,
   "id": "eacde973",
   "metadata": {},
   "outputs": [
    {
     "data": {
      "text/html": [
       "<div>\n",
       "<style scoped>\n",
       "    .dataframe tbody tr th:only-of-type {\n",
       "        vertical-align: middle;\n",
       "    }\n",
       "\n",
       "    .dataframe tbody tr th {\n",
       "        vertical-align: top;\n",
       "    }\n",
       "\n",
       "    .dataframe thead th {\n",
       "        text-align: right;\n",
       "    }\n",
       "</style>\n",
       "<table border=\"1\" class=\"dataframe\">\n",
       "  <thead>\n",
       "    <tr style=\"text-align: right;\">\n",
       "      <th></th>\n",
       "      <th>id</th>\n",
       "      <th>idcarpeta</th>\n",
       "      <th>delito</th>\n",
       "      <th>categoria</th>\n",
       "      <th>fechahecho</th>\n",
       "      <th>ao</th>\n",
       "      <th>mes</th>\n",
       "      <th>sexo</th>\n",
       "      <th>edad</th>\n",
       "      <th>tipopersona</th>\n",
       "      <th>calidadjuridica</th>\n",
       "      <th>clasificaciondelito</th>\n",
       "      <th>lon</th>\n",
       "      <th>lat</th>\n",
       "      <th>geopoint</th>\n",
       "    </tr>\n",
       "  </thead>\n",
       "  <tbody>\n",
       "    <tr>\n",
       "      <th>0</th>\n",
       "      <td>0</td>\n",
       "      <td>8511202</td>\n",
       "      <td>VIOLENCIA FAMILIAR</td>\n",
       "      <td>DELITO DE BAJO IMPACTO</td>\n",
       "      <td>2019-08-31 20:30:00</td>\n",
       "      <td>2019.0</td>\n",
       "      <td>Agosto</td>\n",
       "      <td>Femenino</td>\n",
       "      <td>24.0</td>\n",
       "      <td>FISICA</td>\n",
       "      <td>VICTIMA Y DENUNCIANTE</td>\n",
       "      <td>FUERO COMUN</td>\n",
       "      <td>-99.165831</td>\n",
       "      <td>19.265853</td>\n",
       "      <td>19.2658532425,-99.1658309176</td>\n",
       "    </tr>\n",
       "    <tr>\n",
       "      <th>1</th>\n",
       "      <td>1</td>\n",
       "      <td>8511203</td>\n",
       "      <td>VIOLENCIA FAMILIAR</td>\n",
       "      <td>DELITO DE BAJO IMPACTO</td>\n",
       "      <td>2019-08-31 17:00:00</td>\n",
       "      <td>2019.0</td>\n",
       "      <td>Agosto</td>\n",
       "      <td>Femenino</td>\n",
       "      <td>45.0</td>\n",
       "      <td>FISICA</td>\n",
       "      <td>VICTIMA Y DENUNCIANTE</td>\n",
       "      <td>FUERO COMUN</td>\n",
       "      <td>-99.231585</td>\n",
       "      <td>19.358567</td>\n",
       "      <td>19.3585668959,-99.2315845002</td>\n",
       "    </tr>\n",
       "    <tr>\n",
       "      <th>2</th>\n",
       "      <td>2</td>\n",
       "      <td>8511210</td>\n",
       "      <td>NARCOMENUDEO POSESION SIMPLE</td>\n",
       "      <td>DELITO DE BAJO IMPACTO</td>\n",
       "      <td>2019-08-31 23:30:00</td>\n",
       "      <td>2019.0</td>\n",
       "      <td>Agosto</td>\n",
       "      <td>NaN</td>\n",
       "      <td>NaN</td>\n",
       "      <td>MORAL</td>\n",
       "      <td>VICTIMA</td>\n",
       "      <td>FUERO COMUN</td>\n",
       "      <td>-99.041738</td>\n",
       "      <td>19.379067</td>\n",
       "      <td>19.3790668024,-99.0417384999</td>\n",
       "    </tr>\n",
       "    <tr>\n",
       "      <th>3</th>\n",
       "      <td>3</td>\n",
       "      <td>8511220</td>\n",
       "      <td>ROBO DE OBJETOS DEL INTERIOR DE UN VEHICULO</td>\n",
       "      <td>DELITO DE BAJO IMPACTO</td>\n",
       "      <td>2019-09-01 00:00:00</td>\n",
       "      <td>2019.0</td>\n",
       "      <td>Septiembre</td>\n",
       "      <td>Femenino</td>\n",
       "      <td>40.0</td>\n",
       "      <td>FISICA</td>\n",
       "      <td>VICTIMA Y DENUNCIANTE</td>\n",
       "      <td>FUERO COMUN</td>\n",
       "      <td>-99.156856</td>\n",
       "      <td>19.335144</td>\n",
       "      <td>19.3351437,-99.1568559003</td>\n",
       "    </tr>\n",
       "    <tr>\n",
       "      <th>4</th>\n",
       "      <td>4</td>\n",
       "      <td>8511227</td>\n",
       "      <td>ROBO DE VEHICULO DE SERVICIO PARTICULAR SIN VI...</td>\n",
       "      <td>ROBO DE VEHÍCULO CON Y SIN VIOLENCIA</td>\n",
       "      <td>2019-09-01 01:50:00</td>\n",
       "      <td>2019.0</td>\n",
       "      <td>Septiembre</td>\n",
       "      <td>Femenino</td>\n",
       "      <td>NaN</td>\n",
       "      <td>FISICA</td>\n",
       "      <td>VICTIMA Y DENUNCIANTE</td>\n",
       "      <td>FUERO COMUN</td>\n",
       "      <td>-99.161371</td>\n",
       "      <td>19.317343</td>\n",
       "      <td>19.3173431639,-99.1613711149</td>\n",
       "    </tr>\n",
       "    <tr>\n",
       "      <th>...</th>\n",
       "      <td>...</td>\n",
       "      <td>...</td>\n",
       "      <td>...</td>\n",
       "      <td>...</td>\n",
       "      <td>...</td>\n",
       "      <td>...</td>\n",
       "      <td>...</td>\n",
       "      <td>...</td>\n",
       "      <td>...</td>\n",
       "      <td>...</td>\n",
       "      <td>...</td>\n",
       "      <td>...</td>\n",
       "      <td>...</td>\n",
       "      <td>...</td>\n",
       "      <td>...</td>\n",
       "    </tr>\n",
       "    <tr>\n",
       "      <th>145865</th>\n",
       "      <td>145865</td>\n",
       "      <td>8533929</td>\n",
       "      <td>ABUSO SEXUAL</td>\n",
       "      <td>DELITO DE BAJO IMPACTO</td>\n",
       "      <td>2019-09-28 20:00:00</td>\n",
       "      <td>2019.0</td>\n",
       "      <td>Septiembre</td>\n",
       "      <td>Femenino</td>\n",
       "      <td>22.0</td>\n",
       "      <td>FISICA</td>\n",
       "      <td>VICTIMA Y DENUNCIANTE</td>\n",
       "      <td>FUERO COMUN</td>\n",
       "      <td>-99.202481</td>\n",
       "      <td>19.372614</td>\n",
       "      <td>19.3726139581,-99.2024805395</td>\n",
       "    </tr>\n",
       "    <tr>\n",
       "      <th>145866</th>\n",
       "      <td>145866</td>\n",
       "      <td>8533931</td>\n",
       "      <td>VIOLENCIA FAMILIAR</td>\n",
       "      <td>DELITO DE BAJO IMPACTO</td>\n",
       "      <td>2019-09-30 20:00:00</td>\n",
       "      <td>2019.0</td>\n",
       "      <td>Septiembre</td>\n",
       "      <td>Femenino</td>\n",
       "      <td>20.0</td>\n",
       "      <td>FISICA</td>\n",
       "      <td>VICTIMA Y DENUNCIANTE</td>\n",
       "      <td>FUERO COMUN</td>\n",
       "      <td>-99.184197</td>\n",
       "      <td>19.397102</td>\n",
       "      <td>19.3971023956,-99.1841971002</td>\n",
       "    </tr>\n",
       "    <tr>\n",
       "      <th>145867</th>\n",
       "      <td>145867</td>\n",
       "      <td>8533933</td>\n",
       "      <td>DESPOJO</td>\n",
       "      <td>DELITO DE BAJO IMPACTO</td>\n",
       "      <td>2019-08-29 14:00:00</td>\n",
       "      <td>2019.0</td>\n",
       "      <td>Agosto</td>\n",
       "      <td>Femenino</td>\n",
       "      <td>NaN</td>\n",
       "      <td>FISICA</td>\n",
       "      <td>VICTIMA Y DENUNCIANTE</td>\n",
       "      <td>FUERO COMUN</td>\n",
       "      <td>-99.148761</td>\n",
       "      <td>19.311488</td>\n",
       "      <td>19.3114877811,-99.1487612589</td>\n",
       "    </tr>\n",
       "    <tr>\n",
       "      <th>145868</th>\n",
       "      <td>145868</td>\n",
       "      <td>8533947</td>\n",
       "      <td>HOMICIDIO POR ARMA DE FUEGO</td>\n",
       "      <td>HOMICIDIO DOLOSO</td>\n",
       "      <td>2019-09-30 23:49:00</td>\n",
       "      <td>2019.0</td>\n",
       "      <td>Septiembre</td>\n",
       "      <td>Masculino</td>\n",
       "      <td>30.0</td>\n",
       "      <td>FISICA</td>\n",
       "      <td>CADAVER</td>\n",
       "      <td>FUERO COMUN</td>\n",
       "      <td>-99.144678</td>\n",
       "      <td>19.480919</td>\n",
       "      <td>19.4809194031,-99.1446780997</td>\n",
       "    </tr>\n",
       "    <tr>\n",
       "      <th>145869</th>\n",
       "      <td>145869</td>\n",
       "      <td>8533948</td>\n",
       "      <td>ABUSO DE AUTORIDAD</td>\n",
       "      <td>DELITO DE BAJO IMPACTO</td>\n",
       "      <td>2019-09-30 20:45:00</td>\n",
       "      <td>2019.0</td>\n",
       "      <td>Septiembre</td>\n",
       "      <td>Femenino</td>\n",
       "      <td>55.0</td>\n",
       "      <td>FISICA</td>\n",
       "      <td>VICTIMA Y DENUNCIANTE</td>\n",
       "      <td>FUERO COMUN</td>\n",
       "      <td>-99.138350</td>\n",
       "      <td>19.426559</td>\n",
       "      <td>19.4265593441,-99.1383501038</td>\n",
       "    </tr>\n",
       "  </tbody>\n",
       "</table>\n",
       "<p>145870 rows × 15 columns</p>\n",
       "</div>"
      ],
      "text/plain": [
       "            id  idcarpeta                                             delito  \\\n",
       "0            0    8511202                                 VIOLENCIA FAMILIAR   \n",
       "1            1    8511203                                 VIOLENCIA FAMILIAR   \n",
       "2            2    8511210                       NARCOMENUDEO POSESION SIMPLE   \n",
       "3            3    8511220        ROBO DE OBJETOS DEL INTERIOR DE UN VEHICULO   \n",
       "4            4    8511227  ROBO DE VEHICULO DE SERVICIO PARTICULAR SIN VI...   \n",
       "...        ...        ...                                                ...   \n",
       "145865  145865    8533929                                       ABUSO SEXUAL   \n",
       "145866  145866    8533931                                 VIOLENCIA FAMILIAR   \n",
       "145867  145867    8533933                                            DESPOJO   \n",
       "145868  145868    8533947                        HOMICIDIO POR ARMA DE FUEGO   \n",
       "145869  145869    8533948                                 ABUSO DE AUTORIDAD   \n",
       "\n",
       "                                   categoria           fechahecho      ao  \\\n",
       "0                     DELITO DE BAJO IMPACTO  2019-08-31 20:30:00  2019.0   \n",
       "1                     DELITO DE BAJO IMPACTO  2019-08-31 17:00:00  2019.0   \n",
       "2                     DELITO DE BAJO IMPACTO  2019-08-31 23:30:00  2019.0   \n",
       "3                     DELITO DE BAJO IMPACTO  2019-09-01 00:00:00  2019.0   \n",
       "4       ROBO DE VEHÍCULO CON Y SIN VIOLENCIA  2019-09-01 01:50:00  2019.0   \n",
       "...                                      ...                  ...     ...   \n",
       "145865                DELITO DE BAJO IMPACTO  2019-09-28 20:00:00  2019.0   \n",
       "145866                DELITO DE BAJO IMPACTO  2019-09-30 20:00:00  2019.0   \n",
       "145867                DELITO DE BAJO IMPACTO  2019-08-29 14:00:00  2019.0   \n",
       "145868                      HOMICIDIO DOLOSO  2019-09-30 23:49:00  2019.0   \n",
       "145869                DELITO DE BAJO IMPACTO  2019-09-30 20:45:00  2019.0   \n",
       "\n",
       "               mes       sexo  edad tipopersona        calidadjuridica  \\\n",
       "0           Agosto   Femenino  24.0      FISICA  VICTIMA Y DENUNCIANTE   \n",
       "1           Agosto   Femenino  45.0      FISICA  VICTIMA Y DENUNCIANTE   \n",
       "2           Agosto        NaN   NaN       MORAL                VICTIMA   \n",
       "3       Septiembre   Femenino  40.0      FISICA  VICTIMA Y DENUNCIANTE   \n",
       "4       Septiembre   Femenino   NaN      FISICA  VICTIMA Y DENUNCIANTE   \n",
       "...            ...        ...   ...         ...                    ...   \n",
       "145865  Septiembre   Femenino  22.0      FISICA  VICTIMA Y DENUNCIANTE   \n",
       "145866  Septiembre   Femenino  20.0      FISICA  VICTIMA Y DENUNCIANTE   \n",
       "145867      Agosto   Femenino   NaN      FISICA  VICTIMA Y DENUNCIANTE   \n",
       "145868  Septiembre  Masculino  30.0      FISICA                CADAVER   \n",
       "145869  Septiembre   Femenino  55.0      FISICA  VICTIMA Y DENUNCIANTE   \n",
       "\n",
       "       clasificaciondelito        lon        lat                      geopoint  \n",
       "0              FUERO COMUN -99.165831  19.265853  19.2658532425,-99.1658309176  \n",
       "1              FUERO COMUN -99.231585  19.358567  19.3585668959,-99.2315845002  \n",
       "2              FUERO COMUN -99.041738  19.379067  19.3790668024,-99.0417384999  \n",
       "3              FUERO COMUN -99.156856  19.335144     19.3351437,-99.1568559003  \n",
       "4              FUERO COMUN -99.161371  19.317343  19.3173431639,-99.1613711149  \n",
       "...                    ...        ...        ...                           ...  \n",
       "145865         FUERO COMUN -99.202481  19.372614  19.3726139581,-99.2024805395  \n",
       "145866         FUERO COMUN -99.184197  19.397102  19.3971023956,-99.1841971002  \n",
       "145867         FUERO COMUN -99.148761  19.311488  19.3114877811,-99.1487612589  \n",
       "145868         FUERO COMUN -99.144678  19.480919  19.4809194031,-99.1446780997  \n",
       "145869         FUERO COMUN -99.138350  19.426559  19.4265593441,-99.1383501038  \n",
       "\n",
       "[145870 rows x 15 columns]"
      ]
     },
     "execution_count": 49,
     "metadata": {},
     "output_type": "execute_result"
    }
   ],
   "source": [
    "df_vic=pd.read_csv('denuncias-victimas-pgj.csv')\n",
    "df_vic\n",
    "#df_vic.shape"
   ]
  },
  {
   "cell_type": "code",
   "execution_count": 54,
   "id": "4efe0e5f",
   "metadata": {},
   "outputs": [
    {
     "data": {
      "text/html": [
       "<div>\n",
       "<style scoped>\n",
       "    .dataframe tbody tr th:only-of-type {\n",
       "        vertical-align: middle;\n",
       "    }\n",
       "\n",
       "    .dataframe tbody tr th {\n",
       "        vertical-align: top;\n",
       "    }\n",
       "\n",
       "    .dataframe thead th {\n",
       "        text-align: right;\n",
       "    }\n",
       "</style>\n",
       "<table border=\"1\" class=\"dataframe\">\n",
       "  <thead>\n",
       "    <tr style=\"text-align: right;\">\n",
       "      <th></th>\n",
       "      <th>id</th>\n",
       "      <th>idcarpeta</th>\n",
       "      <th>delito</th>\n",
       "      <th>categoria</th>\n",
       "      <th>fechahecho</th>\n",
       "      <th>ao</th>\n",
       "      <th>mes</th>\n",
       "      <th>sexo</th>\n",
       "      <th>edad</th>\n",
       "      <th>tipopersona</th>\n",
       "      <th>calidadjuridica</th>\n",
       "      <th>clasificaciondelito</th>\n",
       "      <th>lon</th>\n",
       "      <th>lat</th>\n",
       "      <th>geopoint</th>\n",
       "    </tr>\n",
       "  </thead>\n",
       "  <tbody>\n",
       "    <tr>\n",
       "      <th>145865</th>\n",
       "      <td>145865</td>\n",
       "      <td>8533929</td>\n",
       "      <td>ABUSO SEXUAL</td>\n",
       "      <td>DELITO DE BAJO IMPACTO</td>\n",
       "      <td>2019-09-28 20:00:00</td>\n",
       "      <td>2019.0</td>\n",
       "      <td>Septiembre</td>\n",
       "      <td>Femenino</td>\n",
       "      <td>22.0</td>\n",
       "      <td>FISICA</td>\n",
       "      <td>VICTIMA Y DENUNCIANTE</td>\n",
       "      <td>FUERO COMUN</td>\n",
       "      <td>-99.202481</td>\n",
       "      <td>19.372614</td>\n",
       "      <td>19.3726139581,-99.2024805395</td>\n",
       "    </tr>\n",
       "    <tr>\n",
       "      <th>145866</th>\n",
       "      <td>145866</td>\n",
       "      <td>8533931</td>\n",
       "      <td>VIOLENCIA FAMILIAR</td>\n",
       "      <td>DELITO DE BAJO IMPACTO</td>\n",
       "      <td>2019-09-30 20:00:00</td>\n",
       "      <td>2019.0</td>\n",
       "      <td>Septiembre</td>\n",
       "      <td>Femenino</td>\n",
       "      <td>20.0</td>\n",
       "      <td>FISICA</td>\n",
       "      <td>VICTIMA Y DENUNCIANTE</td>\n",
       "      <td>FUERO COMUN</td>\n",
       "      <td>-99.184197</td>\n",
       "      <td>19.397102</td>\n",
       "      <td>19.3971023956,-99.1841971002</td>\n",
       "    </tr>\n",
       "    <tr>\n",
       "      <th>145867</th>\n",
       "      <td>145867</td>\n",
       "      <td>8533933</td>\n",
       "      <td>DESPOJO</td>\n",
       "      <td>DELITO DE BAJO IMPACTO</td>\n",
       "      <td>2019-08-29 14:00:00</td>\n",
       "      <td>2019.0</td>\n",
       "      <td>Agosto</td>\n",
       "      <td>Femenino</td>\n",
       "      <td>NaN</td>\n",
       "      <td>FISICA</td>\n",
       "      <td>VICTIMA Y DENUNCIANTE</td>\n",
       "      <td>FUERO COMUN</td>\n",
       "      <td>-99.148761</td>\n",
       "      <td>19.311488</td>\n",
       "      <td>19.3114877811,-99.1487612589</td>\n",
       "    </tr>\n",
       "    <tr>\n",
       "      <th>145868</th>\n",
       "      <td>145868</td>\n",
       "      <td>8533947</td>\n",
       "      <td>HOMICIDIO POR ARMA DE FUEGO</td>\n",
       "      <td>HOMICIDIO DOLOSO</td>\n",
       "      <td>2019-09-30 23:49:00</td>\n",
       "      <td>2019.0</td>\n",
       "      <td>Septiembre</td>\n",
       "      <td>Masculino</td>\n",
       "      <td>30.0</td>\n",
       "      <td>FISICA</td>\n",
       "      <td>CADAVER</td>\n",
       "      <td>FUERO COMUN</td>\n",
       "      <td>-99.144678</td>\n",
       "      <td>19.480919</td>\n",
       "      <td>19.4809194031,-99.1446780997</td>\n",
       "    </tr>\n",
       "    <tr>\n",
       "      <th>145869</th>\n",
       "      <td>145869</td>\n",
       "      <td>8533948</td>\n",
       "      <td>ABUSO DE AUTORIDAD</td>\n",
       "      <td>DELITO DE BAJO IMPACTO</td>\n",
       "      <td>2019-09-30 20:45:00</td>\n",
       "      <td>2019.0</td>\n",
       "      <td>Septiembre</td>\n",
       "      <td>Femenino</td>\n",
       "      <td>55.0</td>\n",
       "      <td>FISICA</td>\n",
       "      <td>VICTIMA Y DENUNCIANTE</td>\n",
       "      <td>FUERO COMUN</td>\n",
       "      <td>-99.138350</td>\n",
       "      <td>19.426559</td>\n",
       "      <td>19.4265593441,-99.1383501038</td>\n",
       "    </tr>\n",
       "  </tbody>\n",
       "</table>\n",
       "</div>"
      ],
      "text/plain": [
       "            id  idcarpeta                       delito  \\\n",
       "145865  145865    8533929                 ABUSO SEXUAL   \n",
       "145866  145866    8533931           VIOLENCIA FAMILIAR   \n",
       "145867  145867    8533933                      DESPOJO   \n",
       "145868  145868    8533947  HOMICIDIO POR ARMA DE FUEGO   \n",
       "145869  145869    8533948           ABUSO DE AUTORIDAD   \n",
       "\n",
       "                     categoria           fechahecho      ao         mes  \\\n",
       "145865  DELITO DE BAJO IMPACTO  2019-09-28 20:00:00  2019.0  Septiembre   \n",
       "145866  DELITO DE BAJO IMPACTO  2019-09-30 20:00:00  2019.0  Septiembre   \n",
       "145867  DELITO DE BAJO IMPACTO  2019-08-29 14:00:00  2019.0      Agosto   \n",
       "145868        HOMICIDIO DOLOSO  2019-09-30 23:49:00  2019.0  Septiembre   \n",
       "145869  DELITO DE BAJO IMPACTO  2019-09-30 20:45:00  2019.0  Septiembre   \n",
       "\n",
       "             sexo  edad tipopersona        calidadjuridica  \\\n",
       "145865   Femenino  22.0      FISICA  VICTIMA Y DENUNCIANTE   \n",
       "145866   Femenino  20.0      FISICA  VICTIMA Y DENUNCIANTE   \n",
       "145867   Femenino   NaN      FISICA  VICTIMA Y DENUNCIANTE   \n",
       "145868  Masculino  30.0      FISICA                CADAVER   \n",
       "145869   Femenino  55.0      FISICA  VICTIMA Y DENUNCIANTE   \n",
       "\n",
       "       clasificaciondelito        lon        lat                      geopoint  \n",
       "145865         FUERO COMUN -99.202481  19.372614  19.3726139581,-99.2024805395  \n",
       "145866         FUERO COMUN -99.184197  19.397102  19.3971023956,-99.1841971002  \n",
       "145867         FUERO COMUN -99.148761  19.311488  19.3114877811,-99.1487612589  \n",
       "145868         FUERO COMUN -99.144678  19.480919  19.4809194031,-99.1446780997  \n",
       "145869         FUERO COMUN -99.138350  19.426559  19.4265593441,-99.1383501038  "
      ]
     },
     "execution_count": 54,
     "metadata": {},
     "output_type": "execute_result"
    }
   ],
   "source": [
    "df_vic.head() # Mostrar las primeras 5 filas\n",
    "df_vic.head(20)\n",
    "df_vic.tail()"
   ]
  },
  {
   "cell_type": "code",
   "execution_count": 53,
   "id": "a3ecfd24",
   "metadata": {},
   "outputs": [
    {
     "data": {
      "text/html": [
       "<div>\n",
       "<style scoped>\n",
       "    .dataframe tbody tr th:only-of-type {\n",
       "        vertical-align: middle;\n",
       "    }\n",
       "\n",
       "    .dataframe tbody tr th {\n",
       "        vertical-align: top;\n",
       "    }\n",
       "\n",
       "    .dataframe thead th {\n",
       "        text-align: right;\n",
       "    }\n",
       "</style>\n",
       "<table border=\"1\" class=\"dataframe\">\n",
       "  <thead>\n",
       "    <tr style=\"text-align: right;\">\n",
       "      <th></th>\n",
       "      <th>categoria</th>\n",
       "      <th>sexo</th>\n",
       "    </tr>\n",
       "  </thead>\n",
       "  <tbody>\n",
       "    <tr>\n",
       "      <th>0</th>\n",
       "      <td>DELITO DE BAJO IMPACTO</td>\n",
       "      <td>Femenino</td>\n",
       "    </tr>\n",
       "    <tr>\n",
       "      <th>1</th>\n",
       "      <td>DELITO DE BAJO IMPACTO</td>\n",
       "      <td>Femenino</td>\n",
       "    </tr>\n",
       "    <tr>\n",
       "      <th>2</th>\n",
       "      <td>DELITO DE BAJO IMPACTO</td>\n",
       "      <td>NaN</td>\n",
       "    </tr>\n",
       "    <tr>\n",
       "      <th>3</th>\n",
       "      <td>DELITO DE BAJO IMPACTO</td>\n",
       "      <td>Femenino</td>\n",
       "    </tr>\n",
       "    <tr>\n",
       "      <th>4</th>\n",
       "      <td>ROBO DE VEHÍCULO CON Y SIN VIOLENCIA</td>\n",
       "      <td>Femenino</td>\n",
       "    </tr>\n",
       "    <tr>\n",
       "      <th>...</th>\n",
       "      <td>...</td>\n",
       "      <td>...</td>\n",
       "    </tr>\n",
       "    <tr>\n",
       "      <th>145865</th>\n",
       "      <td>DELITO DE BAJO IMPACTO</td>\n",
       "      <td>Femenino</td>\n",
       "    </tr>\n",
       "    <tr>\n",
       "      <th>145866</th>\n",
       "      <td>DELITO DE BAJO IMPACTO</td>\n",
       "      <td>Femenino</td>\n",
       "    </tr>\n",
       "    <tr>\n",
       "      <th>145867</th>\n",
       "      <td>DELITO DE BAJO IMPACTO</td>\n",
       "      <td>Femenino</td>\n",
       "    </tr>\n",
       "    <tr>\n",
       "      <th>145868</th>\n",
       "      <td>HOMICIDIO DOLOSO</td>\n",
       "      <td>Masculino</td>\n",
       "    </tr>\n",
       "    <tr>\n",
       "      <th>145869</th>\n",
       "      <td>DELITO DE BAJO IMPACTO</td>\n",
       "      <td>Femenino</td>\n",
       "    </tr>\n",
       "  </tbody>\n",
       "</table>\n",
       "<p>145870 rows × 2 columns</p>\n",
       "</div>"
      ],
      "text/plain": [
       "                                   categoria       sexo\n",
       "0                     DELITO DE BAJO IMPACTO   Femenino\n",
       "1                     DELITO DE BAJO IMPACTO   Femenino\n",
       "2                     DELITO DE BAJO IMPACTO        NaN\n",
       "3                     DELITO DE BAJO IMPACTO   Femenino\n",
       "4       ROBO DE VEHÍCULO CON Y SIN VIOLENCIA   Femenino\n",
       "...                                      ...        ...\n",
       "145865                DELITO DE BAJO IMPACTO   Femenino\n",
       "145866                DELITO DE BAJO IMPACTO   Femenino\n",
       "145867                DELITO DE BAJO IMPACTO   Femenino\n",
       "145868                      HOMICIDIO DOLOSO  Masculino\n",
       "145869                DELITO DE BAJO IMPACTO   Femenino\n",
       "\n",
       "[145870 rows x 2 columns]"
      ]
     },
     "execution_count": 53,
     "metadata": {},
     "output_type": "execute_result"
    }
   ],
   "source": [
    "df_vic['categoria']\n",
    "df_vic[['categoria','sexo']]"
   ]
  },
  {
   "cell_type": "code",
   "execution_count": 55,
   "id": "f325fbd8",
   "metadata": {},
   "outputs": [
    {
     "data": {
      "text/plain": [
       "id                                                9\n",
       "idcarpeta                                   8511249\n",
       "delito                           ABUSO DE AUTORIDAD\n",
       "categoria                    DELITO DE BAJO IMPACTO\n",
       "fechahecho                      2019-08-31 22:30:00\n",
       "ao                                             2019\n",
       "mes                                          Agosto\n",
       "sexo                                      Masculino\n",
       "edad                                             43\n",
       "tipopersona                                  FISICA\n",
       "calidadjuridica               VICTIMA Y DENUNCIANTE\n",
       "clasificaciondelito                     FUERO COMUN\n",
       "lon                                        -99.1434\n",
       "lat                                         19.4327\n",
       "geopoint               19.4326754501,-99.1433596795\n",
       "Name: 9, dtype: object"
      ]
     },
     "execution_count": 55,
     "metadata": {},
     "output_type": "execute_result"
    }
   ],
   "source": [
    "df_vic.loc[9]"
   ]
  },
  {
   "cell_type": "code",
   "execution_count": 56,
   "id": "84d760bf",
   "metadata": {},
   "outputs": [
    {
     "data": {
      "text/html": [
       "<div>\n",
       "<style scoped>\n",
       "    .dataframe tbody tr th:only-of-type {\n",
       "        vertical-align: middle;\n",
       "    }\n",
       "\n",
       "    .dataframe tbody tr th {\n",
       "        vertical-align: top;\n",
       "    }\n",
       "\n",
       "    .dataframe thead th {\n",
       "        text-align: right;\n",
       "    }\n",
       "</style>\n",
       "<table border=\"1\" class=\"dataframe\">\n",
       "  <thead>\n",
       "    <tr style=\"text-align: right;\">\n",
       "      <th></th>\n",
       "      <th>id</th>\n",
       "      <th>idcarpeta</th>\n",
       "      <th>delito</th>\n",
       "      <th>categoria</th>\n",
       "      <th>fechahecho</th>\n",
       "      <th>ao</th>\n",
       "      <th>mes</th>\n",
       "      <th>sexo</th>\n",
       "      <th>edad</th>\n",
       "      <th>tipopersona</th>\n",
       "      <th>calidadjuridica</th>\n",
       "      <th>clasificaciondelito</th>\n",
       "      <th>lon</th>\n",
       "      <th>lat</th>\n",
       "      <th>geopoint</th>\n",
       "    </tr>\n",
       "  </thead>\n",
       "  <tbody>\n",
       "    <tr>\n",
       "      <th>9</th>\n",
       "      <td>9</td>\n",
       "      <td>8511249</td>\n",
       "      <td>ABUSO DE AUTORIDAD</td>\n",
       "      <td>DELITO DE BAJO IMPACTO</td>\n",
       "      <td>2019-08-31 22:30:00</td>\n",
       "      <td>2019.0</td>\n",
       "      <td>Agosto</td>\n",
       "      <td>Masculino</td>\n",
       "      <td>43.0</td>\n",
       "      <td>FISICA</td>\n",
       "      <td>VICTIMA Y DENUNCIANTE</td>\n",
       "      <td>FUERO COMUN</td>\n",
       "      <td>-99.143360</td>\n",
       "      <td>19.432675</td>\n",
       "      <td>19.4326754501,-99.1433596795</td>\n",
       "    </tr>\n",
       "    <tr>\n",
       "      <th>13</th>\n",
       "      <td>13</td>\n",
       "      <td>8511263</td>\n",
       "      <td>LESIONES INTENCIONALES POR ARMA BLANCA</td>\n",
       "      <td>DELITO DE BAJO IMPACTO</td>\n",
       "      <td>2019-09-01 04:00:00</td>\n",
       "      <td>2019.0</td>\n",
       "      <td>Septiembre</td>\n",
       "      <td>Masculino</td>\n",
       "      <td>52.0</td>\n",
       "      <td>FISICA</td>\n",
       "      <td>VICTIMA</td>\n",
       "      <td>FUERO COMUN</td>\n",
       "      <td>-99.101655</td>\n",
       "      <td>19.480378</td>\n",
       "      <td>19.4803782808,-99.1016551345</td>\n",
       "    </tr>\n",
       "    <tr>\n",
       "      <th>62</th>\n",
       "      <td>62</td>\n",
       "      <td>8511459</td>\n",
       "      <td>LESIONES CULPOSAS POR TRANSITO VEHICULAR</td>\n",
       "      <td>DELITO DE BAJO IMPACTO</td>\n",
       "      <td>2019-09-01 11:11:00</td>\n",
       "      <td>2019.0</td>\n",
       "      <td>Septiembre</td>\n",
       "      <td>NaN</td>\n",
       "      <td>NaN</td>\n",
       "      <td>NaN</td>\n",
       "      <td>VICTIMA Y DENUNCIANTE</td>\n",
       "      <td>FUERO COMUN</td>\n",
       "      <td>-99.090629</td>\n",
       "      <td>19.374028</td>\n",
       "      <td>19.3740277018,-99.0906285996</td>\n",
       "    </tr>\n",
       "    <tr>\n",
       "      <th>201</th>\n",
       "      <td>201</td>\n",
       "      <td>8512100</td>\n",
       "      <td>ROBO A TRANSEUNTE EN VIA PUBLICA CON VIOLENCIA</td>\n",
       "      <td>ROBO A TRANSEUNTE EN VÍA PÚBLICA CON Y SIN VIO...</td>\n",
       "      <td>2019-07-15 08:00:00</td>\n",
       "      <td>2019.0</td>\n",
       "      <td>Julio</td>\n",
       "      <td>Femenino</td>\n",
       "      <td>NaN</td>\n",
       "      <td>FISICA</td>\n",
       "      <td>VICTIMA Y DENUNCIANTE</td>\n",
       "      <td>FUERO COMUN</td>\n",
       "      <td>-99.190236</td>\n",
       "      <td>19.450644</td>\n",
       "      <td>19.4506435767,-99.1902363044</td>\n",
       "    </tr>\n",
       "  </tbody>\n",
       "</table>\n",
       "</div>"
      ],
      "text/plain": [
       "      id  idcarpeta                                          delito  \\\n",
       "9      9    8511249                              ABUSO DE AUTORIDAD   \n",
       "13    13    8511263          LESIONES INTENCIONALES POR ARMA BLANCA   \n",
       "62    62    8511459        LESIONES CULPOSAS POR TRANSITO VEHICULAR   \n",
       "201  201    8512100  ROBO A TRANSEUNTE EN VIA PUBLICA CON VIOLENCIA   \n",
       "\n",
       "                                             categoria           fechahecho  \\\n",
       "9                               DELITO DE BAJO IMPACTO  2019-08-31 22:30:00   \n",
       "13                              DELITO DE BAJO IMPACTO  2019-09-01 04:00:00   \n",
       "62                              DELITO DE BAJO IMPACTO  2019-09-01 11:11:00   \n",
       "201  ROBO A TRANSEUNTE EN VÍA PÚBLICA CON Y SIN VIO...  2019-07-15 08:00:00   \n",
       "\n",
       "         ao         mes       sexo  edad tipopersona        calidadjuridica  \\\n",
       "9    2019.0      Agosto  Masculino  43.0      FISICA  VICTIMA Y DENUNCIANTE   \n",
       "13   2019.0  Septiembre  Masculino  52.0      FISICA                VICTIMA   \n",
       "62   2019.0  Septiembre        NaN   NaN         NaN  VICTIMA Y DENUNCIANTE   \n",
       "201  2019.0       Julio   Femenino   NaN      FISICA  VICTIMA Y DENUNCIANTE   \n",
       "\n",
       "    clasificaciondelito        lon        lat                      geopoint  \n",
       "9           FUERO COMUN -99.143360  19.432675  19.4326754501,-99.1433596795  \n",
       "13          FUERO COMUN -99.101655  19.480378  19.4803782808,-99.1016551345  \n",
       "62          FUERO COMUN -99.090629  19.374028  19.3740277018,-99.0906285996  \n",
       "201         FUERO COMUN -99.190236  19.450644  19.4506435767,-99.1902363044  "
      ]
     },
     "execution_count": 56,
     "metadata": {},
     "output_type": "execute_result"
    }
   ],
   "source": [
    "df_vic.loc[[9,13,62,201]]"
   ]
  },
  {
   "cell_type": "code",
   "execution_count": 57,
   "id": "0a4ebe72",
   "metadata": {},
   "outputs": [
    {
     "data": {
      "text/html": [
       "<div>\n",
       "<style scoped>\n",
       "    .dataframe tbody tr th:only-of-type {\n",
       "        vertical-align: middle;\n",
       "    }\n",
       "\n",
       "    .dataframe tbody tr th {\n",
       "        vertical-align: top;\n",
       "    }\n",
       "\n",
       "    .dataframe thead th {\n",
       "        text-align: right;\n",
       "    }\n",
       "</style>\n",
       "<table border=\"1\" class=\"dataframe\">\n",
       "  <thead>\n",
       "    <tr style=\"text-align: right;\">\n",
       "      <th></th>\n",
       "      <th>categoria</th>\n",
       "      <th>sexo</th>\n",
       "    </tr>\n",
       "  </thead>\n",
       "  <tbody>\n",
       "    <tr>\n",
       "      <th>9</th>\n",
       "      <td>DELITO DE BAJO IMPACTO</td>\n",
       "      <td>Masculino</td>\n",
       "    </tr>\n",
       "    <tr>\n",
       "      <th>13</th>\n",
       "      <td>DELITO DE BAJO IMPACTO</td>\n",
       "      <td>Masculino</td>\n",
       "    </tr>\n",
       "    <tr>\n",
       "      <th>62</th>\n",
       "      <td>DELITO DE BAJO IMPACTO</td>\n",
       "      <td>NaN</td>\n",
       "    </tr>\n",
       "    <tr>\n",
       "      <th>201</th>\n",
       "      <td>ROBO A TRANSEUNTE EN VÍA PÚBLICA CON Y SIN VIO...</td>\n",
       "      <td>Femenino</td>\n",
       "    </tr>\n",
       "  </tbody>\n",
       "</table>\n",
       "</div>"
      ],
      "text/plain": [
       "                                             categoria       sexo\n",
       "9                               DELITO DE BAJO IMPACTO  Masculino\n",
       "13                              DELITO DE BAJO IMPACTO  Masculino\n",
       "62                              DELITO DE BAJO IMPACTO        NaN\n",
       "201  ROBO A TRANSEUNTE EN VÍA PÚBLICA CON Y SIN VIO...   Femenino"
      ]
     },
     "execution_count": 57,
     "metadata": {},
     "output_type": "execute_result"
    }
   ],
   "source": [
    "df_vic.loc[[9,13,62,201] ,['categoria','sexo'] ]"
   ]
  },
  {
   "cell_type": "code",
   "execution_count": 64,
   "id": "ffb49b4d",
   "metadata": {},
   "outputs": [
    {
     "data": {
      "text/html": [
       "<div>\n",
       "<style scoped>\n",
       "    .dataframe tbody tr th:only-of-type {\n",
       "        vertical-align: middle;\n",
       "    }\n",
       "\n",
       "    .dataframe tbody tr th {\n",
       "        vertical-align: top;\n",
       "    }\n",
       "\n",
       "    .dataframe thead th {\n",
       "        text-align: right;\n",
       "    }\n",
       "</style>\n",
       "<table border=\"1\" class=\"dataframe\">\n",
       "  <thead>\n",
       "    <tr style=\"text-align: right;\">\n",
       "      <th></th>\n",
       "      <th>id</th>\n",
       "      <th>idcarpeta</th>\n",
       "      <th>delito</th>\n",
       "      <th>categoria</th>\n",
       "      <th>fechahecho</th>\n",
       "      <th>ao</th>\n",
       "      <th>mes</th>\n",
       "      <th>sexo</th>\n",
       "      <th>edad</th>\n",
       "      <th>tipopersona</th>\n",
       "      <th>calidadjuridica</th>\n",
       "      <th>clasificaciondelito</th>\n",
       "      <th>lon</th>\n",
       "      <th>lat</th>\n",
       "      <th>geopoint</th>\n",
       "    </tr>\n",
       "  </thead>\n",
       "  <tbody>\n",
       "    <tr>\n",
       "      <th>0</th>\n",
       "      <td>0</td>\n",
       "      <td>8511202</td>\n",
       "      <td>VIOLENCIA FAMILIAR</td>\n",
       "      <td>DELITO DE BAJO IMPACTO</td>\n",
       "      <td>2019-08-31 20:30:00</td>\n",
       "      <td>2019.0</td>\n",
       "      <td>Agosto</td>\n",
       "      <td>Femenino</td>\n",
       "      <td>24.0</td>\n",
       "      <td>FISICA</td>\n",
       "      <td>VICTIMA Y DENUNCIANTE</td>\n",
       "      <td>FUERO COMUN</td>\n",
       "      <td>-99.165831</td>\n",
       "      <td>19.265853</td>\n",
       "      <td>19.2658532425,-99.1658309176</td>\n",
       "    </tr>\n",
       "    <tr>\n",
       "      <th>1</th>\n",
       "      <td>1</td>\n",
       "      <td>8511203</td>\n",
       "      <td>VIOLENCIA FAMILIAR</td>\n",
       "      <td>DELITO DE BAJO IMPACTO</td>\n",
       "      <td>2019-08-31 17:00:00</td>\n",
       "      <td>2019.0</td>\n",
       "      <td>Agosto</td>\n",
       "      <td>Femenino</td>\n",
       "      <td>45.0</td>\n",
       "      <td>FISICA</td>\n",
       "      <td>VICTIMA Y DENUNCIANTE</td>\n",
       "      <td>FUERO COMUN</td>\n",
       "      <td>-99.231585</td>\n",
       "      <td>19.358567</td>\n",
       "      <td>19.3585668959,-99.2315845002</td>\n",
       "    </tr>\n",
       "    <tr>\n",
       "      <th>3</th>\n",
       "      <td>3</td>\n",
       "      <td>8511220</td>\n",
       "      <td>ROBO DE OBJETOS DEL INTERIOR DE UN VEHICULO</td>\n",
       "      <td>DELITO DE BAJO IMPACTO</td>\n",
       "      <td>2019-09-01 00:00:00</td>\n",
       "      <td>2019.0</td>\n",
       "      <td>Septiembre</td>\n",
       "      <td>Femenino</td>\n",
       "      <td>40.0</td>\n",
       "      <td>FISICA</td>\n",
       "      <td>VICTIMA Y DENUNCIANTE</td>\n",
       "      <td>FUERO COMUN</td>\n",
       "      <td>-99.156856</td>\n",
       "      <td>19.335144</td>\n",
       "      <td>19.3351437,-99.1568559003</td>\n",
       "    </tr>\n",
       "    <tr>\n",
       "      <th>9</th>\n",
       "      <td>9</td>\n",
       "      <td>8511249</td>\n",
       "      <td>ABUSO DE AUTORIDAD</td>\n",
       "      <td>DELITO DE BAJO IMPACTO</td>\n",
       "      <td>2019-08-31 22:30:00</td>\n",
       "      <td>2019.0</td>\n",
       "      <td>Agosto</td>\n",
       "      <td>Masculino</td>\n",
       "      <td>43.0</td>\n",
       "      <td>FISICA</td>\n",
       "      <td>VICTIMA Y DENUNCIANTE</td>\n",
       "      <td>FUERO COMUN</td>\n",
       "      <td>-99.143360</td>\n",
       "      <td>19.432675</td>\n",
       "      <td>19.4326754501,-99.1433596795</td>\n",
       "    </tr>\n",
       "    <tr>\n",
       "      <th>10</th>\n",
       "      <td>10</td>\n",
       "      <td>8511252</td>\n",
       "      <td>HOMICIDIO CULPOSO POR TRÁNSITO VEHICULAR (CAIDA)</td>\n",
       "      <td>DELITO DE BAJO IMPACTO</td>\n",
       "      <td>2019-09-01 04:13:00</td>\n",
       "      <td>2019.0</td>\n",
       "      <td>Septiembre</td>\n",
       "      <td>Masculino</td>\n",
       "      <td>38.0</td>\n",
       "      <td>FISICA</td>\n",
       "      <td>CADAVER</td>\n",
       "      <td>FUERO COMUN</td>\n",
       "      <td>-99.182308</td>\n",
       "      <td>19.347488</td>\n",
       "      <td>19.3474880852,-99.1823080269</td>\n",
       "    </tr>\n",
       "    <tr>\n",
       "      <th>...</th>\n",
       "      <td>...</td>\n",
       "      <td>...</td>\n",
       "      <td>...</td>\n",
       "      <td>...</td>\n",
       "      <td>...</td>\n",
       "      <td>...</td>\n",
       "      <td>...</td>\n",
       "      <td>...</td>\n",
       "      <td>...</td>\n",
       "      <td>...</td>\n",
       "      <td>...</td>\n",
       "      <td>...</td>\n",
       "      <td>...</td>\n",
       "      <td>...</td>\n",
       "      <td>...</td>\n",
       "    </tr>\n",
       "    <tr>\n",
       "      <th>145864</th>\n",
       "      <td>145864</td>\n",
       "      <td>8533922</td>\n",
       "      <td>HOMICIDIO POR ARMA DE FUEGO</td>\n",
       "      <td>HOMICIDIO DOLOSO</td>\n",
       "      <td>2019-09-30 21:00:00</td>\n",
       "      <td>2019.0</td>\n",
       "      <td>Septiembre</td>\n",
       "      <td>Masculino</td>\n",
       "      <td>48.0</td>\n",
       "      <td>FISICA</td>\n",
       "      <td>CADAVER</td>\n",
       "      <td>FUERO COMUN</td>\n",
       "      <td>-99.119823</td>\n",
       "      <td>19.365843</td>\n",
       "      <td>19.3658431035,-99.1198226002</td>\n",
       "    </tr>\n",
       "    <tr>\n",
       "      <th>145865</th>\n",
       "      <td>145865</td>\n",
       "      <td>8533929</td>\n",
       "      <td>ABUSO SEXUAL</td>\n",
       "      <td>DELITO DE BAJO IMPACTO</td>\n",
       "      <td>2019-09-28 20:00:00</td>\n",
       "      <td>2019.0</td>\n",
       "      <td>Septiembre</td>\n",
       "      <td>Femenino</td>\n",
       "      <td>22.0</td>\n",
       "      <td>FISICA</td>\n",
       "      <td>VICTIMA Y DENUNCIANTE</td>\n",
       "      <td>FUERO COMUN</td>\n",
       "      <td>-99.202481</td>\n",
       "      <td>19.372614</td>\n",
       "      <td>19.3726139581,-99.2024805395</td>\n",
       "    </tr>\n",
       "    <tr>\n",
       "      <th>145866</th>\n",
       "      <td>145866</td>\n",
       "      <td>8533931</td>\n",
       "      <td>VIOLENCIA FAMILIAR</td>\n",
       "      <td>DELITO DE BAJO IMPACTO</td>\n",
       "      <td>2019-09-30 20:00:00</td>\n",
       "      <td>2019.0</td>\n",
       "      <td>Septiembre</td>\n",
       "      <td>Femenino</td>\n",
       "      <td>20.0</td>\n",
       "      <td>FISICA</td>\n",
       "      <td>VICTIMA Y DENUNCIANTE</td>\n",
       "      <td>FUERO COMUN</td>\n",
       "      <td>-99.184197</td>\n",
       "      <td>19.397102</td>\n",
       "      <td>19.3971023956,-99.1841971002</td>\n",
       "    </tr>\n",
       "    <tr>\n",
       "      <th>145868</th>\n",
       "      <td>145868</td>\n",
       "      <td>8533947</td>\n",
       "      <td>HOMICIDIO POR ARMA DE FUEGO</td>\n",
       "      <td>HOMICIDIO DOLOSO</td>\n",
       "      <td>2019-09-30 23:49:00</td>\n",
       "      <td>2019.0</td>\n",
       "      <td>Septiembre</td>\n",
       "      <td>Masculino</td>\n",
       "      <td>30.0</td>\n",
       "      <td>FISICA</td>\n",
       "      <td>CADAVER</td>\n",
       "      <td>FUERO COMUN</td>\n",
       "      <td>-99.144678</td>\n",
       "      <td>19.480919</td>\n",
       "      <td>19.4809194031,-99.1446780997</td>\n",
       "    </tr>\n",
       "    <tr>\n",
       "      <th>145869</th>\n",
       "      <td>145869</td>\n",
       "      <td>8533948</td>\n",
       "      <td>ABUSO DE AUTORIDAD</td>\n",
       "      <td>DELITO DE BAJO IMPACTO</td>\n",
       "      <td>2019-09-30 20:45:00</td>\n",
       "      <td>2019.0</td>\n",
       "      <td>Septiembre</td>\n",
       "      <td>Femenino</td>\n",
       "      <td>55.0</td>\n",
       "      <td>FISICA</td>\n",
       "      <td>VICTIMA Y DENUNCIANTE</td>\n",
       "      <td>FUERO COMUN</td>\n",
       "      <td>-99.138350</td>\n",
       "      <td>19.426559</td>\n",
       "      <td>19.4265593441,-99.1383501038</td>\n",
       "    </tr>\n",
       "  </tbody>\n",
       "</table>\n",
       "<p>92441 rows × 15 columns</p>\n",
       "</div>"
      ],
      "text/plain": [
       "            id  idcarpeta                                            delito  \\\n",
       "0            0    8511202                                VIOLENCIA FAMILIAR   \n",
       "1            1    8511203                                VIOLENCIA FAMILIAR   \n",
       "3            3    8511220       ROBO DE OBJETOS DEL INTERIOR DE UN VEHICULO   \n",
       "9            9    8511249                                ABUSO DE AUTORIDAD   \n",
       "10          10    8511252  HOMICIDIO CULPOSO POR TRÁNSITO VEHICULAR (CAIDA)   \n",
       "...        ...        ...                                               ...   \n",
       "145864  145864    8533922                       HOMICIDIO POR ARMA DE FUEGO   \n",
       "145865  145865    8533929                                      ABUSO SEXUAL   \n",
       "145866  145866    8533931                                VIOLENCIA FAMILIAR   \n",
       "145868  145868    8533947                       HOMICIDIO POR ARMA DE FUEGO   \n",
       "145869  145869    8533948                                ABUSO DE AUTORIDAD   \n",
       "\n",
       "                     categoria           fechahecho      ao         mes  \\\n",
       "0       DELITO DE BAJO IMPACTO  2019-08-31 20:30:00  2019.0      Agosto   \n",
       "1       DELITO DE BAJO IMPACTO  2019-08-31 17:00:00  2019.0      Agosto   \n",
       "3       DELITO DE BAJO IMPACTO  2019-09-01 00:00:00  2019.0  Septiembre   \n",
       "9       DELITO DE BAJO IMPACTO  2019-08-31 22:30:00  2019.0      Agosto   \n",
       "10      DELITO DE BAJO IMPACTO  2019-09-01 04:13:00  2019.0  Septiembre   \n",
       "...                        ...                  ...     ...         ...   \n",
       "145864        HOMICIDIO DOLOSO  2019-09-30 21:00:00  2019.0  Septiembre   \n",
       "145865  DELITO DE BAJO IMPACTO  2019-09-28 20:00:00  2019.0  Septiembre   \n",
       "145866  DELITO DE BAJO IMPACTO  2019-09-30 20:00:00  2019.0  Septiembre   \n",
       "145868        HOMICIDIO DOLOSO  2019-09-30 23:49:00  2019.0  Septiembre   \n",
       "145869  DELITO DE BAJO IMPACTO  2019-09-30 20:45:00  2019.0  Septiembre   \n",
       "\n",
       "             sexo  edad tipopersona        calidadjuridica  \\\n",
       "0        Femenino  24.0      FISICA  VICTIMA Y DENUNCIANTE   \n",
       "1        Femenino  45.0      FISICA  VICTIMA Y DENUNCIANTE   \n",
       "3        Femenino  40.0      FISICA  VICTIMA Y DENUNCIANTE   \n",
       "9       Masculino  43.0      FISICA  VICTIMA Y DENUNCIANTE   \n",
       "10      Masculino  38.0      FISICA                CADAVER   \n",
       "...           ...   ...         ...                    ...   \n",
       "145864  Masculino  48.0      FISICA                CADAVER   \n",
       "145865   Femenino  22.0      FISICA  VICTIMA Y DENUNCIANTE   \n",
       "145866   Femenino  20.0      FISICA  VICTIMA Y DENUNCIANTE   \n",
       "145868  Masculino  30.0      FISICA                CADAVER   \n",
       "145869   Femenino  55.0      FISICA  VICTIMA Y DENUNCIANTE   \n",
       "\n",
       "       clasificaciondelito        lon        lat                      geopoint  \n",
       "0              FUERO COMUN -99.165831  19.265853  19.2658532425,-99.1658309176  \n",
       "1              FUERO COMUN -99.231585  19.358567  19.3585668959,-99.2315845002  \n",
       "3              FUERO COMUN -99.156856  19.335144     19.3351437,-99.1568559003  \n",
       "9              FUERO COMUN -99.143360  19.432675  19.4326754501,-99.1433596795  \n",
       "10             FUERO COMUN -99.182308  19.347488  19.3474880852,-99.1823080269  \n",
       "...                    ...        ...        ...                           ...  \n",
       "145864         FUERO COMUN -99.119823  19.365843  19.3658431035,-99.1198226002  \n",
       "145865         FUERO COMUN -99.202481  19.372614  19.3726139581,-99.2024805395  \n",
       "145866         FUERO COMUN -99.184197  19.397102  19.3971023956,-99.1841971002  \n",
       "145868         FUERO COMUN -99.144678  19.480919  19.4809194031,-99.1446780997  \n",
       "145869         FUERO COMUN -99.138350  19.426559  19.4265593441,-99.1383501038  \n",
       "\n",
       "[92441 rows x 15 columns]"
      ]
     },
     "execution_count": 64,
     "metadata": {},
     "output_type": "execute_result"
    }
   ],
   "source": [
    "df_vic['sexo'] =='Femenino'\n",
    "df_vic.loc[df_vic['sexo'] !='Femenino'].head(10)\n",
    "df_vic.loc[df_vic['sexo'].isna()]\n",
    "df_vic.loc[df_vic['edad']>18]\n"
   ]
  },
  {
   "cell_type": "code",
   "execution_count": 67,
   "id": "e36f452b",
   "metadata": {},
   "outputs": [
    {
     "data": {
      "text/html": [
       "<div>\n",
       "<style scoped>\n",
       "    .dataframe tbody tr th:only-of-type {\n",
       "        vertical-align: middle;\n",
       "    }\n",
       "\n",
       "    .dataframe tbody tr th {\n",
       "        vertical-align: top;\n",
       "    }\n",
       "\n",
       "    .dataframe thead th {\n",
       "        text-align: right;\n",
       "    }\n",
       "</style>\n",
       "<table border=\"1\" class=\"dataframe\">\n",
       "  <thead>\n",
       "    <tr style=\"text-align: right;\">\n",
       "      <th></th>\n",
       "      <th>id</th>\n",
       "      <th>idcarpeta</th>\n",
       "      <th>delito</th>\n",
       "      <th>categoria</th>\n",
       "      <th>fechahecho</th>\n",
       "      <th>ao</th>\n",
       "      <th>mes</th>\n",
       "      <th>sexo</th>\n",
       "      <th>edad</th>\n",
       "      <th>tipopersona</th>\n",
       "      <th>calidadjuridica</th>\n",
       "      <th>clasificaciondelito</th>\n",
       "      <th>lon</th>\n",
       "      <th>lat</th>\n",
       "      <th>geopoint</th>\n",
       "    </tr>\n",
       "  </thead>\n",
       "  <tbody>\n",
       "    <tr>\n",
       "      <th>17</th>\n",
       "      <td>17</td>\n",
       "      <td>8511281</td>\n",
       "      <td>HOMICIDIO POR ARMA DE FUEGO</td>\n",
       "      <td>HOMICIDIO DOLOSO</td>\n",
       "      <td>2019-09-01 06:15:00</td>\n",
       "      <td>2019.0</td>\n",
       "      <td>Septiembre</td>\n",
       "      <td>Masculino</td>\n",
       "      <td>29.0</td>\n",
       "      <td>FISICA</td>\n",
       "      <td>CADAVER</td>\n",
       "      <td>FUERO COMUN</td>\n",
       "      <td>-98.999547</td>\n",
       "      <td>19.367240</td>\n",
       "      <td>19.367239841,-98.9995470298</td>\n",
       "    </tr>\n",
       "    <tr>\n",
       "      <th>92</th>\n",
       "      <td>92</td>\n",
       "      <td>8511541</td>\n",
       "      <td>HOMICIDIO POR ARMA BLANCA</td>\n",
       "      <td>HOMICIDIO DOLOSO</td>\n",
       "      <td>2019-09-01 07:00:00</td>\n",
       "      <td>2019.0</td>\n",
       "      <td>Septiembre</td>\n",
       "      <td>Masculino</td>\n",
       "      <td>35.0</td>\n",
       "      <td>FISICA</td>\n",
       "      <td>CADAVER</td>\n",
       "      <td>FUERO COMUN</td>\n",
       "      <td>NaN</td>\n",
       "      <td>NaN</td>\n",
       "      <td>NaN</td>\n",
       "    </tr>\n",
       "    <tr>\n",
       "      <th>135</th>\n",
       "      <td>135</td>\n",
       "      <td>8511792</td>\n",
       "      <td>HOMICIDIO POR ARMA DE FUEGO</td>\n",
       "      <td>HOMICIDIO DOLOSO</td>\n",
       "      <td>2019-09-01 20:40:00</td>\n",
       "      <td>2019.0</td>\n",
       "      <td>Septiembre</td>\n",
       "      <td>Masculino</td>\n",
       "      <td>43.0</td>\n",
       "      <td>FISICA</td>\n",
       "      <td>CADAVER</td>\n",
       "      <td>FUERO COMUN</td>\n",
       "      <td>-99.124181</td>\n",
       "      <td>19.392944</td>\n",
       "      <td>19.3929436566,-99.1241809403</td>\n",
       "    </tr>\n",
       "    <tr>\n",
       "      <th>136</th>\n",
       "      <td>136</td>\n",
       "      <td>8511792</td>\n",
       "      <td>HOMICIDIO POR ARMA DE FUEGO</td>\n",
       "      <td>HOMICIDIO DOLOSO</td>\n",
       "      <td>2019-09-01 20:40:00</td>\n",
       "      <td>2019.0</td>\n",
       "      <td>Septiembre</td>\n",
       "      <td>Femenino</td>\n",
       "      <td>25.0</td>\n",
       "      <td>FISICA</td>\n",
       "      <td>CADAVER</td>\n",
       "      <td>FUERO COMUN</td>\n",
       "      <td>-99.124181</td>\n",
       "      <td>19.392944</td>\n",
       "      <td>19.3929436566,-99.1241809403</td>\n",
       "    </tr>\n",
       "    <tr>\n",
       "      <th>144</th>\n",
       "      <td>144</td>\n",
       "      <td>8511836</td>\n",
       "      <td>HOMICIDIO POR ARMA DE FUEGO</td>\n",
       "      <td>HOMICIDIO DOLOSO</td>\n",
       "      <td>2019-09-02 01:30:00</td>\n",
       "      <td>2019.0</td>\n",
       "      <td>Septiembre</td>\n",
       "      <td>Masculino</td>\n",
       "      <td>43.0</td>\n",
       "      <td>FISICA</td>\n",
       "      <td>CADAVER</td>\n",
       "      <td>FUERO COMUN</td>\n",
       "      <td>-99.142213</td>\n",
       "      <td>19.457125</td>\n",
       "      <td>19.4571248129,-99.1422127596</td>\n",
       "    </tr>\n",
       "    <tr>\n",
       "      <th>...</th>\n",
       "      <td>...</td>\n",
       "      <td>...</td>\n",
       "      <td>...</td>\n",
       "      <td>...</td>\n",
       "      <td>...</td>\n",
       "      <td>...</td>\n",
       "      <td>...</td>\n",
       "      <td>...</td>\n",
       "      <td>...</td>\n",
       "      <td>...</td>\n",
       "      <td>...</td>\n",
       "      <td>...</td>\n",
       "      <td>...</td>\n",
       "      <td>...</td>\n",
       "      <td>...</td>\n",
       "    </tr>\n",
       "    <tr>\n",
       "      <th>145096</th>\n",
       "      <td>145096</td>\n",
       "      <td>8530436</td>\n",
       "      <td>HOMICIDIO POR ARMA DE FUEGO</td>\n",
       "      <td>HOMICIDIO DOLOSO</td>\n",
       "      <td>2019-09-26 09:49:00</td>\n",
       "      <td>2019.0</td>\n",
       "      <td>Septiembre</td>\n",
       "      <td>Masculino</td>\n",
       "      <td>38.0</td>\n",
       "      <td>FISICA</td>\n",
       "      <td>CADAVER</td>\n",
       "      <td>FUERO COMUN</td>\n",
       "      <td>-99.100114</td>\n",
       "      <td>19.349559</td>\n",
       "      <td>19.3495592324,-99.1001138104</td>\n",
       "    </tr>\n",
       "    <tr>\n",
       "      <th>145477</th>\n",
       "      <td>145477</td>\n",
       "      <td>8532096</td>\n",
       "      <td>HOMICIDIO POR ARMA DE FUEGO</td>\n",
       "      <td>HOMICIDIO DOLOSO</td>\n",
       "      <td>2019-09-28 01:38:00</td>\n",
       "      <td>2019.0</td>\n",
       "      <td>Septiembre</td>\n",
       "      <td>Masculino</td>\n",
       "      <td>33.0</td>\n",
       "      <td>FISICA</td>\n",
       "      <td>CADAVER</td>\n",
       "      <td>FUERO COMUN</td>\n",
       "      <td>NaN</td>\n",
       "      <td>NaN</td>\n",
       "      <td>NaN</td>\n",
       "    </tr>\n",
       "    <tr>\n",
       "      <th>145633</th>\n",
       "      <td>145633</td>\n",
       "      <td>8532740</td>\n",
       "      <td>HOMICIDIO POR GOLPES</td>\n",
       "      <td>HOMICIDIO DOLOSO</td>\n",
       "      <td>2019-09-29 09:15:00</td>\n",
       "      <td>2019.0</td>\n",
       "      <td>Septiembre</td>\n",
       "      <td>Masculino</td>\n",
       "      <td>24.0</td>\n",
       "      <td>FISICA</td>\n",
       "      <td>CADAVER</td>\n",
       "      <td>FUERO COMUN</td>\n",
       "      <td>-99.072530</td>\n",
       "      <td>19.241981</td>\n",
       "      <td>19.2419806963,-99.0725302998</td>\n",
       "    </tr>\n",
       "    <tr>\n",
       "      <th>145864</th>\n",
       "      <td>145864</td>\n",
       "      <td>8533922</td>\n",
       "      <td>HOMICIDIO POR ARMA DE FUEGO</td>\n",
       "      <td>HOMICIDIO DOLOSO</td>\n",
       "      <td>2019-09-30 21:00:00</td>\n",
       "      <td>2019.0</td>\n",
       "      <td>Septiembre</td>\n",
       "      <td>Masculino</td>\n",
       "      <td>48.0</td>\n",
       "      <td>FISICA</td>\n",
       "      <td>CADAVER</td>\n",
       "      <td>FUERO COMUN</td>\n",
       "      <td>-99.119823</td>\n",
       "      <td>19.365843</td>\n",
       "      <td>19.3658431035,-99.1198226002</td>\n",
       "    </tr>\n",
       "    <tr>\n",
       "      <th>145868</th>\n",
       "      <td>145868</td>\n",
       "      <td>8533947</td>\n",
       "      <td>HOMICIDIO POR ARMA DE FUEGO</td>\n",
       "      <td>HOMICIDIO DOLOSO</td>\n",
       "      <td>2019-09-30 23:49:00</td>\n",
       "      <td>2019.0</td>\n",
       "      <td>Septiembre</td>\n",
       "      <td>Masculino</td>\n",
       "      <td>30.0</td>\n",
       "      <td>FISICA</td>\n",
       "      <td>CADAVER</td>\n",
       "      <td>FUERO COMUN</td>\n",
       "      <td>-99.144678</td>\n",
       "      <td>19.480919</td>\n",
       "      <td>19.4809194031,-99.1446780997</td>\n",
       "    </tr>\n",
       "  </tbody>\n",
       "</table>\n",
       "<p>1534 rows × 15 columns</p>\n",
       "</div>"
      ],
      "text/plain": [
       "            id  idcarpeta                       delito         categoria  \\\n",
       "17          17    8511281  HOMICIDIO POR ARMA DE FUEGO  HOMICIDIO DOLOSO   \n",
       "92          92    8511541    HOMICIDIO POR ARMA BLANCA  HOMICIDIO DOLOSO   \n",
       "135        135    8511792  HOMICIDIO POR ARMA DE FUEGO  HOMICIDIO DOLOSO   \n",
       "136        136    8511792  HOMICIDIO POR ARMA DE FUEGO  HOMICIDIO DOLOSO   \n",
       "144        144    8511836  HOMICIDIO POR ARMA DE FUEGO  HOMICIDIO DOLOSO   \n",
       "...        ...        ...                          ...               ...   \n",
       "145096  145096    8530436  HOMICIDIO POR ARMA DE FUEGO  HOMICIDIO DOLOSO   \n",
       "145477  145477    8532096  HOMICIDIO POR ARMA DE FUEGO  HOMICIDIO DOLOSO   \n",
       "145633  145633    8532740         HOMICIDIO POR GOLPES  HOMICIDIO DOLOSO   \n",
       "145864  145864    8533922  HOMICIDIO POR ARMA DE FUEGO  HOMICIDIO DOLOSO   \n",
       "145868  145868    8533947  HOMICIDIO POR ARMA DE FUEGO  HOMICIDIO DOLOSO   \n",
       "\n",
       "                 fechahecho      ao         mes       sexo  edad tipopersona  \\\n",
       "17      2019-09-01 06:15:00  2019.0  Septiembre  Masculino  29.0      FISICA   \n",
       "92      2019-09-01 07:00:00  2019.0  Septiembre  Masculino  35.0      FISICA   \n",
       "135     2019-09-01 20:40:00  2019.0  Septiembre  Masculino  43.0      FISICA   \n",
       "136     2019-09-01 20:40:00  2019.0  Septiembre   Femenino  25.0      FISICA   \n",
       "144     2019-09-02 01:30:00  2019.0  Septiembre  Masculino  43.0      FISICA   \n",
       "...                     ...     ...         ...        ...   ...         ...   \n",
       "145096  2019-09-26 09:49:00  2019.0  Septiembre  Masculino  38.0      FISICA   \n",
       "145477  2019-09-28 01:38:00  2019.0  Septiembre  Masculino  33.0      FISICA   \n",
       "145633  2019-09-29 09:15:00  2019.0  Septiembre  Masculino  24.0      FISICA   \n",
       "145864  2019-09-30 21:00:00  2019.0  Septiembre  Masculino  48.0      FISICA   \n",
       "145868  2019-09-30 23:49:00  2019.0  Septiembre  Masculino  30.0      FISICA   \n",
       "\n",
       "       calidadjuridica clasificaciondelito        lon        lat  \\\n",
       "17             CADAVER         FUERO COMUN -98.999547  19.367240   \n",
       "92             CADAVER         FUERO COMUN        NaN        NaN   \n",
       "135            CADAVER         FUERO COMUN -99.124181  19.392944   \n",
       "136            CADAVER         FUERO COMUN -99.124181  19.392944   \n",
       "144            CADAVER         FUERO COMUN -99.142213  19.457125   \n",
       "...                ...                 ...        ...        ...   \n",
       "145096         CADAVER         FUERO COMUN -99.100114  19.349559   \n",
       "145477         CADAVER         FUERO COMUN        NaN        NaN   \n",
       "145633         CADAVER         FUERO COMUN -99.072530  19.241981   \n",
       "145864         CADAVER         FUERO COMUN -99.119823  19.365843   \n",
       "145868         CADAVER         FUERO COMUN -99.144678  19.480919   \n",
       "\n",
       "                            geopoint  \n",
       "17       19.367239841,-98.9995470298  \n",
       "92                               NaN  \n",
       "135     19.3929436566,-99.1241809403  \n",
       "136     19.3929436566,-99.1241809403  \n",
       "144     19.4571248129,-99.1422127596  \n",
       "...                              ...  \n",
       "145096  19.3495592324,-99.1001138104  \n",
       "145477                           NaN  \n",
       "145633  19.2419806963,-99.0725302998  \n",
       "145864  19.3658431035,-99.1198226002  \n",
       "145868  19.4809194031,-99.1446780997  \n",
       "\n",
       "[1534 rows x 15 columns]"
      ]
     },
     "execution_count": 67,
     "metadata": {},
     "output_type": "execute_result"
    }
   ],
   "source": [
    "delitos_alto_impacto=['HOMICIDIO DOLOSO','VIOLACION','SECUESTRO','ABUSO DE AUTORIDAD']\n",
    "df_vic[df_vic['categoria'].isin(delitos_alto_impacto)]"
   ]
  },
  {
   "cell_type": "code",
   "execution_count": 69,
   "id": "4e54249f",
   "metadata": {},
   "outputs": [
    {
     "data": {
      "text/html": [
       "<div>\n",
       "<style scoped>\n",
       "    .dataframe tbody tr th:only-of-type {\n",
       "        vertical-align: middle;\n",
       "    }\n",
       "\n",
       "    .dataframe tbody tr th {\n",
       "        vertical-align: top;\n",
       "    }\n",
       "\n",
       "    .dataframe thead th {\n",
       "        text-align: right;\n",
       "    }\n",
       "</style>\n",
       "<table border=\"1\" class=\"dataframe\">\n",
       "  <thead>\n",
       "    <tr style=\"text-align: right;\">\n",
       "      <th></th>\n",
       "      <th>id</th>\n",
       "      <th>idcarpeta</th>\n",
       "      <th>delito</th>\n",
       "      <th>categoria</th>\n",
       "      <th>fechahecho</th>\n",
       "      <th>ao</th>\n",
       "      <th>mes</th>\n",
       "      <th>sexo</th>\n",
       "      <th>edad</th>\n",
       "      <th>tipopersona</th>\n",
       "      <th>calidadjuridica</th>\n",
       "      <th>clasificaciondelito</th>\n",
       "      <th>lon</th>\n",
       "      <th>lat</th>\n",
       "      <th>geopoint</th>\n",
       "    </tr>\n",
       "  </thead>\n",
       "  <tbody>\n",
       "    <tr>\n",
       "      <th>0</th>\n",
       "      <td>0</td>\n",
       "      <td>8511202</td>\n",
       "      <td>VIOLENCIA FAMILIAR</td>\n",
       "      <td>DELITO DE BAJO IMPACTO</td>\n",
       "      <td>2019-08-31 20:30:00</td>\n",
       "      <td>2019.0</td>\n",
       "      <td>Agosto</td>\n",
       "      <td>Femenino</td>\n",
       "      <td>24.0</td>\n",
       "      <td>FISICA</td>\n",
       "      <td>VICTIMA Y DENUNCIANTE</td>\n",
       "      <td>FUERO COMUN</td>\n",
       "      <td>-99.165831</td>\n",
       "      <td>19.265853</td>\n",
       "      <td>19.2658532425,-99.1658309176</td>\n",
       "    </tr>\n",
       "    <tr>\n",
       "      <th>1</th>\n",
       "      <td>1</td>\n",
       "      <td>8511203</td>\n",
       "      <td>VIOLENCIA FAMILIAR</td>\n",
       "      <td>DELITO DE BAJO IMPACTO</td>\n",
       "      <td>2019-08-31 17:00:00</td>\n",
       "      <td>2019.0</td>\n",
       "      <td>Agosto</td>\n",
       "      <td>Femenino</td>\n",
       "      <td>45.0</td>\n",
       "      <td>FISICA</td>\n",
       "      <td>VICTIMA Y DENUNCIANTE</td>\n",
       "      <td>FUERO COMUN</td>\n",
       "      <td>-99.231585</td>\n",
       "      <td>19.358567</td>\n",
       "      <td>19.3585668959,-99.2315845002</td>\n",
       "    </tr>\n",
       "    <tr>\n",
       "      <th>3</th>\n",
       "      <td>3</td>\n",
       "      <td>8511220</td>\n",
       "      <td>ROBO DE OBJETOS DEL INTERIOR DE UN VEHICULO</td>\n",
       "      <td>DELITO DE BAJO IMPACTO</td>\n",
       "      <td>2019-09-01 00:00:00</td>\n",
       "      <td>2019.0</td>\n",
       "      <td>Septiembre</td>\n",
       "      <td>Femenino</td>\n",
       "      <td>40.0</td>\n",
       "      <td>FISICA</td>\n",
       "      <td>VICTIMA Y DENUNCIANTE</td>\n",
       "      <td>FUERO COMUN</td>\n",
       "      <td>-99.156856</td>\n",
       "      <td>19.335144</td>\n",
       "      <td>19.3351437,-99.1568559003</td>\n",
       "    </tr>\n",
       "    <tr>\n",
       "      <th>11</th>\n",
       "      <td>11</td>\n",
       "      <td>8511256</td>\n",
       "      <td>VIOLENCIA FAMILIAR</td>\n",
       "      <td>DELITO DE BAJO IMPACTO</td>\n",
       "      <td>2019-08-31 21:00:00</td>\n",
       "      <td>2019.0</td>\n",
       "      <td>Agosto</td>\n",
       "      <td>Femenino</td>\n",
       "      <td>24.0</td>\n",
       "      <td>FISICA</td>\n",
       "      <td>VICTIMA</td>\n",
       "      <td>FUERO COMUN</td>\n",
       "      <td>-99.104204</td>\n",
       "      <td>19.326496</td>\n",
       "      <td>19.3264961006,-99.1042044002</td>\n",
       "    </tr>\n",
       "    <tr>\n",
       "      <th>19</th>\n",
       "      <td>19</td>\n",
       "      <td>8511294</td>\n",
       "      <td>ROBO A TRANSEUNTE EN VIA PUBLICA CON VIOLENCIA</td>\n",
       "      <td>ROBO A TRANSEUNTE EN VÍA PÚBLICA CON Y SIN VIO...</td>\n",
       "      <td>2019-09-01 07:30:00</td>\n",
       "      <td>2019.0</td>\n",
       "      <td>Septiembre</td>\n",
       "      <td>Femenino</td>\n",
       "      <td>26.0</td>\n",
       "      <td>FISICA</td>\n",
       "      <td>VICTIMA Y DENUNCIANTE</td>\n",
       "      <td>FUERO COMUN</td>\n",
       "      <td>-99.042029</td>\n",
       "      <td>19.308328</td>\n",
       "      <td>19.3083278678,-99.0420286271</td>\n",
       "    </tr>\n",
       "  </tbody>\n",
       "</table>\n",
       "</div>"
      ],
      "text/plain": [
       "    id  idcarpeta                                          delito  \\\n",
       "0    0    8511202                              VIOLENCIA FAMILIAR   \n",
       "1    1    8511203                              VIOLENCIA FAMILIAR   \n",
       "3    3    8511220     ROBO DE OBJETOS DEL INTERIOR DE UN VEHICULO   \n",
       "11  11    8511256                              VIOLENCIA FAMILIAR   \n",
       "19  19    8511294  ROBO A TRANSEUNTE EN VIA PUBLICA CON VIOLENCIA   \n",
       "\n",
       "                                            categoria           fechahecho  \\\n",
       "0                              DELITO DE BAJO IMPACTO  2019-08-31 20:30:00   \n",
       "1                              DELITO DE BAJO IMPACTO  2019-08-31 17:00:00   \n",
       "3                              DELITO DE BAJO IMPACTO  2019-09-01 00:00:00   \n",
       "11                             DELITO DE BAJO IMPACTO  2019-08-31 21:00:00   \n",
       "19  ROBO A TRANSEUNTE EN VÍA PÚBLICA CON Y SIN VIO...  2019-09-01 07:30:00   \n",
       "\n",
       "        ao         mes      sexo  edad tipopersona        calidadjuridica  \\\n",
       "0   2019.0      Agosto  Femenino  24.0      FISICA  VICTIMA Y DENUNCIANTE   \n",
       "1   2019.0      Agosto  Femenino  45.0      FISICA  VICTIMA Y DENUNCIANTE   \n",
       "3   2019.0  Septiembre  Femenino  40.0      FISICA  VICTIMA Y DENUNCIANTE   \n",
       "11  2019.0      Agosto  Femenino  24.0      FISICA                VICTIMA   \n",
       "19  2019.0  Septiembre  Femenino  26.0      FISICA  VICTIMA Y DENUNCIANTE   \n",
       "\n",
       "   clasificaciondelito        lon        lat                      geopoint  \n",
       "0          FUERO COMUN -99.165831  19.265853  19.2658532425,-99.1658309176  \n",
       "1          FUERO COMUN -99.231585  19.358567  19.3585668959,-99.2315845002  \n",
       "3          FUERO COMUN -99.156856  19.335144     19.3351437,-99.1568559003  \n",
       "11         FUERO COMUN -99.104204  19.326496  19.3264961006,-99.1042044002  \n",
       "19         FUERO COMUN -99.042029  19.308328  19.3083278678,-99.0420286271  "
      ]
     },
     "execution_count": 69,
     "metadata": {},
     "output_type": "execute_result"
    }
   ],
   "source": [
    "\"\"\"\n",
    "Se pueden usar varias condiciones al mismo tiempo. Para combinar varias condiciones es necesario poner cada condición \n",
    "entre parentesis. Las condiciones se unen usando los operadores booleanos:\n",
    "\n",
    "& se cumplen ambas condiciones\n",
    "| se cumple al menos una de las condiciones\n",
    "~ negación\n",
    "\n",
    "\"\"\"\n",
    "df_vic.loc[(df_vic['sexo']=='Femenino') & (df_vic['edad']>18)].head()"
   ]
  },
  {
   "cell_type": "code",
   "execution_count": 74,
   "id": "9b7f2edc",
   "metadata": {},
   "outputs": [
    {
     "data": {
      "text/html": [
       "<div>\n",
       "<style scoped>\n",
       "    .dataframe tbody tr th:only-of-type {\n",
       "        vertical-align: middle;\n",
       "    }\n",
       "\n",
       "    .dataframe tbody tr th {\n",
       "        vertical-align: top;\n",
       "    }\n",
       "\n",
       "    .dataframe thead th {\n",
       "        text-align: right;\n",
       "    }\n",
       "</style>\n",
       "<table border=\"1\" class=\"dataframe\">\n",
       "  <thead>\n",
       "    <tr style=\"text-align: right;\">\n",
       "      <th></th>\n",
       "      <th>id</th>\n",
       "      <th>idcarpeta</th>\n",
       "      <th>delito</th>\n",
       "      <th>categoria</th>\n",
       "      <th>fechahecho</th>\n",
       "      <th>ao</th>\n",
       "      <th>mes</th>\n",
       "      <th>sexo</th>\n",
       "      <th>edad</th>\n",
       "      <th>tipopersona</th>\n",
       "      <th>calidadjuridica</th>\n",
       "      <th>clasificaciondelito</th>\n",
       "      <th>lon</th>\n",
       "      <th>lat</th>\n",
       "      <th>geopoint</th>\n",
       "    </tr>\n",
       "  </thead>\n",
       "  <tbody>\n",
       "    <tr>\n",
       "      <th>48689</th>\n",
       "      <td>48689</td>\n",
       "      <td>8417865</td>\n",
       "      <td>ROBO A CASA HABITACION SIN VIOLENCIA</td>\n",
       "      <td>DELITO DE BAJO IMPACTO</td>\n",
       "      <td>2019-04-19 17:00:00</td>\n",
       "      <td>2019.0</td>\n",
       "      <td>Abril</td>\n",
       "      <td>Femenino</td>\n",
       "      <td>100.0</td>\n",
       "      <td>FISICA</td>\n",
       "      <td>VICTIMA</td>\n",
       "      <td>FUERO COMUN</td>\n",
       "      <td>-99.204922</td>\n",
       "      <td>19.310210</td>\n",
       "      <td>19.3102100003,-99.2049224278</td>\n",
       "    </tr>\n",
       "    <tr>\n",
       "      <th>71000</th>\n",
       "      <td>71000</td>\n",
       "      <td>8443368</td>\n",
       "      <td>ABANDONO DE PERSONA</td>\n",
       "      <td>DELITO DE BAJO IMPACTO</td>\n",
       "      <td>2019-05-26 18:00:00</td>\n",
       "      <td>2019.0</td>\n",
       "      <td>Mayo</td>\n",
       "      <td>Femenino</td>\n",
       "      <td>100.0</td>\n",
       "      <td>FISICA</td>\n",
       "      <td>VICTIMA</td>\n",
       "      <td>FUERO COMUN</td>\n",
       "      <td>-99.097183</td>\n",
       "      <td>19.422686</td>\n",
       "      <td>19.4226861871,-99.0971828909</td>\n",
       "    </tr>\n",
       "    <tr>\n",
       "      <th>80253</th>\n",
       "      <td>80253</td>\n",
       "      <td>8346348</td>\n",
       "      <td>VIOLENCIA FAMILIAR</td>\n",
       "      <td>DELITO DE BAJO IMPACTO</td>\n",
       "      <td>2018-03-01 00:00:00</td>\n",
       "      <td>2018.0</td>\n",
       "      <td>Marzo</td>\n",
       "      <td>Femenino</td>\n",
       "      <td>100.0</td>\n",
       "      <td>FISICA</td>\n",
       "      <td>VICTIMA</td>\n",
       "      <td>FUERO COMUN</td>\n",
       "      <td>-99.120827</td>\n",
       "      <td>19.365765</td>\n",
       "      <td>19.3657652068,-99.1208265871</td>\n",
       "    </tr>\n",
       "    <tr>\n",
       "      <th>134964</th>\n",
       "      <td>134964</td>\n",
       "      <td>8351846</td>\n",
       "      <td>ALLANAMIENTO DE MORADA</td>\n",
       "      <td>DELITO DE BAJO IMPACTO</td>\n",
       "      <td>2019-02-02 12:00:00</td>\n",
       "      <td>2019.0</td>\n",
       "      <td>Febrero</td>\n",
       "      <td>Femenino</td>\n",
       "      <td>99.0</td>\n",
       "      <td>FISICA</td>\n",
       "      <td>VICTIMA</td>\n",
       "      <td>FUERO COMUN</td>\n",
       "      <td>-99.155329</td>\n",
       "      <td>19.292867</td>\n",
       "      <td>19.2928674019,-99.1553287713</td>\n",
       "    </tr>\n",
       "    <tr>\n",
       "      <th>105164</th>\n",
       "      <td>105164</td>\n",
       "      <td>8480158</td>\n",
       "      <td>DESPOJO</td>\n",
       "      <td>DELITO DE BAJO IMPACTO</td>\n",
       "      <td>2019-07-18 15:00:00</td>\n",
       "      <td>2019.0</td>\n",
       "      <td>Julio</td>\n",
       "      <td>Femenino</td>\n",
       "      <td>98.0</td>\n",
       "      <td>FISICA</td>\n",
       "      <td>VICTIMA Y DENUNCIANTE</td>\n",
       "      <td>FUERO COMUN</td>\n",
       "      <td>-99.212787</td>\n",
       "      <td>19.446361</td>\n",
       "      <td>19.4463612458,-99.2127871523</td>\n",
       "    </tr>\n",
       "  </tbody>\n",
       "</table>\n",
       "</div>"
      ],
      "text/plain": [
       "            id  idcarpeta                                delito  \\\n",
       "48689    48689    8417865  ROBO A CASA HABITACION SIN VIOLENCIA   \n",
       "71000    71000    8443368                   ABANDONO DE PERSONA   \n",
       "80253    80253    8346348                    VIOLENCIA FAMILIAR   \n",
       "134964  134964    8351846                ALLANAMIENTO DE MORADA   \n",
       "105164  105164    8480158                               DESPOJO   \n",
       "\n",
       "                     categoria           fechahecho      ao      mes  \\\n",
       "48689   DELITO DE BAJO IMPACTO  2019-04-19 17:00:00  2019.0    Abril   \n",
       "71000   DELITO DE BAJO IMPACTO  2019-05-26 18:00:00  2019.0     Mayo   \n",
       "80253   DELITO DE BAJO IMPACTO  2018-03-01 00:00:00  2018.0    Marzo   \n",
       "134964  DELITO DE BAJO IMPACTO  2019-02-02 12:00:00  2019.0  Febrero   \n",
       "105164  DELITO DE BAJO IMPACTO  2019-07-18 15:00:00  2019.0    Julio   \n",
       "\n",
       "            sexo   edad tipopersona        calidadjuridica  \\\n",
       "48689   Femenino  100.0      FISICA                VICTIMA   \n",
       "71000   Femenino  100.0      FISICA                VICTIMA   \n",
       "80253   Femenino  100.0      FISICA                VICTIMA   \n",
       "134964  Femenino   99.0      FISICA                VICTIMA   \n",
       "105164  Femenino   98.0      FISICA  VICTIMA Y DENUNCIANTE   \n",
       "\n",
       "       clasificaciondelito        lon        lat                      geopoint  \n",
       "48689          FUERO COMUN -99.204922  19.310210  19.3102100003,-99.2049224278  \n",
       "71000          FUERO COMUN -99.097183  19.422686  19.4226861871,-99.0971828909  \n",
       "80253          FUERO COMUN -99.120827  19.365765  19.3657652068,-99.1208265871  \n",
       "134964         FUERO COMUN -99.155329  19.292867  19.2928674019,-99.1553287713  \n",
       "105164         FUERO COMUN -99.212787  19.446361  19.4463612458,-99.2127871523  "
      ]
     },
     "execution_count": 74,
     "metadata": {},
     "output_type": "execute_result"
    }
   ],
   "source": [
    "df_vic['sexo'].sort_values()\n",
    "df_vic['sexo'].sort_values(ascending=False)\n",
    "df_vic.sort_values(['sexo','edad'],ascending=[True,False]).head()"
   ]
  },
  {
   "cell_type": "code",
   "execution_count": 75,
   "id": "cef0cc41",
   "metadata": {},
   "outputs": [
    {
     "data": {
      "text/plain": [
       "array(['DELITO DE BAJO IMPACTO', 'ROBO DE VEHÍCULO CON Y SIN VIOLENCIA',\n",
       "       'VIOLACIÓN', 'HECHO NO DELICTIVO', 'HOMICIDIO DOLOSO',\n",
       "       'LESIONES DOLOSAS POR DISPARO DE ARMA DE FUEGO',\n",
       "       'ROBO A TRANSEUNTE EN VÍA PÚBLICA CON Y SIN VIOLENCIA',\n",
       "       'ROBO A PASAJERO A BORDO DEL METRO CON Y SIN VIOLENCIA',\n",
       "       'ROBO A PASAJERO A BORDO DE MICROBUS CON Y SIN VIOLENCIA',\n",
       "       'ROBO A REPARTIDOR CON Y SIN VIOLENCIA',\n",
       "       'ROBO A TRANSPORTISTA CON Y SIN VIOLENCIA',\n",
       "       'ROBO A CASA HABITACIÓN CON VIOLENCIA',\n",
       "       'ROBO A CUENTAHABIENTE SALIENDO DEL CAJERO CON VIOLENCIA',\n",
       "       'ROBO A NEGOCIO CON VIOLENCIA',\n",
       "       'ROBO A PASAJERO A BORDO DE TAXI CON VIOLENCIA', 'SECUESTRO'],\n",
       "      dtype=object)"
      ]
     },
     "execution_count": 75,
     "metadata": {},
     "output_type": "execute_result"
    }
   ],
   "source": [
    "df_vic['categoria'].unique()"
   ]
  },
  {
   "cell_type": "code",
   "execution_count": 77,
   "id": "17eff9d7",
   "metadata": {},
   "outputs": [
    {
     "data": {
      "text/plain": [
       "Masculino           68288\n",
       "Femenino            53770\n",
       "No se especifica        5\n",
       "Name: sexo, dtype: int64"
      ]
     },
     "execution_count": 77,
     "metadata": {},
     "output_type": "execute_result"
    }
   ],
   "source": [
    "df_vic['sexo'].value_counts()"
   ]
  },
  {
   "cell_type": "code",
   "execution_count": 78,
   "id": "bc97bab1",
   "metadata": {},
   "outputs": [
    {
     "data": {
      "text/plain": [
       "Masculino           68288\n",
       "Femenino            53770\n",
       "NaN                 23807\n",
       "No se especifica        5\n",
       "Name: sexo, dtype: int64"
      ]
     },
     "execution_count": 78,
     "metadata": {},
     "output_type": "execute_result"
    }
   ],
   "source": [
    "df_vic['sexo'].value_counts(dropna=False)"
   ]
  },
  {
   "cell_type": "code",
   "execution_count": 80,
   "id": "677b18b7",
   "metadata": {},
   "outputs": [
    {
     "data": {
      "text/plain": [
       "DELITO DE BAJO IMPACTO                                  110969\n",
       "ROBO A TRANSEUNTE EN VÍA PÚBLICA CON Y SIN VIOLENCIA     10452\n",
       "ROBO DE VEHÍCULO CON Y SIN VIOLENCIA                      8516\n",
       "ROBO A NEGOCIO CON VIOLENCIA                              3352\n",
       "HECHO NO DELICTIVO                                        2633\n",
       "Name: categoria, dtype: int64"
      ]
     },
     "execution_count": 80,
     "metadata": {},
     "output_type": "execute_result"
    }
   ],
   "source": [
    "df_vic['categoria'].value_counts()[0:5]"
   ]
  },
  {
   "cell_type": "code",
   "execution_count": 81,
   "id": "95e6091c",
   "metadata": {},
   "outputs": [],
   "source": [
    "notas = {'Juan': 9, 'María': 6.5, 'Pedro': 4, 'Carmen': 8.5, 'Luis': 5}"
   ]
  },
  {
   "cell_type": "code",
   "execution_count": 82,
   "id": "df4a92b5",
   "metadata": {},
   "outputs": [],
   "source": [
    "def estadisticas_notas(notas):\n",
    "    notas=pd.Series(notas)\n",
    "    estadisticos=pd.Series([notas.min(),notas.max(),notas.mean(),notas.std()],\n",
    "                           index=['Min','Max','Media','Desviacion Tipica']\n",
    "                          )\n",
    "    return estadisticos"
   ]
  },
  {
   "cell_type": "code",
   "execution_count": 83,
   "id": "badbfa28",
   "metadata": {},
   "outputs": [
    {
     "data": {
      "text/plain": [
       "Min                  4.000000\n",
       "Max                  9.000000\n",
       "Media                6.600000\n",
       "Desviacion Tipica    2.162175\n",
       "dtype: float64"
      ]
     },
     "execution_count": 83,
     "metadata": {},
     "output_type": "execute_result"
    }
   ],
   "source": [
    "estadisticas_notas(notas)"
   ]
  },
  {
   "cell_type": "code",
   "execution_count": 86,
   "id": "6a6e4e9c",
   "metadata": {},
   "outputs": [],
   "source": [
    "import matplotlib.pyplot as plt"
   ]
  },
  {
   "cell_type": "code",
   "execution_count": 85,
   "id": "bffee748",
   "metadata": {},
   "outputs": [
    {
     "name": "stdout",
     "output_type": "stream",
     "text": [
      "Collecting matplotlib\n",
      "  Downloading matplotlib-3.5.3-cp37-cp37m-win_amd64.whl (7.2 MB)\n",
      "     ---------------------------------------- 7.2/7.2 MB 1.3 MB/s eta 0:00:00\n",
      "Collecting cycler>=0.10 (from matplotlib)\n",
      "  Downloading cycler-0.11.0-py3-none-any.whl (6.4 kB)\n",
      "Collecting fonttools>=4.22.0 (from matplotlib)\n",
      "  Downloading fonttools-4.38.0-py3-none-any.whl (965 kB)\n",
      "     -------------------------------------- 965.4/965.4 kB 1.2 MB/s eta 0:00:00\n",
      "Collecting kiwisolver>=1.0.1 (from matplotlib)\n",
      "  Downloading kiwisolver-1.4.4-cp37-cp37m-win_amd64.whl (54 kB)\n",
      "     ---------------------------------------- 54.9/54.9 kB 1.4 MB/s eta 0:00:00\n",
      "Requirement already satisfied: numpy>=1.17 in c:\\users\\armando\\appdata\\local\\programs\\python\\python37\\lib\\site-packages (from matplotlib) (1.21.6)\n",
      "Requirement already satisfied: packaging>=20.0 in c:\\users\\armando\\appdata\\local\\programs\\python\\python37\\lib\\site-packages (from matplotlib) (23.1)\n",
      "Collecting pillow>=6.2.0 (from matplotlib)\n",
      "  Downloading Pillow-9.5.0-cp37-cp37m-win_amd64.whl (2.5 MB)\n",
      "     ---------------------------------------- 2.5/2.5 MB 1.5 MB/s eta 0:00:00\n",
      "Collecting pyparsing>=2.2.1 (from matplotlib)\n",
      "  Using cached pyparsing-3.0.9-py3-none-any.whl (98 kB)\n",
      "Requirement already satisfied: python-dateutil>=2.7 in c:\\users\\armando\\appdata\\roaming\\python\\python37\\site-packages (from matplotlib) (2.8.2)\n",
      "Requirement already satisfied: typing-extensions in c:\\users\\armando\\appdata\\local\\programs\\python\\python37\\lib\\site-packages (from kiwisolver>=1.0.1->matplotlib) (4.5.0)\n",
      "Requirement already satisfied: six>=1.5 in c:\\users\\armando\\appdata\\roaming\\python\\python37\\site-packages (from python-dateutil>=2.7->matplotlib) (1.14.0)\n",
      "Installing collected packages: pyparsing, pillow, kiwisolver, fonttools, cycler, matplotlib\n",
      "Successfully installed cycler-0.11.0 fonttools-4.38.0 kiwisolver-1.4.4 matplotlib-3.5.3 pillow-9.5.0 pyparsing-3.0.9\n",
      "Note: you may need to restart the kernel to use updated packages.\n"
     ]
    }
   ],
   "source": [
    "pip install matplotlib"
   ]
  },
  {
   "cell_type": "code",
   "execution_count": 87,
   "id": "ef34945d",
   "metadata": {},
   "outputs": [],
   "source": [
    "import matplotlib.pyplot as plt\n",
    "notas = {'Programacion':9,'Mate':7.8,'Economia':4,'Historia':8}"
   ]
  },
  {
   "cell_type": "code",
   "execution_count": 88,
   "id": "cbf8ba95",
   "metadata": {},
   "outputs": [],
   "source": [
    "def diagrama_barras_notas(notas,color):\n",
    "    #Definir la figura y los ejes del Grafico Matplotlib\n",
    "    fig,ax=plt.subplots()\n",
    "    #Dibujamos las Barras con las notas que vienen desde el Diccionario\n",
    "    ax.bar(notas.keys(),notas.values(),color=color)\n",
    "    return ax"
   ]
  },
  {
   "cell_type": "code",
   "execution_count": 91,
   "id": "567c9a63",
   "metadata": {},
   "outputs": [
    {
     "data": {
      "image/png": "[encoded data removed]",
      "text/plain": [
       "<Figure size 640x480 with 1 Axes>"
      ]
     },
     "metadata": {},
     "output_type": "display_data"
    }
   ],
   "source": [
    "diagrama_barras_notas(notas,'yellow')\n",
    "plt.show()"
   ]
  },
  {
   "cell_type": "code",
   "execution_count": 93,
   "id": "564b7816",
   "metadata": {},
   "outputs": [
    {
     "name": "stdout",
     "output_type": "stream",
     "text": [
      "Introduce el Año Inicial:2017\n",
      "Introduce el Año Final:2022\n",
      "Introduce las ventas del Año2017:1200\n",
      "Introduce las ventas del Año2018:1600\n",
      "Introduce las ventas del Año2019:1870\n",
      "Introduce las ventas del Año2020:1500\n",
      "Introduce las ventas del Año2021:1200\n",
      "Introduce las ventas del Año2022:1000\n"
     ]
    },
    {
     "data": {
      "image/png": "[encoded data removed]",
      "text/plain": [
       "<Figure size 640x480 with 1 Axes>"
      ]
     },
     "metadata": {},
     "output_type": "display_data"
    }
   ],
   "source": [
    "import matplotlib.pyplot as plt\n",
    "inicio = int(input(\"Introduce el Año Inicial:\")) #2016\n",
    "fin = int(input(\"Introduce el Año Final:\")) #2022\n",
    "ventas = {}\n",
    "for item in range(inicio,fin+1):\n",
    "    ventas[item] = float(input('Introduce las ventas del Año' + str(item) + ':'))\n",
    "#Definimos la figura y los ejes del Grafico\n",
    "fig,ax=plt.subplots()\n",
    "#Dibujar la linea con las ventas a partir de la informacion que trae el diccionario\n",
    "ax.plot(ventas.keys(),ventas.values())\n",
    "#Mostrar el Grafico por pantalla\n",
    "plt.show()\n",
    "    "
   ]
  },
  {
   "cell_type": "code",
   "execution_count": 94,
   "id": "92f5b302",
   "metadata": {},
   "outputs": [],
   "source": [
    "df = pd.DataFrame({'mass':[0.330,4.87,5.97],\n",
    "                  'radius':[2439.7,6051.8,6378.8]},\n",
    "                   index=['Mercury','Venus','Earth']\n",
    "                  )"
   ]
  },
  {
   "cell_type": "code",
   "execution_count": 97,
   "id": "e9006b28",
   "metadata": {},
   "outputs": [
    {
     "data": {
      "image/png": "[encoded data removed]",
      "text/plain": [
       "<Figure size 500x500 with 1 Axes>"
      ]
     },
     "metadata": {},
     "output_type": "display_data"
    },
    {
     "data": {
      "image/png": "[encoded data removed]",
      "text/plain": [
       "<Figure size 1100x600 with 2 Axes>"
      ]
     },
     "metadata": {},
     "output_type": "display_data"
    }
   ],
   "source": [
    "df\n",
    "plot=df.plot.pie(y='mass',figsize=(5,5))\n",
    "plot=df.plot.pie(subplots=True,figsize=(11,6))"
   ]
  },
  {
   "cell_type": "code",
   "execution_count": 98,
   "id": "bc294138",
   "metadata": {},
   "outputs": [
    {
     "data": {
      "image/png": "[encoded data removed]",
      "text/plain": [
       "<Figure size 640x480 with 1 Axes>"
      ]
     },
     "metadata": {},
     "output_type": "display_data"
    }
   ],
   "source": [
    "import matplotlib.pyplot as plt\n",
    "fig,ax=plt.subplots()\n",
    "ax.pie([5,4,3,2,1])\n",
    "plt.show()"
   ]
  },
  {
   "cell_type": "code",
   "execution_count": 99,
   "id": "d1117016",
   "metadata": {},
   "outputs": [],
   "source": [
    "import numpy as np"
   ]
  },
  {
   "cell_type": "code",
   "execution_count": 100,
   "id": "2f50d30c",
   "metadata": {},
   "outputs": [
    {
     "name": "stdout",
     "output_type": "stream",
     "text": [
      "Requirement already satisfied: numpy in c:\\users\\armando\\appdata\\local\\programs\\python\\python37\\lib\\site-packages (1.21.6)\n",
      "Note: you may need to restart the kernel to use updated packages.\n"
     ]
    }
   ],
   "source": [
    "pip install numpy"
   ]
  },
  {
   "cell_type": "code",
   "execution_count": 101,
   "id": "5a9a75f2",
   "metadata": {},
   "outputs": [
    {
     "data": {
      "text/plain": [
       "array([1, 2, 3])"
      ]
     },
     "execution_count": 101,
     "metadata": {},
     "output_type": "execute_result"
    }
   ],
   "source": [
    "array1=np.array([1,2,3])\n",
    "array1"
   ]
  },
  {
   "cell_type": "code",
   "execution_count": 102,
   "id": "ebf8928c",
   "metadata": {},
   "outputs": [
    {
     "data": {
      "text/plain": [
       "array([[1, 2, 4],\n",
       "       [4, 5, 6]])"
      ]
     },
     "execution_count": 102,
     "metadata": {},
     "output_type": "execute_result"
    }
   ],
   "source": [
    "array2=np.array([[1,2,4],[4,5,6]])\n",
    "array2"
   ]
  },
  {
   "cell_type": "code",
   "execution_count": 105,
   "id": "39846aee",
   "metadata": {},
   "outputs": [
    {
     "data": {
      "text/plain": [
       "array([[[ 1,  2,  3],\n",
       "        [ 4,  5,  6]],\n",
       "\n",
       "       [[ 7,  8,  9],\n",
       "        [10, 11, 12]]])"
      ]
     },
     "execution_count": 105,
     "metadata": {},
     "output_type": "execute_result"
    }
   ],
   "source": [
    "array3=np.array([[[1,2,3],[4,5,6]],[[7,8,9],[10,11,12]]])\n",
    "array3"
   ]
  },
  {
   "cell_type": "code",
   "execution_count": 106,
   "id": "d5f2a577",
   "metadata": {},
   "outputs": [
    {
     "data": {
      "text/plain": [
       "array([[ 1,  4,  9],\n",
       "       [16, 25, 36]], dtype=int32)"
      ]
     },
     "execution_count": 106,
     "metadata": {},
     "output_type": "execute_result"
    }
   ],
   "source": [
    "a = np.array([[1,2,3],[4,5,6]])\n",
    "b = np.array([[1,1,1],[2,2,2]])\n",
    "a+b\n",
    "a/b\n",
    "a**2"
   ]
  },
  {
   "cell_type": "code",
   "execution_count": 110,
   "id": "04f346a6",
   "metadata": {},
   "outputs": [
    {
     "data": {
      "text/plain": [
       "36.2"
      ]
     },
     "execution_count": 110,
     "metadata": {},
     "output_type": "execute_result"
    }
   ],
   "source": [
    "datos = [20,2,.2,10,4]\n",
    "np.sum(datos,dtype=np.uint8)\n",
    "np.sum(datos,dtype=np.float32)\n"
   ]
  },
  {
   "cell_type": "code",
   "execution_count": 111,
   "id": "ada1ef02",
   "metadata": {},
   "outputs": [
    {
     "data": {
      "text/plain": [
       "array([1, 3, 5, 7, 9])"
      ]
     },
     "execution_count": 111,
     "metadata": {},
     "output_type": "execute_result"
    }
   ],
   "source": [
    "array4=np.arange(1,10,2)\n",
    "array4"
   ]
  },
  {
   "cell_type": "code",
   "execution_count": 112,
   "id": "9ce4d135",
   "metadata": {},
   "outputs": [
    {
     "data": {
      "text/plain": [
       "array([0., 0., 0., 0., 0.])"
      ]
     },
     "execution_count": 112,
     "metadata": {},
     "output_type": "execute_result"
    }
   ],
   "source": [
    "array5= np.zeros(5)\n",
    "array5"
   ]
  },
  {
   "cell_type": "code",
   "execution_count": 113,
   "id": "532df5a1",
   "metadata": {},
   "outputs": [
    {
     "data": {
      "text/plain": [
       "array([[0., 0., 0., 0.],\n",
       "       [0., 0., 0., 0.],\n",
       "       [0., 0., 0., 0.],\n",
       "       [0., 0., 0., 0.],\n",
       "       [0., 0., 0., 0.]])"
      ]
     },
     "execution_count": 113,
     "metadata": {},
     "output_type": "execute_result"
    }
   ],
   "source": [
    "array5= np.zeros((5,4))\n",
    "array5"
   ]
  },
  {
   "cell_type": "code",
   "execution_count": 114,
   "id": "c1f86c27",
   "metadata": {},
   "outputs": [
    {
     "data": {
      "text/plain": [
       "array([[0.63164839, 0.16064462, 0.61893438],\n",
       "       [0.78540227, 0.42334603, 0.75541927]])"
      ]
     },
     "execution_count": 114,
     "metadata": {},
     "output_type": "execute_result"
    }
   ],
   "source": [
    "array6=np.random.rand(2,3)\n",
    "array6"
   ]
  },
  {
   "cell_type": "code",
   "execution_count": 115,
   "id": "e564a6dc",
   "metadata": {},
   "outputs": [
    {
     "data": {
      "image/png": "[encoded data removed]",
      "text/plain": [
       "<Figure size 640x480 with 1 Axes>"
      ]
     },
     "metadata": {},
     "output_type": "display_data"
    }
   ],
   "source": [
    "fig,ax=plt.subplots()\n",
    "data=np.random.normal(5,1.5,size=1000)\n",
    "ax.hist(data,np.arange(0,11))\n",
    "plt.show()"
   ]
  },
  {
   "cell_type": "code",
   "execution_count": 119,
   "id": "272e1a55",
   "metadata": {},
   "outputs": [
    {
     "data": {
      "image/png": "[encoded data removed]",
      "text/plain": [
       "<Figure size 640x480 with 4 Axes>"
      ]
     },
     "metadata": {},
     "output_type": "display_data"
    }
   ],
   "source": [
    "fig,ax=plt.subplots(2,2)\n",
    "dias =['L','M','M','J','V','S','D']\n",
    "temperaturas = {'Madrid':[28.5,30.5,31,30,28,27.5,30.5],\n",
    "                'Barcelona':[24.5,25.5,26.5,25,26.5,24.5,25],\n",
    "                'Sevilla':[14.5,15.5,16.5,15,16.5,14.5,15],\n",
    "                'Cadiz':[24.5,25.5,16.5,25,16.5,24.5,15],\n",
    "                }\n",
    "\n",
    "ax[0,0].plot(dias,temperaturas['Madrid'])\n",
    "ax[0,1].plot(dias,temperaturas['Barcelona'])\n",
    "ax[1,0].bar(dias,temperaturas['Sevilla'],color='ta')\n",
    "ax[1,1].bar(dias,temperaturas['Cadiz'])\n",
    "plt.show()\n"
   ]
  },
  {
   "cell_type": "code",
   "execution_count": null,
   "id": "f72c95f2",
   "metadata": {},
   "outputs": [],
   "source": []
  }
 ],
 "metadata": {
  "kernelspec": {
   "display_name": "Python 3 (ipykernel)",
   "language": "python",
   "name": "python3"
  },
  "language_info": {
   "codemirror_mode": {
    "name": "ipython",
    "version": 3
   },
   "file_extension": ".py",
   "mimetype": "text/x-python",
   "name": "python",
   "nbconvert_exporter": "python",
   "pygments_lexer": "ipython3",
   "version": "3.7.0"
  }
 },
 "nbformat": 4,
 "nbformat_minor": 5
}
