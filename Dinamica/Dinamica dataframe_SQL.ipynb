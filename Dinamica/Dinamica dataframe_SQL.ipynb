{
 "cells": [
  {
   "cell_type": "code",
   "execution_count": null,
   "id": "2a8d119b",
   "metadata": {},
   "outputs": [],
   "source": []
  },
  {
   "cell_type": "code",
   "execution_count": null,
   "id": "328fd3ed",
   "metadata": {},
   "outputs": [],
   "source": []
  },
  {
   "cell_type": "markdown",
   "id": "76bc93d6",
   "metadata": {},
   "source": [
    "# 1.-Seleccionar los clientes que viven en el país de \"usa\""
   ]
  },
  {
   "cell_type": "code",
   "execution_count": null,
   "id": "0f5a81ca",
   "metadata": {},
   "outputs": [],
   "source": []
  },
  {
   "cell_type": "markdown",
   "id": "e8a234e3",
   "metadata": {},
   "source": [
    "# 2.-Seleccionar los empleados con código 3,5 y 8"
   ]
  },
  {
   "cell_type": "code",
   "execution_count": null,
   "id": "fe96fee2",
   "metadata": {},
   "outputs": [],
   "source": []
  },
  {
   "cell_type": "markdown",
   "id": "122c8e6b",
   "metadata": {},
   "source": [
    "# 3.- Seleccionar los productos que tienen stock mayor que cero y son del proveedor 1,3 y 5"
   ]
  },
  {
   "cell_type": "code",
   "execution_count": null,
   "id": "09d496ee",
   "metadata": {},
   "outputs": [],
   "source": []
  },
  {
   "cell_type": "markdown",
   "id": "778b3511",
   "metadata": {},
   "source": [
    "# 4.-Mostrar las órdenes de compra entre las fechas 01/01/1997 al 15/07/1997 "
   ]
  },
  {
   "cell_type": "code",
   "execution_count": null,
   "id": "6f7823f0",
   "metadata": {},
   "outputs": [],
   "source": []
  },
  {
   "cell_type": "markdown",
   "id": "3fdbe8fa",
   "metadata": {},
   "source": [
    "# 5.- Mostrar el nombre del producto, el precio, el stock y el nombre de la categoría a la que pertenece."
   ]
  },
  {
   "cell_type": "code",
   "execution_count": null,
   "id": "d8f6c58c",
   "metadata": {},
   "outputs": [],
   "source": []
  },
  {
   "cell_type": "markdown",
   "id": "b62bf0eb",
   "metadata": {},
   "source": [
    "# 6.-Mostrar el número de orden, el código del producto, el precio, la cantidad y el total pagado por producto"
   ]
  },
  {
   "cell_type": "code",
   "execution_count": null,
   "id": "cec44952",
   "metadata": {},
   "outputs": [],
   "source": []
  },
  {
   "cell_type": "markdown",
   "id": "3cb7a07c",
   "metadata": {},
   "source": [
    "# 7.-Mostrar el número de la orden, fecha, código del producto, precio, código del empleado y su nombre completo. "
   ]
  },
  {
   "cell_type": "code",
   "execution_count": null,
   "id": "e3ac824d",
   "metadata": {},
   "outputs": [],
   "source": []
  },
  {
   "cell_type": "markdown",
   "id": "b27c6594",
   "metadata": {},
   "source": [
    "# 8.- Visualizar el nombre y el id de la compania del cliente,fecha,precio unitario y producto de la orden "
   ]
  },
  {
   "cell_type": "code",
   "execution_count": null,
   "id": "2e15815f",
   "metadata": {},
   "outputs": [],
   "source": []
  },
  {
   "cell_type": "markdown",
   "id": "870d96dd",
   "metadata": {},
   "source": [
    "# 9.- Obtener todas las ordenes hechas por el empleado King Robert"
   ]
  },
  {
   "cell_type": "code",
   "execution_count": null,
   "id": "076f77b0",
   "metadata": {},
   "outputs": [],
   "source": []
  },
  {
   "cell_type": "markdown",
   "id": "e77e0ee1",
   "metadata": {},
   "source": [
    "# 10.-Obtener todos los productos(codigo,nombre,precio,stock) de las ordenes hechas desde 1997 hasta la fecha de hoy. "
   ]
  },
  {
   "cell_type": "code",
   "execution_count": null,
   "id": "93bc769c",
   "metadata": {},
   "outputs": [],
   "source": []
  }
 ],
 "metadata": {
  "kernelspec": {
   "display_name": "Python 3 (ipykernel)",
   "language": "python",
   "name": "python3"
  },
  "language_info": {
   "codemirror_mode": {
    "name": "ipython",
    "version": 3
   },
   "file_extension": ".py",
   "mimetype": "text/x-python",
   "name": "python",
   "nbconvert_exporter": "python",
   "pygments_lexer": "ipython3",
   "version": "3.7.0"
  }
 },
 "nbformat": 4,
 "nbformat_minor": 5
}
