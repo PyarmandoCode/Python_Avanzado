{
 "cells": [
  {
   "cell_type": "markdown",
   "id": "1ddf4166",
   "metadata": {},
   "source": [
    "# NLTK\n",
    "Es un conjunto de bibliotecas y programas para el procesamiento del Lenguaje Natural (PLN)\n",
    "\n",
    "* Inteligencia Artificial\n",
    "* Recuperar Informacion\n",
    "* Aprendizaje de Maquina \n",
    "\n",
    "Que los Usuarios Finales sea AutoServicio"
   ]
  },
  {
   "cell_type": "code",
   "execution_count": 1,
   "id": "a73e0f13",
   "metadata": {},
   "outputs": [
    {
     "name": "stdout",
     "output_type": "stream",
     "text": [
      "Requirement already satisfied: nltk in c:\\users\\armando\\appdata\\local\\programs\\python\\python37\\lib\\site-packages (3.8.1)\n",
      "Requirement already satisfied: click in c:\\users\\armando\\appdata\\local\\programs\\python\\python37\\lib\\site-packages (from nltk) (8.1.3)\n",
      "Requirement already satisfied: joblib in c:\\users\\armando\\appdata\\local\\programs\\python\\python37\\lib\\site-packages (from nltk) (1.2.0)\n",
      "Requirement already satisfied: regex>=2021.8.3 in c:\\users\\armando\\appdata\\local\\programs\\python\\python37\\lib\\site-packages (from nltk) (2022.10.31)\n",
      "Requirement already satisfied: tqdm in c:\\users\\armando\\appdata\\local\\programs\\python\\python37\\lib\\site-packages (from nltk) (4.65.0)\n",
      "Requirement already satisfied: colorama in c:\\users\\armando\\appdata\\roaming\\python\\python37\\site-packages (from click->nltk) (0.4.3)\n",
      "Requirement already satisfied: importlib-metadata in c:\\users\\armando\\appdata\\local\\programs\\python\\python37\\lib\\site-packages (from click->nltk) (6.0.0)\n",
      "Requirement already satisfied: zipp>=0.5 in c:\\users\\armando\\appdata\\local\\programs\\python\\python37\\lib\\site-packages (from importlib-metadata->click->nltk) (3.15.0)\n",
      "Requirement already satisfied: typing-extensions>=3.6.4 in c:\\users\\armando\\appdata\\local\\programs\\python\\python37\\lib\\site-packages (from importlib-metadata->click->nltk) (4.5.0)\n",
      "Note: you may need to restart the kernel to use updated packages.\n"
     ]
    }
   ],
   "source": [
    "pip install nltk"
   ]
  },
  {
   "cell_type": "markdown",
   "id": "ff53298d",
   "metadata": {},
   "source": [
    "* Chat .-Es una clase que contiene una logica completa para procesar datos de texto que recibe el chatbox y encontrar informacion util a partir de ellos\n",
    "* reflections .- Es un Diccionario que contiene entradas basicas y salidas correspoondientes . Tambien puede crear su propio diccionario con las respuestas que deseas y enlazarlo con un servicio o BD"
   ]
  },
  {
   "cell_type": "code",
   "execution_count": 5,
   "id": "a8dc849d",
   "metadata": {},
   "outputs": [],
   "source": [
    "from nltk.chat.util import Chat,reflections"
   ]
  },
  {
   "cell_type": "code",
   "execution_count": 7,
   "id": "57864872",
   "metadata": {},
   "outputs": [],
   "source": [
    "pares = [\n",
    "    [\n",
    "        r\"Mi nombre es Soporte\",\n",
    "        [\"Hola como estas?\",]\n",
    "    ],    \n",
    "    [\n",
    "        r\"cual es tu nombre\",\n",
    "        [\"Mi Nombre es Chatbox?\",]\n",
    "    ],    \n",
    "    [\n",
    "        r\"como estas\",\n",
    "        [\"Bien y Tu?\",]\n",
    "    ],    \n",
    "    [\n",
    "        r\"hola|hey|buenas\",\n",
    "        [\"Hola\" , \"Que sucede\",]\n",
    "    ],    \n",
    "    [\n",
    "        r\"finalizar\",\n",
    "        [\"Chao\" , \"Fue bueno hablar contigo\",]\n",
    "    ],    \n",
    "]\n",
    "\n",
    "def chatear():\n",
    "    print(\"Hola Soy un bot, escribe algo para comenzar\") #Mensaje por defecto\n",
    "    chat=Chat(pares,reflections)\n",
    "    chat.converse()\n"
   ]
  },
  {
   "cell_type": "code",
   "execution_count": 8,
   "id": "163ea20c",
   "metadata": {},
   "outputs": [
    {
     "name": "stdout",
     "output_type": "stream",
     "text": [
      "Hola Soy un bot, escribe algo para comenzar\n",
      ">como estas\n",
      "Bien y Tu?\n",
      ">cual es tu nombre\n",
      "Mi Nombre es Chatbox?\n",
      ">hey\n",
      "Hola\n",
      ">finaliza\n",
      "None\n",
      ">finalizar\n",
      "Chao\n"
     ]
    },
    {
     "ename": "KeyboardInterrupt",
     "evalue": "Interrupted by user",
     "output_type": "error",
     "traceback": [
      "\u001b[1;31m---------------------------------------------------------------------------\u001b[0m",
      "\u001b[1;31mKeyboardInterrupt\u001b[0m                         Traceback (most recent call last)",
      "\u001b[1;32m~\\AppData\\Local\\Temp\\ipykernel_15716\\3755730383.py\u001b[0m in \u001b[0;36m<module>\u001b[1;34m\u001b[0m\n\u001b[1;32m----> 1\u001b[1;33m \u001b[0mchatear\u001b[0m\u001b[1;33m(\u001b[0m\u001b[1;33m)\u001b[0m\u001b[1;33m\u001b[0m\u001b[0m\n\u001b[0m",
      "\u001b[1;32m~\\AppData\\Local\\Temp\\ipykernel_15716\\39352206.py\u001b[0m in \u001b[0;36mchatear\u001b[1;34m()\u001b[0m\n\u001b[0;32m     25\u001b[0m     \u001b[0mprint\u001b[0m\u001b[1;33m(\u001b[0m\u001b[1;34m\"Hola Soy un bot, escribe algo para comenzar\"\u001b[0m\u001b[1;33m)\u001b[0m\u001b[1;33m\u001b[0m\u001b[0m\n\u001b[0;32m     26\u001b[0m     \u001b[0mchat\u001b[0m\u001b[1;33m=\u001b[0m\u001b[0mChat\u001b[0m\u001b[1;33m(\u001b[0m\u001b[0mpares\u001b[0m\u001b[1;33m,\u001b[0m\u001b[0mreflections\u001b[0m\u001b[1;33m)\u001b[0m\u001b[1;33m\u001b[0m\u001b[0m\n\u001b[1;32m---> 27\u001b[1;33m     \u001b[0mchat\u001b[0m\u001b[1;33m.\u001b[0m\u001b[0mconverse\u001b[0m\u001b[1;33m(\u001b[0m\u001b[1;33m)\u001b[0m\u001b[1;33m\u001b[0m\u001b[0m\n\u001b[0m",
      "\u001b[1;32mc:\\users\\armando\\appdata\\local\\programs\\python\\python37\\lib\\site-packages\\nltk\\chat\\util.py\u001b[0m in \u001b[0;36mconverse\u001b[1;34m(self, quit)\u001b[0m\n\u001b[0;32m    116\u001b[0m             \u001b[0muser_input\u001b[0m \u001b[1;33m=\u001b[0m \u001b[0mquit\u001b[0m\u001b[1;33m\u001b[0m\u001b[0m\n\u001b[0;32m    117\u001b[0m             \u001b[1;32mtry\u001b[0m\u001b[1;33m:\u001b[0m\u001b[1;33m\u001b[0m\u001b[0m\n\u001b[1;32m--> 118\u001b[1;33m                 \u001b[0muser_input\u001b[0m \u001b[1;33m=\u001b[0m \u001b[0minput\u001b[0m\u001b[1;33m(\u001b[0m\u001b[1;34m\">\"\u001b[0m\u001b[1;33m)\u001b[0m\u001b[1;33m\u001b[0m\u001b[0m\n\u001b[0m\u001b[0;32m    119\u001b[0m             \u001b[1;32mexcept\u001b[0m \u001b[0mEOFError\u001b[0m\u001b[1;33m:\u001b[0m\u001b[1;33m\u001b[0m\u001b[0m\n\u001b[0;32m    120\u001b[0m                 \u001b[0mprint\u001b[0m\u001b[1;33m(\u001b[0m\u001b[0muser_input\u001b[0m\u001b[1;33m)\u001b[0m\u001b[1;33m\u001b[0m\u001b[0m\n",
      "\u001b[1;32mc:\\users\\armando\\appdata\\local\\programs\\python\\python37\\lib\\site-packages\\ipykernel\\kernelbase.py\u001b[0m in \u001b[0;36mraw_input\u001b[1;34m(self, prompt)\u001b[0m\n\u001b[0;32m   1179\u001b[0m             \u001b[0mself\u001b[0m\u001b[1;33m.\u001b[0m\u001b[0m_parent_ident\u001b[0m\u001b[1;33m[\u001b[0m\u001b[1;34m\"shell\"\u001b[0m\u001b[1;33m]\u001b[0m\u001b[1;33m,\u001b[0m\u001b[1;33m\u001b[0m\u001b[0m\n\u001b[0;32m   1180\u001b[0m             \u001b[0mself\u001b[0m\u001b[1;33m.\u001b[0m\u001b[0mget_parent\u001b[0m\u001b[1;33m(\u001b[0m\u001b[1;34m\"shell\"\u001b[0m\u001b[1;33m)\u001b[0m\u001b[1;33m,\u001b[0m\u001b[1;33m\u001b[0m\u001b[0m\n\u001b[1;32m-> 1181\u001b[1;33m             \u001b[0mpassword\u001b[0m\u001b[1;33m=\u001b[0m\u001b[1;32mFalse\u001b[0m\u001b[1;33m,\u001b[0m\u001b[1;33m\u001b[0m\u001b[0m\n\u001b[0m\u001b[0;32m   1182\u001b[0m         )\n\u001b[0;32m   1183\u001b[0m \u001b[1;33m\u001b[0m\u001b[0m\n",
      "\u001b[1;32mc:\\users\\armando\\appdata\\local\\programs\\python\\python37\\lib\\site-packages\\ipykernel\\kernelbase.py\u001b[0m in \u001b[0;36m_input_request\u001b[1;34m(self, prompt, ident, parent, password)\u001b[0m\n\u001b[0;32m   1217\u001b[0m             \u001b[1;32mexcept\u001b[0m \u001b[0mKeyboardInterrupt\u001b[0m\u001b[1;33m:\u001b[0m\u001b[1;33m\u001b[0m\u001b[0m\n\u001b[0;32m   1218\u001b[0m                 \u001b[1;31m# re-raise KeyboardInterrupt, to truncate traceback\u001b[0m\u001b[1;33m\u001b[0m\u001b[1;33m\u001b[0m\u001b[0m\n\u001b[1;32m-> 1219\u001b[1;33m                 \u001b[1;32mraise\u001b[0m \u001b[0mKeyboardInterrupt\u001b[0m\u001b[1;33m(\u001b[0m\u001b[1;34m\"Interrupted by user\"\u001b[0m\u001b[1;33m)\u001b[0m \u001b[1;32mfrom\u001b[0m \u001b[1;32mNone\u001b[0m\u001b[1;33m\u001b[0m\u001b[0m\n\u001b[0m\u001b[0;32m   1220\u001b[0m             \u001b[1;32mexcept\u001b[0m \u001b[0mException\u001b[0m\u001b[1;33m:\u001b[0m\u001b[1;33m\u001b[0m\u001b[0m\n\u001b[0;32m   1221\u001b[0m                 \u001b[0mself\u001b[0m\u001b[1;33m.\u001b[0m\u001b[0mlog\u001b[0m\u001b[1;33m.\u001b[0m\u001b[0mwarning\u001b[0m\u001b[1;33m(\u001b[0m\u001b[1;34m\"Invalid Message:\"\u001b[0m\u001b[1;33m,\u001b[0m \u001b[0mexc_info\u001b[0m\u001b[1;33m=\u001b[0m\u001b[1;32mTrue\u001b[0m\u001b[1;33m)\u001b[0m\u001b[1;33m\u001b[0m\u001b[0m\n",
      "\u001b[1;31mKeyboardInterrupt\u001b[0m: Interrupted by user"
     ]
    }
   ],
   "source": [
    "chatear()"
   ]
  },
  {
   "cell_type": "markdown",
   "id": "0b915a05",
   "metadata": {},
   "source": [
    "# Ejemplo 2"
   ]
  },
  {
   "cell_type": "code",
   "execution_count": 13,
   "id": "d438252b",
   "metadata": {},
   "outputs": [],
   "source": [
    "pares = [\n",
    "    [\n",
    "        r\"mi nombre es (.*)\",\n",
    "        [\"Hola %1, ¿cómo estás hoy?\",]\n",
    "    ],\n",
    "    [\n",
    "        r\"hola|hola|hola\",\n",
    "        [\"Hola\", \"Hola\",]\n",
    "    ],\n",
    "    [\n",
    "        r\"¿Cuál es tu nombre?\",\n",
    "        [\"Soy un bot creado por Analytics Vidhya. ¡Puedes llamarme loco!\",]\n",
    "    ],\n",
    "    [\n",
    "        r\"¿cómo estás?\",\n",
    "        [\"Estoy bien. ¿Qué hay de ti?\",]\n",
    "    ],\n",
    "    [\n",
    "        r\"lo siento (.*)\",\n",
    "        [\"Está bien\",\"Está bien, no importa\",]\n",
    "    ],\n",
    "    [\n",
    "        r\"Estoy bien\",\n",
    "        [\"Es genial escuchar eso, ¿cómo puedo ayudarte?\",]\n",
    "    ],\n",
    "    [\n",
    "        r\"estoy (.*) bien\",\n",
    "        [\"Es bueno escuchar eso\",\"¿Cómo puedo ayudarte? :)\",]\n",
    "    ],\n",
    "    [\n",
    "        r\"¿furia?\",\n",
    "        [\"Soy un programa de computadora amigo, ¿en serio me estás preguntando esto?\",]\n",
    "    ],\n",
    "    [\n",
    "        r\"¿Qué (.*) quieres?\",\n",
    "        [\"Hazme una oferta que no pueda rechazar\",]\n",
    "    ],\n",
    "    [\n",
    "        r\"(.*) creado?\",\n",
    "        [\"Raghav me creó usando la biblioteca NLTK de Python\", \"top secret;)\",]\n",
    "    ],\n",
    "    [\n",
    "        r\"(.*) (ubicación|ciudad) ?\",\n",
    "        ['Indore, Madhya Pradesh',]\n",
    "    ],\n",
    "    [\n",
    "        r\"¿Cómo está el tiempo en (.*)?\",\n",
    "        [\"El clima en %1 es increíble como siempre\",\"Muy caluroso aquí en %1\",\"Muy frío aquí en %1\",\"Ni siquiera he oído hablar de %1\"]\n",
    "    ],\n",
    "    [\n",
    "        r\"(.*)lluvia en (.*)\",\n",
    "        [\"No ha llovido desde la semana pasada aquí en %2\",\"Maldita sea, está lloviendo demasiado aquí en %2\"]\n",
    "    ],\n",
    "    [\n",
    "        r\"cómo (.*) salud (.*)\",\n",
    "        [\"Soy un programa de computadora, así que siempre estoy saludable\",]\n",
    "    ],\n",
    "    [\n",
    "        r\"(.*) (deportes|juego) ?\",\n",
    "        [\"Soy un gran fanático del fútbol\",]\n",
    "    ],\n",
    "    [\n",
    "        r\"¿quién (.*) deportista?\",\n",
    "        [\"Desordenado\",\"Ronaldo\",\"Roony\"]\n",
    "    ],\n",
    "    [\n",
    "        r\"¿quién (.*) (estrella de cine|actor)?\",\n",
    "        [\"Brad Pitt\"]\n",
    "    ],\n",
    "    [\n",
    "        r\"Estoy buscando guías y cursos en línea para aprender ciencia de datos, ¿puede sugerirme?\",\n",
    "        [\"Crazy_Tech tiene muchos artículos excelentes con la explicación de cada paso junto con el código que puede explorar\"]\n",
    "    ],\n",
    "    [\n",
    "        r\"salir\",\n",
    "        [\"BBye, cuídate. Nos vemos pronto :) \",\" Fue un placer hablar contigo. Hasta pronto :)\"]\n",
    "    ],\n",
    "]\n",
    "\n",
    "def chat():\n",
    "    print(\"hola Soy un chatbox creado para dar soporte al cliente\")\n",
    "    chat=Chat(pares,reflections)\n",
    "    chat.converse()"
   ]
  },
  {
   "cell_type": "code",
   "execution_count": null,
   "id": "f66c802e",
   "metadata": {},
   "outputs": [
    {
     "name": "stdout",
     "output_type": "stream",
     "text": [
      "hola Soy un chatbox creado para dar soporte al cliente\n",
      ">Estoy buscando guías y cursos en línea para aprender ciencia de datos, ¿puede sugerirme?\n",
      "Crazy_Tech tiene muchos artículos excelentes con la explicación de cada paso junto con el código que puede explorar\n"
     ]
    }
   ],
   "source": [
    "chat()\n"
   ]
  },
  {
   "cell_type": "code",
   "execution_count": null,
   "id": "74f2d788",
   "metadata": {},
   "outputs": [],
   "source": []
  }
 ],
 "metadata": {
  "kernelspec": {
   "display_name": "Python 3 (ipykernel)",
   "language": "python",
   "name": "python3"
  },
  "language_info": {
   "codemirror_mode": {
    "name": "ipython",
    "version": 3
   },
   "file_extension": ".py",
   "mimetype": "text/x-python",
   "name": "python",
   "nbconvert_exporter": "python",
   "pygments_lexer": "ipython3",
   "version": "3.7.0"
  }
 },
 "nbformat": 4,
 "nbformat_minor": 5
}
