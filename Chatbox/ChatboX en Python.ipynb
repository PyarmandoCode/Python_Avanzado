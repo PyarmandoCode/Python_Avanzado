{
 "cells": [
  {
   "cell_type": "markdown",
   "id": "7b5533ee",
   "metadata": {},
   "source": [
    "# NLTK\n",
    "Es un conjunto de bibliotecas y programas para el procesamiento del Lenguaje Natural (PLN)\n",
    "\n",
    "* Inteligencia Artificial\n",
    "* Recuperar Informacion\n",
    "* Aprendizaje de Maquina \n",
    "\n",
    "Que los Usuarios Finales sea AutoServicio"
   ]
  },
  {
   "cell_type": "code",
   "execution_count": 1,
   "id": "762cf9a9",
   "metadata": {},
   "outputs": [
    {
     "name": "stdout",
     "output_type": "stream",
     "text": [
      "Requirement already satisfied: nltk in c:\\users\\armando\\appdata\\local\\programs\\python\\python37\\lib\\site-packages (3.8.1)\n",
      "Requirement already satisfied: click in c:\\users\\armando\\appdata\\local\\programs\\python\\python37\\lib\\site-packages (from nltk) (8.1.3)\n",
      "Requirement already satisfied: joblib in c:\\users\\armando\\appdata\\local\\programs\\python\\python37\\lib\\site-packages (from nltk) (1.2.0)\n",
      "Requirement already satisfied: regex>=2021.8.3 in c:\\users\\armando\\appdata\\local\\programs\\python\\python37\\lib\\site-packages (from nltk) (2022.10.31)\n",
      "Requirement already satisfied: tqdm in c:\\users\\armando\\appdata\\local\\programs\\python\\python37\\lib\\site-packages (from nltk) (4.65.0)\n",
      "Requirement already satisfied: colorama in c:\\users\\armando\\appdata\\roaming\\python\\python37\\site-packages (from click->nltk) (0.4.3)\n",
      "Requirement already satisfied: importlib-metadata in c:\\users\\armando\\appdata\\local\\programs\\python\\python37\\lib\\site-packages (from click->nltk) (6.0.0)\n",
      "Requirement already satisfied: zipp>=0.5 in c:\\users\\armando\\appdata\\local\\programs\\python\\python37\\lib\\site-packages (from importlib-metadata->click->nltk) (3.15.0)\n",
      "Requirement already satisfied: typing-extensions>=3.6.4 in c:\\users\\armando\\appdata\\local\\programs\\python\\python37\\lib\\site-packages (from importlib-metadata->click->nltk) (4.5.0)\n",
      "Note: you may need to restart the kernel to use updated packages.\n"
     ]
    }
   ],
   "source": [
    "pip install nltk"
   ]
  },
  {
   "cell_type": "markdown",
   "id": "f510f06f",
   "metadata": {},
   "source": [
    "* Chat .-Es una clase que contiene una logica completa para procesar datos de texto que recibe el chatbox y encontrar informacion util a partir de ellos\n",
    "* reflections .- Es un Diccionario que contiene entradas basicas y salidas correspoondientes . Tambien puede crear su propio diccionario con las respuestas que deseas y enlazarlo con un servicio o BD"
   ]
  },
  {
   "cell_type": "code",
   "execution_count": 5,
   "id": "8dd6932c",
   "metadata": {},
   "outputs": [],
   "source": [
    "from nltk.chat.util import Chat,reflections"
   ]
  },
  {
   "cell_type": "code",
   "execution_count": 7,
   "id": "80956d80",
   "metadata": {},
   "outputs": [],
   "source": [
    "pares = [\n",
    "    [\n",
    "        r\"Mi nombre es Soporte\",\n",
    "        [\"Hola como estas?\",]\n",
    "    ],    \n",
    "    [\n",
    "        r\"cual es tu nombre\",\n",
    "        [\"Mi Nombre es Chatbox?\",]\n",
    "    ],    \n",
    "    [\n",
    "        r\"como estas\",\n",
    "        [\"Bien y Tu?\",]\n",
    "    ],    \n",
    "    [\n",
    "        r\"hola|hey|buenas\",\n",
    "        [\"Hola\" , \"Que sucede\",]\n",
    "    ],    \n",
    "    [\n",
    "        r\"finalizar\",\n",
    "        [\"Chao\" , \"Fue bueno hablar contigo\",]\n",
    "    ],    \n",
    "]\n",
    "\n",
    "def chatear():\n",
    "    print(\"Hola Soy un bot, escribe algo para comenzar\") #Mensaje por defecto\n",
    "    chat=Chat(pares,reflections)\n",
    "    chat.converse()\n"
   ]
  },
  {
   "cell_type": "markdown",
   "id": "00ade2be",
   "metadata": {},
   "source": [
    "# Ejemplo 2"
   ]
  },
  {
   "cell_type": "code",
   "execution_count": 13,
   "id": "0241a131",
   "metadata": {},
   "outputs": [],
   "source": [
    "pares = [\n",
    "    [\n",
    "        r\"mi nombre es (.*)\",\n",
    "        [\"Hola %1, ¿cómo estás hoy?\",]\n",
    "    ],\n",
    "    [\n",
    "        r\"hola|hola|hola\",\n",
    "        [\"Hola\", \"Hola\",]\n",
    "    ],\n",
    "    [\n",
    "        r\"¿Cuál es tu nombre?\",\n",
    "        [\"Soy un bot creado por Analytics Vidhya. ¡Puedes llamarme loco!\",]\n",
    "    ],\n",
    "    [\n",
    "        r\"¿cómo estás?\",\n",
    "        [\"Estoy bien. ¿Qué hay de ti?\",]\n",
    "    ],\n",
    "    [\n",
    "        r\"lo siento (.*)\",\n",
    "        [\"Está bien\",\"Está bien, no importa\",]\n",
    "    ],\n",
    "    [\n",
    "        r\"Estoy bien\",\n",
    "        [\"Es genial escuchar eso, ¿cómo puedo ayudarte?\",]\n",
    "    ],\n",
    "    [\n",
    "        r\"estoy (.*) bien\",\n",
    "        [\"Es bueno escuchar eso\",\"¿Cómo puedo ayudarte? :)\",]\n",
    "    ],\n",
    "    [\n",
    "        r\"¿furia?\",\n",
    "        [\"Soy un programa de computadora amigo, ¿en serio me estás preguntando esto?\",]\n",
    "    ],\n",
    "    [\n",
    "        r\"¿Qué (.*) quieres?\",\n",
    "        [\"Hazme una oferta que no pueda rechazar\",]\n",
    "    ],\n",
    "    [\n",
    "        r\"(.*) creado?\",\n",
    "        [\"Raghav me creó usando la biblioteca NLTK de Python\", \"top secret;)\",]\n",
    "    ],\n",
    "    [\n",
    "        r\"(.*) (ubicación|ciudad) ?\",\n",
    "        ['Indore, Madhya Pradesh',]\n",
    "    ],\n",
    "    [\n",
    "        r\"¿Cómo está el tiempo en (.*)?\",\n",
    "        [\"El clima en %1 es increíble como siempre\",\"Muy caluroso aquí en %1\",\"Muy frío aquí en %1\",\"Ni siquiera he oído hablar de %1\"]\n",
    "    ],\n",
    "    [\n",
    "        r\"(.*)lluvia en (.*)\",\n",
    "        [\"No ha llovido desde la semana pasada aquí en %2\",\"Maldita sea, está lloviendo demasiado aquí en %2\"]\n",
    "    ],\n",
    "    [\n",
    "        r\"cómo (.*) salud (.*)\",\n",
    "        [\"Soy un programa de computadora, así que siempre estoy saludable\",]\n",
    "    ],\n",
    "    [\n",
    "        r\"(.*) (deportes|juego) ?\",\n",
    "        [\"Soy un gran fanático del fútbol\",]\n",
    "    ],\n",
    "    [\n",
    "        r\"¿quién (.*) deportista?\",\n",
    "        [\"Desordenado\",\"Ronaldo\",\"Roony\"]\n",
    "    ],\n",
    "    [\n",
    "        r\"¿quién (.*) (estrella de cine|actor)?\",\n",
    "        [\"Brad Pitt\"]\n",
    "    ],\n",
    "    [\n",
    "        r\"Estoy buscando guías y cursos en línea para aprender ciencia de datos, ¿puede sugerirme?\",\n",
    "        [\"Crazy_Tech tiene muchos artículos excelentes con la explicación de cada paso junto con el código que puede explorar\"]\n",
    "    ],\n",
    "    [\n",
    "        r\"salir\",\n",
    "        [\"BBye, cuídate. Nos vemos pronto :) \",\" Fue un placer hablar contigo. Hasta pronto :)\"]\n",
    "    ],\n",
    "]\n",
    "\n",
    "def chat():\n",
    "    print(\"hola Soy un chatbox creado para dar soporte al cliente\")\n",
    "    chat=Chat(pares,reflections)\n",
    "    chat.converse()"
   ]
  },
  {
   "cell_type": "code",
   "execution_count": null,
   "id": "bfc8cda1",
   "metadata": {},
   "outputs": [],
   "source": [
    "pip install tkinter"
   ]
  },
  {
   "cell_type": "code",
   "execution_count": null,
   "id": "530370d0",
   "metadata": {},
   "outputs": [],
   "source": []
  }
 ],
 "metadata": {
  "kernelspec": {
   "display_name": "Python 3 (ipykernel)",
   "language": "python",
   "name": "python3"
  },
  "language_info": {
   "codemirror_mode": {
    "name": "ipython",
    "version": 3
   },
   "file_extension": ".py",
   "mimetype": "text/x-python",
   "name": "python",
   "nbconvert_exporter": "python",
   "pygments_lexer": "ipython3",
   "version": "3.7.0"
  }
 },
 "nbformat": 4,
 "nbformat_minor": 5
}
