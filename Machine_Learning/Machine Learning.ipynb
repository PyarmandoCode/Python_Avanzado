{
 "cells": [
  {
   "cell_type": "markdown",
   "id": "2770106c",
   "metadata": {},
   "source": [
    "# Machine Learning\n",
    "Aprendizaje Automatico \n",
    "Buscar desarrollar Software capaz de reconocer patrones dentro de un conjunto de datos, para posteriormente realizar un aprendizaje y por ultimo poder construir un modelo que represente dicho conjunto.\n",
    "\n",
    "- Set datos\n",
    "- Algortimo de Prediccion\n",
    "- Entrenar el Modelo\n",
    "- Predicciones"
   ]
  },
  {
   "cell_type": "markdown",
   "id": "75171a50",
   "metadata": {},
   "source": [
    "# Modelo en ML \n",
    "Es una expresion de un algoritmo que analiza montaña de datos para encontrar patrones o realizar predicciones, impulsado por los datos , los Modelos de ML son los motores matematicos de la IA\n"
   ]
  },
  {
   "cell_type": "markdown",
   "id": "c2e79510",
   "metadata": {},
   "source": [
    "# Entrenamiento de un Modelo\n",
    "Consiste en proporcionar datos de entrenamiento de los cuales puede aprender a un algortimo de ML. el termino modelo de ML \n",
    "se refiere al artefacto de modelo que se crera en el proceso de entrenamiento"
   ]
  },
  {
   "cell_type": "markdown",
   "id": "bdec8bd5",
   "metadata": {},
   "source": [
    "# Regresion Lineal\n",
    "Metodo Matematico que modela la relacion entre una variable independiente \"x\" y una variable dependiente \"y\" por medio de una expresion lineal que busca asemajarse en medida a los datos reales para las predicciones.\n",
    "Una Regresion Lineal se utiliza para generar predicciones sonre una variable numerica que llamamos la variable dependiente.\n",
    "Generalmente denonimada con una Y.\n",
    "Siempre debe ser numericas ejm: Precios de Casa, estauras,la ditancia de los planetas etc"
   ]
  },
  {
   "cell_type": "markdown",
   "id": "db6fcca0",
   "metadata": {},
   "source": [
    "\n",
    "<img src=\"RegLin.png\"/>"
   ]
  },
  {
   "cell_type": "markdown",
   "id": "ade434ae",
   "metadata": {},
   "source": [
    "# Ejercicio de Prediccion\n",
    "Intenraremos predecir cuantas veces sera compartido en redes sociales un articulo de ML segun algunas de sus caracteristicas Prediccion ¿Cuantas veces sera compartido un articulo del Blog?"
   ]
  },
  {
   "cell_type": "code",
   "execution_count": 15,
   "id": "d0e89db3",
   "metadata": {},
   "outputs": [],
   "source": [
    "import pandas as pd\n",
    "import numpy as np\n",
    "import matplotlib.pyplot as plt\n",
    "%matplotlib inline\n",
    "import seaborn as sb\n",
    "from sklearn import linear_model\n",
    "plt.rcParams['figure.figsize'] = (16,9)\n",
    "plt.style.use('ggplot')\n",
    "from sklearn.metrics import mean_squared_error, r2_score\n"
   ]
  },
  {
   "cell_type": "code",
   "execution_count": 1,
   "id": "062bce59",
   "metadata": {},
   "outputs": [
    {
     "name": "stdout",
     "output_type": "stream",
     "text": [
      "Requirement already satisfied: seaborn in c:\\users\\armando\\appdata\\local\\programs\\python\\python37\\lib\\site-packages (0.12.2)\n",
      "Requirement already satisfied: numpy!=1.24.0,>=1.17 in c:\\users\\armando\\appdata\\local\\programs\\python\\python37\\lib\\site-packages (from seaborn) (1.21.6)\n",
      "Requirement already satisfied: pandas>=0.25 in c:\\users\\armando\\appdata\\local\\programs\\python\\python37\\lib\\site-packages (from seaborn) (1.1.5)\n",
      "Requirement already satisfied: matplotlib!=3.6.1,>=3.1 in c:\\users\\armando\\appdata\\local\\programs\\python\\python37\\lib\\site-packages (from seaborn) (3.5.3)\n",
      "Requirement already satisfied: typing_extensions in c:\\users\\armando\\appdata\\local\\programs\\python\\python37\\lib\\site-packages (from seaborn) (4.5.0)\n",
      "Requirement already satisfied: cycler>=0.10 in c:\\users\\armando\\appdata\\local\\programs\\python\\python37\\lib\\site-packages (from matplotlib!=3.6.1,>=3.1->seaborn) (0.11.0)\n",
      "Requirement already satisfied: fonttools>=4.22.0 in c:\\users\\armando\\appdata\\local\\programs\\python\\python37\\lib\\site-packages (from matplotlib!=3.6.1,>=3.1->seaborn) (4.38.0)\n",
      "Requirement already satisfied: kiwisolver>=1.0.1 in c:\\users\\armando\\appdata\\local\\programs\\python\\python37\\lib\\site-packages (from matplotlib!=3.6.1,>=3.1->seaborn) (1.4.4)\n",
      "Requirement already satisfied: packaging>=20.0 in c:\\users\\armando\\appdata\\local\\programs\\python\\python37\\lib\\site-packages (from matplotlib!=3.6.1,>=3.1->seaborn) (23.1)\n",
      "Requirement already satisfied: pillow>=6.2.0 in c:\\users\\armando\\appdata\\local\\programs\\python\\python37\\lib\\site-packages (from matplotlib!=3.6.1,>=3.1->seaborn) (9.5.0)\n",
      "Requirement already satisfied: pyparsing>=2.2.1 in c:\\users\\armando\\appdata\\local\\programs\\python\\python37\\lib\\site-packages (from matplotlib!=3.6.1,>=3.1->seaborn) (3.0.9)\n",
      "Requirement already satisfied: python-dateutil>=2.7 in c:\\users\\armando\\appdata\\roaming\\python\\python37\\site-packages (from matplotlib!=3.6.1,>=3.1->seaborn) (2.8.2)\n",
      "Requirement already satisfied: pytz>=2017.2 in c:\\users\\armando\\appdata\\local\\programs\\python\\python37\\lib\\site-packages (from pandas>=0.25->seaborn) (2023.3)\n",
      "Requirement already satisfied: six>=1.5 in c:\\users\\armando\\appdata\\roaming\\python\\python37\\site-packages (from python-dateutil>=2.7->matplotlib!=3.6.1,>=3.1->seaborn) (1.14.0)\n",
      "Note: you may need to restart the kernel to use updated packages.\n"
     ]
    }
   ],
   "source": [
    "pip install seaborn"
   ]
  },
  {
   "cell_type": "code",
   "execution_count": 2,
   "id": "5ce289ea",
   "metadata": {},
   "outputs": [
    {
     "name": "stdout",
     "output_type": "stream",
     "text": [
      "Requirement already satisfied: scikit-learn in c:\\users\\armando\\appdata\\local\\programs\\python\\python37\\lib\\site-packages (1.0.2)\n",
      "Requirement already satisfied: numpy>=1.14.6 in c:\\users\\armando\\appdata\\local\\programs\\python\\python37\\lib\\site-packages (from scikit-learn) (1.21.6)\n",
      "Requirement already satisfied: scipy>=1.1.0 in c:\\users\\armando\\appdata\\local\\programs\\python\\python37\\lib\\site-packages (from scikit-learn) (1.7.3)\n",
      "Requirement already satisfied: joblib>=0.11 in c:\\users\\armando\\appdata\\local\\programs\\python\\python37\\lib\\site-packages (from scikit-learn) (1.2.0)\n",
      "Requirement already satisfied: threadpoolctl>=2.0.0 in c:\\users\\armando\\appdata\\local\\programs\\python\\python37\\lib\\site-packages (from scikit-learn) (3.1.0)\n",
      "Note: you may need to restart the kernel to use updated packages.\n"
     ]
    }
   ],
   "source": [
    "pip install scikit-learn"
   ]
  },
  {
   "cell_type": "code",
   "execution_count": 4,
   "id": "733aff0e",
   "metadata": {},
   "outputs": [],
   "source": [
    "#Cargamos los datos de entrada\n",
    "data = pd.read_csv(\"./articulos_ml.csv\")"
   ]
  },
  {
   "cell_type": "code",
   "execution_count": 5,
   "id": "14611f5f",
   "metadata": {},
   "outputs": [
    {
     "data": {
      "text/html": [
       "<div>\n",
       "<style scoped>\n",
       "    .dataframe tbody tr th:only-of-type {\n",
       "        vertical-align: middle;\n",
       "    }\n",
       "\n",
       "    .dataframe tbody tr th {\n",
       "        vertical-align: top;\n",
       "    }\n",
       "\n",
       "    .dataframe thead th {\n",
       "        text-align: right;\n",
       "    }\n",
       "</style>\n",
       "<table border=\"1\" class=\"dataframe\">\n",
       "  <thead>\n",
       "    <tr style=\"text-align: right;\">\n",
       "      <th></th>\n",
       "      <th>Title</th>\n",
       "      <th>url</th>\n",
       "      <th>Word count</th>\n",
       "      <th># of Links</th>\n",
       "      <th># of comments</th>\n",
       "      <th># Images video</th>\n",
       "      <th>Elapsed days</th>\n",
       "      <th># Shares</th>\n",
       "    </tr>\n",
       "  </thead>\n",
       "  <tbody>\n",
       "    <tr>\n",
       "      <th>0</th>\n",
       "      <td>What is Machine Learning and how do we use it ...</td>\n",
       "      <td>https://blog.signals.network/what-is-machine-l...</td>\n",
       "      <td>1888</td>\n",
       "      <td>1</td>\n",
       "      <td>2.0</td>\n",
       "      <td>2</td>\n",
       "      <td>34</td>\n",
       "      <td>200000</td>\n",
       "    </tr>\n",
       "    <tr>\n",
       "      <th>1</th>\n",
       "      <td>10 Companies Using Machine Learning in Cool Ways</td>\n",
       "      <td>NaN</td>\n",
       "      <td>1742</td>\n",
       "      <td>9</td>\n",
       "      <td>NaN</td>\n",
       "      <td>9</td>\n",
       "      <td>5</td>\n",
       "      <td>25000</td>\n",
       "    </tr>\n",
       "    <tr>\n",
       "      <th>2</th>\n",
       "      <td>How Artificial Intelligence Is Revolutionizing...</td>\n",
       "      <td>NaN</td>\n",
       "      <td>962</td>\n",
       "      <td>6</td>\n",
       "      <td>0.0</td>\n",
       "      <td>1</td>\n",
       "      <td>10</td>\n",
       "      <td>42000</td>\n",
       "    </tr>\n",
       "    <tr>\n",
       "      <th>3</th>\n",
       "      <td>Dbrain and the Blockchain of Artificial Intell...</td>\n",
       "      <td>NaN</td>\n",
       "      <td>1221</td>\n",
       "      <td>3</td>\n",
       "      <td>NaN</td>\n",
       "      <td>2</td>\n",
       "      <td>68</td>\n",
       "      <td>200000</td>\n",
       "    </tr>\n",
       "    <tr>\n",
       "      <th>4</th>\n",
       "      <td>Nasa finds entire solar system filled with eig...</td>\n",
       "      <td>NaN</td>\n",
       "      <td>2039</td>\n",
       "      <td>1</td>\n",
       "      <td>104.0</td>\n",
       "      <td>4</td>\n",
       "      <td>131</td>\n",
       "      <td>200000</td>\n",
       "    </tr>\n",
       "  </tbody>\n",
       "</table>\n",
       "</div>"
      ],
      "text/plain": [
       "                                               Title  \\\n",
       "0  What is Machine Learning and how do we use it ...   \n",
       "1   10 Companies Using Machine Learning in Cool Ways   \n",
       "2  How Artificial Intelligence Is Revolutionizing...   \n",
       "3  Dbrain and the Blockchain of Artificial Intell...   \n",
       "4  Nasa finds entire solar system filled with eig...   \n",
       "\n",
       "                                                 url  Word count  # of Links  \\\n",
       "0  https://blog.signals.network/what-is-machine-l...        1888           1   \n",
       "1                                                NaN        1742           9   \n",
       "2                                                NaN         962           6   \n",
       "3                                                NaN        1221           3   \n",
       "4                                                NaN        2039           1   \n",
       "\n",
       "   # of comments  # Images video  Elapsed days  # Shares  \n",
       "0            2.0               2            34    200000  \n",
       "1            NaN               9             5     25000  \n",
       "2            0.0               1            10     42000  \n",
       "3            NaN               2            68    200000  \n",
       "4          104.0               4           131    200000  "
      ]
     },
     "execution_count": 5,
     "metadata": {},
     "output_type": "execute_result"
    }
   ],
   "source": [
    "data.head()"
   ]
  },
  {
   "cell_type": "code",
   "execution_count": 6,
   "id": "b7ce1445",
   "metadata": {},
   "outputs": [
    {
     "data": {
      "text/plain": [
       "(161, 8)"
      ]
     },
     "execution_count": 6,
     "metadata": {},
     "output_type": "execute_result"
    }
   ],
   "source": [
    "#Veamos cuantos dimensiones y registros contiene\n",
    "data.shape"
   ]
  },
  {
   "cell_type": "code",
   "execution_count": 7,
   "id": "367ee901",
   "metadata": {},
   "outputs": [
    {
     "data": {
      "text/html": [
       "<div>\n",
       "<style scoped>\n",
       "    .dataframe tbody tr th:only-of-type {\n",
       "        vertical-align: middle;\n",
       "    }\n",
       "\n",
       "    .dataframe tbody tr th {\n",
       "        vertical-align: top;\n",
       "    }\n",
       "\n",
       "    .dataframe thead th {\n",
       "        text-align: right;\n",
       "    }\n",
       "</style>\n",
       "<table border=\"1\" class=\"dataframe\">\n",
       "  <thead>\n",
       "    <tr style=\"text-align: right;\">\n",
       "      <th></th>\n",
       "      <th>Word count</th>\n",
       "      <th># of Links</th>\n",
       "      <th># of comments</th>\n",
       "      <th># Images video</th>\n",
       "      <th>Elapsed days</th>\n",
       "      <th># Shares</th>\n",
       "    </tr>\n",
       "  </thead>\n",
       "  <tbody>\n",
       "    <tr>\n",
       "      <th>count</th>\n",
       "      <td>161.000000</td>\n",
       "      <td>161.000000</td>\n",
       "      <td>129.000000</td>\n",
       "      <td>161.000000</td>\n",
       "      <td>161.000000</td>\n",
       "      <td>161.000000</td>\n",
       "    </tr>\n",
       "    <tr>\n",
       "      <th>mean</th>\n",
       "      <td>1808.260870</td>\n",
       "      <td>9.739130</td>\n",
       "      <td>8.782946</td>\n",
       "      <td>3.670807</td>\n",
       "      <td>98.124224</td>\n",
       "      <td>27948.347826</td>\n",
       "    </tr>\n",
       "    <tr>\n",
       "      <th>std</th>\n",
       "      <td>1141.919385</td>\n",
       "      <td>47.271625</td>\n",
       "      <td>13.142822</td>\n",
       "      <td>3.418290</td>\n",
       "      <td>114.337535</td>\n",
       "      <td>43408.006839</td>\n",
       "    </tr>\n",
       "    <tr>\n",
       "      <th>min</th>\n",
       "      <td>250.000000</td>\n",
       "      <td>0.000000</td>\n",
       "      <td>0.000000</td>\n",
       "      <td>1.000000</td>\n",
       "      <td>1.000000</td>\n",
       "      <td>0.000000</td>\n",
       "    </tr>\n",
       "    <tr>\n",
       "      <th>25%</th>\n",
       "      <td>990.000000</td>\n",
       "      <td>3.000000</td>\n",
       "      <td>2.000000</td>\n",
       "      <td>1.000000</td>\n",
       "      <td>31.000000</td>\n",
       "      <td>2800.000000</td>\n",
       "    </tr>\n",
       "    <tr>\n",
       "      <th>50%</th>\n",
       "      <td>1674.000000</td>\n",
       "      <td>5.000000</td>\n",
       "      <td>6.000000</td>\n",
       "      <td>3.000000</td>\n",
       "      <td>62.000000</td>\n",
       "      <td>16458.000000</td>\n",
       "    </tr>\n",
       "    <tr>\n",
       "      <th>75%</th>\n",
       "      <td>2369.000000</td>\n",
       "      <td>7.000000</td>\n",
       "      <td>12.000000</td>\n",
       "      <td>5.000000</td>\n",
       "      <td>124.000000</td>\n",
       "      <td>35691.000000</td>\n",
       "    </tr>\n",
       "    <tr>\n",
       "      <th>max</th>\n",
       "      <td>8401.000000</td>\n",
       "      <td>600.000000</td>\n",
       "      <td>104.000000</td>\n",
       "      <td>22.000000</td>\n",
       "      <td>1002.000000</td>\n",
       "      <td>350000.000000</td>\n",
       "    </tr>\n",
       "  </tbody>\n",
       "</table>\n",
       "</div>"
      ],
      "text/plain": [
       "        Word count  # of Links  # of comments  # Images video  Elapsed days  \\\n",
       "count   161.000000  161.000000     129.000000      161.000000    161.000000   \n",
       "mean   1808.260870    9.739130       8.782946        3.670807     98.124224   \n",
       "std    1141.919385   47.271625      13.142822        3.418290    114.337535   \n",
       "min     250.000000    0.000000       0.000000        1.000000      1.000000   \n",
       "25%     990.000000    3.000000       2.000000        1.000000     31.000000   \n",
       "50%    1674.000000    5.000000       6.000000        3.000000     62.000000   \n",
       "75%    2369.000000    7.000000      12.000000        5.000000    124.000000   \n",
       "max    8401.000000  600.000000     104.000000       22.000000   1002.000000   \n",
       "\n",
       "            # Shares  \n",
       "count     161.000000  \n",
       "mean    27948.347826  \n",
       "std     43408.006839  \n",
       "min         0.000000  \n",
       "25%      2800.000000  \n",
       "50%     16458.000000  \n",
       "75%     35691.000000  \n",
       "max    350000.000000  "
      ]
     },
     "execution_count": 7,
     "metadata": {},
     "output_type": "execute_result"
    }
   ],
   "source": [
    "#Ahora veamos algunas estadisticas\n",
    "data.describe()"
   ]
  },
  {
   "cell_type": "markdown",
   "id": "cf55742d",
   "metadata": {},
   "source": [
    "La Columna Shares sera nuestra salida , es decir nuestro valor \"Y\" el valor que queremos predecir"
   ]
  },
  {
   "cell_type": "code",
   "execution_count": 8,
   "id": "c183db9b",
   "metadata": {},
   "outputs": [
    {
     "data": {
      "image/png": "[encoded data removed]",
      "text/plain": [
       "<Figure size 1600x900 with 6 Axes>"
      ]
     },
     "metadata": {},
     "output_type": "display_data"
    }
   ],
   "source": [
    "#Visualizar rapidamente las caracteristicas de entrada\n",
    "data.drop(['Title','url','Elapsed days'],1).hist()\n",
    "plt.show()"
   ]
  },
  {
   "cell_type": "code",
   "execution_count": 11,
   "id": "55bef859",
   "metadata": {},
   "outputs": [
    {
     "data": {
      "image/png": "[encoded data removed]",
      "text/plain": [
       "<Figure size 1600x900 with 1 Axes>"
      ]
     },
     "metadata": {},
     "output_type": "display_data"
    }
   ],
   "source": [
    "#Vamos a visualizar los datos de entrada\n",
    "colores =['orange','blue']\n",
    "tamanios=[30,60]\n",
    "\n",
    "f1 = data['Word count'].values\n",
    "f2 = data['# Shares'].values\n",
    "\n",
    "asignar=[]\n",
    "for index , row in data.iterrows():\n",
    "    if(row['Word count']>1808):\n",
    "        asignar.append(colores[0])\n",
    "    else:\n",
    "        asignar.append(colores[1])\n",
    "plt.scatter(f1,f2,c=asignar,s=tamanios[0])        \n",
    "plt.show()"
   ]
  },
  {
   "cell_type": "markdown",
   "id": "a581a3c7",
   "metadata": {},
   "source": [
    "# Regresion Lineal\n",
    "Regresion Lineal con Una Solo Variable"
   ]
  },
  {
   "cell_type": "code",
   "execution_count": 20,
   "id": "030644a4",
   "metadata": {},
   "outputs": [],
   "source": [
    "filtered_data = data[(data['Word count'] <= 3500) & (data['# Shares'] <= 80000)]\n",
    "#Asignamos nuestra variable de entrada X para entrenamiento y las etiquetas y\n",
    "dataX=filtered_data[['Word count']]\n",
    "X_train=np.array(dataX)\n",
    "y_train=filtered_data[['# Shares']].values"
   ]
  },
  {
   "cell_type": "code",
   "execution_count": 22,
   "id": "6c06e2de",
   "metadata": {},
   "outputs": [],
   "source": [
    "#Creamos el Objeto de Regresion Lineal\n",
    "regr=linear_model.LinearRegression()"
   ]
  },
  {
   "cell_type": "code",
   "execution_count": 23,
   "id": "0df8ecea",
   "metadata": {},
   "outputs": [
    {
     "data": {
      "text/plain": [
       "LinearRegression()"
      ]
     },
     "execution_count": 23,
     "metadata": {},
     "output_type": "execute_result"
    }
   ],
   "source": [
    "#Entrenamos nuestro modelo\n",
    "regr.fit(X_train,y_train)"
   ]
  },
  {
   "cell_type": "code",
   "execution_count": 24,
   "id": "85c50f04",
   "metadata": {},
   "outputs": [],
   "source": [
    "#Hacemos la predicciones que en definitiva una linea\n",
    "y_pred=regr.predict(X_train)"
   ]
  },
  {
   "cell_type": "code",
   "execution_count": 28,
   "id": "a5604d3d",
   "metadata": {},
   "outputs": [
    {
     "name": "stdout",
     "output_type": "stream",
     "text": [
      "Coeficientes:\n",
      " [[5.69765366]]\n"
     ]
    }
   ],
   "source": [
    "#Veamos los coeficientes obtenidos en nuestro caso , Seran la tangente\n",
    "print(\"Coeficientes:\\n\" ,regr.coef_)"
   ]
  },
  {
   "cell_type": "code",
   "execution_count": 31,
   "id": "73943a4c",
   "metadata": {},
   "outputs": [
    {
     "name": "stdout",
     "output_type": "stream",
     "text": [
      "El mejor puntaje: 0.06\n"
     ]
    }
   ],
   "source": [
    "#El Mejor puntaje\n",
    "print('El mejor puntaje: %.2f' % r2_score(y_train, y_pred))"
   ]
  },
  {
   "cell_type": "code",
   "execution_count": 53,
   "id": "31e590eb",
   "metadata": {},
   "outputs": [
    {
     "data": {
      "text/plain": [
       "array([21125.61589425, 16681.44604148, 15536.21765635, 15490.63642709,\n",
       "       17570.28001204, 20208.29365541, 12658.90255937, 18419.23040699,\n",
       "       16732.7249244 , 13302.73742265, 14818.31329552, 20493.17633828,\n",
       "       14453.66346144, 18795.27554837, 13274.24915436, 14134.59485663,\n",
       "       17667.14012421, 14994.9405589 , 15684.35665144, 13599.01541284,\n",
       "       17268.30436819, 16373.77274398, 18379.34683139, 16613.07419759,\n",
       "       21233.87131374, 16390.86570496, 16732.7249244 , 13809.82859816,\n",
       "       13809.82859816, 15655.86838315, 23051.42283044, 12624.71663742,\n",
       "       21245.26662105, 14903.77810038, 17946.32515342, 16652.9577732 ,\n",
       "       14772.73206626, 16299.70324644, 17450.62928523, 18390.7421387 ,\n",
       "       21102.82527962, 21530.14930392, 24874.67200081, 14972.14994427,\n",
       "       15758.42614899, 13291.34211534, 14089.01362737, 16852.3756512 ,\n",
       "       14043.43239811, 14727.150837  , 17764.00023639, 24663.85881549,\n",
       "       16829.58503658, 15524.82234903, 17456.32693889, 27136.64050279,\n",
       "       17581.67531935, 25376.06552266, 22874.79556707, 25683.73882016,\n",
       "       16960.6310707 , 23672.4670791 , 21820.72964045, 16840.98034389,\n",
       "       21119.91824059, 18202.71956801, 28150.82285381, 21820.72964045,\n",
       "       25216.53122025, 23370.49143526, 27341.75603446, 22567.12226957,\n",
       "       24487.23155211, 22584.21523054, 30811.62711181, 26561.1774834 ,\n",
       "       22099.91466966, 21786.5437185 , 25199.43825928, 25968.62150303,\n",
       "       20988.87220647, 18567.36940208, 28424.31022936, 31056.62621908,\n",
       "       23125.49232799, 19689.80717258, 18253.99845092, 25917.34262011,\n",
       "       16937.84045607, 16772.6085    , 28401.51961473, 24572.69635697,\n",
       "       23871.88495711, 21330.73142591, 17752.60492907, 25603.97166896,\n",
       "       25364.67021535, 24401.76674725, 24698.04473743, 20384.92091879,\n",
       "       17672.83777787, 26703.61882483, 31028.13795079, 17712.72135347,\n",
       "       25034.20630322, 27592.45279538, 15621.68246121, 18516.09051916,\n",
       "       17724.11666079, 21416.19623077, 27746.28944413, 19592.94706041,\n",
       "       27689.31290756, 22208.17008915, 29575.23626816, 29347.33012186,\n",
       "       22983.05098656, 24612.57993257, 27843.14955631, 23797.81545956,\n",
       "       27524.0809515 , 20738.17544554, 24202.34886924, 26219.31826395,\n",
       "       15610.28715389, 17068.88649019, 15382.3810076 , 15433.65989051,\n",
       "       19826.55086036, 27461.40676126, 19422.01745069, 21552.93991855,\n",
       "       18413.53275333, 24162.46529364, 18402.13744601, 23803.51311322,\n",
       "       21860.61321605, 25518.50686409, 19422.01745069, 16396.56335861,\n",
       "       24680.95177646, 19986.08516277, 18043.1852656 , 29655.00341936,\n",
       "       25820.48250794, 23102.70171336, 19917.71331888, 16630.16715857])"
      ]
     },
     "execution_count": 53,
     "metadata": {},
     "output_type": "execute_result"
    }
   ],
   "source": [
    "#Entrenamos eñ modelo esta vez con 2 dimensiones\n",
    "dataX2=pd.DataFrame()\n",
    "\n",
    "dataX2[\"Word count\"] =filtered_data[\"Word count\"]\n",
    "\n",
    "XY_train=np.array(dataX2)\n",
    "z_train=filtered_data[\"# Shares\"].values\n",
    "\n",
    "\n",
    "#Creamos un nuevo objeto de regresion lineal\n",
    "regr2 = linear_model.LinearRegression()\n",
    "\n",
    "regr2.fit(XY_train,z_train)\n",
    "\n",
    "\n",
    "predcc1=regr2.predict(XY_train)\n",
    "predcc1\n",
    "\n",
    "# Quiero predecir cuantos \"Shares\" voy obtener por un articulo con: 2000 palabras y con enlaces:10, \n",
    "#cometarios 4,images:6 segun nuestro modelo\n",
    "\n",
    "#predcc1=regr2.predict([[2000,10+4+6]])\n",
    "         \n"
   ]
  },
  {
   "cell_type": "code",
   "execution_count": 54,
   "id": "7e7e29e6",
   "metadata": {},
   "outputs": [],
   "source": [
    "dataX =filtered_data[[\"Word count\"]]"
   ]
  },
  {
   "cell_type": "code",
   "execution_count": 55,
   "id": "c9be6e64",
   "metadata": {},
   "outputs": [],
   "source": [
    "X_train = np.array(dataX)"
   ]
  },
  {
   "cell_type": "code",
   "execution_count": 56,
   "id": "89e73a45",
   "metadata": {},
   "outputs": [],
   "source": [
    "y_train = filtered_data['# Shares'].values"
   ]
  },
  {
   "cell_type": "code",
   "execution_count": 57,
   "id": "4c9fbe98",
   "metadata": {},
   "outputs": [],
   "source": [
    "#Creamos el objeto de Regresion Lineal\n",
    "regr = linear_model.LinearRegression()"
   ]
  },
  {
   "cell_type": "code",
   "execution_count": 58,
   "id": "483278e6",
   "metadata": {},
   "outputs": [
    {
     "data": {
      "text/plain": [
       "LinearRegression()"
      ]
     },
     "execution_count": 58,
     "metadata": {},
     "output_type": "execute_result"
    }
   ],
   "source": [
    "#Entrenamos el Modelo con 2 dimensiones\n",
    "regr.fit(X_train, y_train)"
   ]
  },
  {
   "cell_type": "code",
   "execution_count": 59,
   "id": "e0909d4b",
   "metadata": {},
   "outputs": [],
   "source": [
    "#Hacemos la Prediccion\n",
    "y_pred = regr.predict(X_train)"
   ]
  },
  {
   "cell_type": "code",
   "execution_count": 62,
   "id": "793b1d3a",
   "metadata": {},
   "outputs": [
    {
     "name": "stdout",
     "output_type": "stream",
     "text": [
      "22595\n"
     ]
    }
   ],
   "source": [
    "#Quiero predecir cuantos \"Shares voy a obtener por un articulo con 2000 poalabras\n",
    "predic02=regr.predict([[2000]])\n",
    "print(int(predic02))"
   ]
  },
  {
   "cell_type": "markdown",
   "id": "43031796",
   "metadata": {},
   "source": [
    "# Vamos a mejorar el modelo  con una dimenison mas , para poder graficar en 3D , haremos una variable nueva que sera la suma de los enlaces,comentarios e imagenes"
   ]
  },
  {
   "cell_type": "code",
   "execution_count": 63,
   "id": "48be7d92",
   "metadata": {},
   "outputs": [],
   "source": [
    "#Variable Nueva\n",
    "suma=(filtered_data[\"# of Links\"] +  filtered_data['# of comments'].fillna(0) + filtered_data['# Images video'])"
   ]
  },
  {
   "cell_type": "code",
   "execution_count": 64,
   "id": "a19c3e2d",
   "metadata": {},
   "outputs": [],
   "source": [
    "dataX2=pd.DataFrame()"
   ]
  },
  {
   "cell_type": "code",
   "execution_count": 67,
   "id": "e6059503",
   "metadata": {},
   "outputs": [],
   "source": [
    "#Primer Variable de Palabras\n",
    "dataX2[\"Word count\"] =filtered_data[\"Word count\"]"
   ]
  },
  {
   "cell_type": "code",
   "execution_count": 68,
   "id": "11b9c972",
   "metadata": {},
   "outputs": [],
   "source": [
    "#Segunda Variable\n",
    "dataX2[\"suma\"]=suma"
   ]
  },
  {
   "cell_type": "code",
   "execution_count": 69,
   "id": "304eb669",
   "metadata": {},
   "outputs": [],
   "source": [
    "#Valores de entrenamiento\n",
    "XY_train=np.array(dataX2)"
   ]
  },
  {
   "cell_type": "code",
   "execution_count": 70,
   "id": "98896e2b",
   "metadata": {},
   "outputs": [],
   "source": [
    "z_traint=filtered_data['# Shares'].values"
   ]
  },
  {
   "cell_type": "code",
   "execution_count": 71,
   "id": "1e4d6fa2",
   "metadata": {},
   "outputs": [],
   "source": [
    "#Algoritmo de Regresion Lineal\n",
    "regr2 = linear_model.LinearRegression()"
   ]
  },
  {
   "cell_type": "code",
   "execution_count": 73,
   "id": "04f0a40f",
   "metadata": {},
   "outputs": [
    {
     "data": {
      "text/plain": [
       "LinearRegression()"
      ]
     },
     "execution_count": 73,
     "metadata": {},
     "output_type": "execute_result"
    }
   ],
   "source": [
    "#Entrenamos el Modelo\n",
    "regr2.fit(XY_train,z_traint)"
   ]
  },
  {
   "cell_type": "code",
   "execution_count": 78,
   "id": "9c4a8f7a",
   "metadata": {},
   "outputs": [],
   "source": [
    "#predcir cuanttos \"Shares\" voy obtener por un articulo con 2000 palabras,y con 10 enlaces,comentarios 4,imagenes 6\n",
    "z_predcc1=regr2.predict([[2000,10+4+6]])"
   ]
  },
  {
   "cell_type": "code",
   "execution_count": 80,
   "id": "80ec08de",
   "metadata": {},
   "outputs": [
    {
     "name": "stdout",
     "output_type": "stream",
     "text": [
      "20518\n"
     ]
    }
   ],
   "source": [
    "print(int(z_predcc1))"
   ]
  },
  {
   "cell_type": "code",
   "execution_count": null,
   "id": "ebdeda65",
   "metadata": {},
   "outputs": [],
   "source": []
  }
 ],
 "metadata": {
  "kernelspec": {
   "display_name": "Python 3 (ipykernel)",
   "language": "python",
   "name": "python3"
  },
  "language_info": {
   "codemirror_mode": {
    "name": "ipython",
    "version": 3
   },
   "file_extension": ".py",
   "mimetype": "text/x-python",
   "name": "python",
   "nbconvert_exporter": "python",
   "pygments_lexer": "ipython3",
   "version": "3.7.0"
  }
 },
 "nbformat": 4,
 "nbformat_minor": 5
}
