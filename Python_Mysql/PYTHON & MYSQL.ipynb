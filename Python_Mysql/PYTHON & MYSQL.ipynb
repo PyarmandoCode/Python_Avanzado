{
 "cells": [
  {
   "cell_type": "markdown",
   "id": "b253cd3c",
   "metadata": {},
   "source": [
    "# Instalacion del Connector/Python/MYSQL"
   ]
  },
  {
   "cell_type": "code",
   "execution_count": null,
   "id": "774a1075",
   "metadata": {},
   "outputs": [],
   "source": [
    "#pip install mysql-connector-python\n",
    "import mysql.connector"
   ]
  },
  {
   "cell_type": "code",
   "execution_count": null,
   "id": "8df0ad7c",
   "metadata": {},
   "outputs": [],
   "source": [
    "from mysql.connector import connect,Error\n",
    "try:\n",
    "    with connect(\n",
    "        host=\"localhost\",\n",
    "        user=\"root\",\n",
    "        password=\"Rioazulq12\"\n",
    "    )as connection:\n",
    "        print(connection)\n",
    "except Error as e:\n",
    "    print(e)"
   ]
  },
  {
   "cell_type": "markdown",
   "id": "10e9635f",
   "metadata": {},
   "source": [
    "# Creacion de Base de datos"
   ]
  },
  {
   "cell_type": "markdown",
   "id": "42bbecbd",
   "metadata": {},
   "source": [
    "<img src=\"E_R.png\" />"
   ]
  },
  {
   "cell_type": "code",
   "execution_count": null,
   "id": "33568516",
   "metadata": {},
   "outputs": [],
   "source": [
    "from mysql.connector import connect,Error\n",
    "try:\n",
    "    with connect(\n",
    "        host=\"localhost\",\n",
    "        user=\"root\",\n",
    "        password=\"Rioazulq12\"\n",
    "    )as connection:\n",
    "        create_db_query = \"CREATE DATABASE movies_online\"\n",
    "        with connection.cursor() as cursor:\n",
    "            cursor.execute(create_db_query)\n",
    "except Error as e:\n",
    "    print(e)            "
   ]
  },
  {
   "cell_type": "markdown",
   "id": "872c54cd",
   "metadata": {},
   "source": [
    "# Creacion de Tablas"
   ]
  },
  {
   "cell_type": "code",
   "execution_count": null,
   "id": "0bc2ec47",
   "metadata": {},
   "outputs": [],
   "source": [
    "import mysql.connector\n",
    "connection = mysql.connector.connect(\n",
    "     host=\"localhost\",\n",
    "     user=\"root\",\n",
    "     password=\"Rioazulq12\",\n",
    "     database=\"movies_online\"\n",
    "  )\n",
    "\n",
    "create_movies_table_query= \"\"\"\n",
    "CREATE TABLE movies(\n",
    "   id INT AUTO_INCREMENT PRIMARY KEY,\n",
    "   title VARCHAR(100),\n",
    "   release_year YEAR(4),\n",
    "   genre VARCHAR(100),\n",
    "   collection_in_mil INT\n",
    "  )\n",
    "\"\"\"\n",
    "with connection.cursor() as cursor:\n",
    "    cursor.execute(create_movies_table_query)\n",
    "    connection.commit() #Ejecutar fisicamente los cambios en LA BD"
   ]
  },
  {
   "cell_type": "code",
   "execution_count": null,
   "id": "b850e9d2",
   "metadata": {},
   "outputs": [],
   "source": [
    "def conexion_bd():\n",
    "    connection = mysql.connector.connect(\n",
    "        host=\"localhost\",\n",
    "        user=\"root\",\n",
    "        password=\"Rioazulq12\",\n",
    "        database=\"movies_online\"\n",
    "  )\n",
    "    return connection"
   ]
  },
  {
   "cell_type": "markdown",
   "id": "6f88a39b",
   "metadata": {},
   "source": [
    "# Insertar Registros a la Tabla"
   ]
  },
  {
   "cell_type": "code",
   "execution_count": null,
   "id": "459764e2",
   "metadata": {},
   "outputs": [],
   "source": [
    "insert_movies_query = \"\"\"\n",
    "INSERT INTO movies (title,release_year,genre,collection_in_mil)\n",
    "VALUES\n",
    "  (\"3 Idiots\", 2009, \"Drama\", 2.4),\n",
    "    (\"Eternal Sunshine of the Spotless Mind\", 2004, \"Drama\", 34.5),\n",
    "    (\"Good Will Hunting\", 1997, \"Drama\", 138.1),\n",
    "    (\"Skyfall\", 2012, \"Action\", 304.6),\n",
    "    (\"Gladiator\", 2000, \"Action\", 188.7),\n",
    "    (\"Black\", 2005, \"Drama\", 3.0),\n",
    "    (\"Titanic\", 1997, \"Romance\", 659.2),\n",
    "    (\"The Shawshank Redemption\", 1994, \"Drama\",28.4),\n",
    "    (\"Udaan\", 2010, \"Drama\", 1.5),\n",
    "    (\"Home Alone\", 1990, \"Comedy\", 286.9),\n",
    "    (\"Casablanca\", 1942, \"Romance\", 1.0),\n",
    "    (\"Avengers: Endgame\", 2019, \"Action\", 858.8),\n",
    "    (\"Night of the Living Dead\", 1968, \"Horror\", 2.5),\n",
    "    (\"The Godfather\", 1972, \"Crime\", 135.6),\n",
    "    (\"Haider\", 2014, \"Action\", 4.2),\n",
    "    (\"Inception\", 2010, \"Adventure\", 293.7),\n",
    "    (\"Evil\", 2003, \"Horror\", 1.3),\n",
    "    (\"Toy Story 4\", 2019, \"Animation\", 434.9),\n",
    "    (\"Air Force One\", 1997, \"Drama\", 138.1),\n",
    "    (\"The Dark Knight\", 2008, \"Action\",535.4),\n",
    "    (\"Bhaag Milkha Bhaag\", 2013, \"Sport\", 4.1),\n",
    "    (\"The Lion King\", 1994, \"Animation\", 423.6),\n",
    "    (\"Pulp Fiction\", 1994, \"Crime\", 108.8),\n",
    "    (\"Kai Po Che\", 2013, \"Sport\", 6.0),\n",
    "    (\"Beasts of No Nation\", 2015, \"War\", 1.4),\n",
    "    (\"Andadhun\", 2018, \"Thriller\", 2.9),\n",
    "    (\"The Silence of the Lambs\", 1991, \"Crime\", 68.2),\n",
    "    (\"Deadpool\", 2016, \"Action\", 363.6),\n",
    "    (\"Drishyam\", 2015, \"Mystery\", 3.0)\n",
    "\"\"\"\n",
    "\n",
    "#Creando un Objeto de Conexion\n",
    "obj_conexion=conexion_bd()\n",
    "\n",
    "with obj_conexion.cursor() as cursor:\n",
    "    cursor.execute(insert_movies_query)\n",
    "    obj_conexion.commit() #Ejecutar fisicamente los cambios en LA BD"
   ]
  },
  {
   "cell_type": "code",
   "execution_count": null,
   "id": "52009183",
   "metadata": {},
   "outputs": [],
   "source": [
    "create_reviewers_tabla_query =\"\"\"\n",
    "CREATE TABLE reviewers (\n",
    "   id INT AUTO_INCREMENT PRIMARY KEY,\n",
    "   first_name VARCHAR(100),\n",
    "   last_name VARCHAR(100)\n",
    ")\n",
    "\"\"\"\n",
    "\n",
    "#Creando un Objeto de Conexion\n",
    "obj_conexion=conexion_bd()\n",
    "\n",
    "with obj_conexion.cursor() as cursor:\n",
    "    cursor.execute(create_reviewers_tabla_query)\n",
    "    obj_conexion.commit() #Ejecutar fisicamente los cambios en LA BD"
   ]
  },
  {
   "cell_type": "code",
   "execution_count": null,
   "id": "4e3fd7c9",
   "metadata": {},
   "outputs": [],
   "source": [
    "insert_reviewers_query=\"\"\"\n",
    "INSERT INTO reviewers\n",
    "(first_name,last_name)\n",
    "VALUES(%s,%s)\n",
    "\"\"\"\n",
    "\n",
    "reviewers_records = [\n",
    "    (\"Chaitanya\", \"Baweja\"),\n",
    "    (\"Mary\", \"Cooper\"),\n",
    "    (\"John\", \"Wayne\"),\n",
    "    (\"Thomas\", \"Stoneman\"),\n",
    "    (\"Penny\", \"Hofstadter\"),\n",
    "    (\"Mitchell\", \"Marsh\"),\n",
    "    (\"Wyatt\", \"Skaggs\"),\n",
    "    (\"Andre\", \"Veiga\"),\n",
    "    (\"Sheldon\", \"Cooper\"),\n",
    "    (\"Kimbra\", \"Masters\"),\n",
    "    (\"Kat\", \"Dennings\"),\n",
    "    (\"Bruce\", \"Wayne\"),\n",
    "    (\"Domingo\", \"Cortes\"),\n",
    "    (\"Rajesh\", \"Koothrappali\"),\n",
    "    (\"Ben\", \"Glocker\"),\n",
    "    (\"Mahinder\", \"Dhoni\"),\n",
    "    (\"Akbar\", \"Khan\"),\n",
    "    (\"Howard\", \"Wolowitz\"),\n",
    "    (\"Pinkie\", \"Petit\"),\n",
    "    (\"Gurkaran\", \"Singh\"),\n",
    "    (\"Amy\", \"Farah Fowler\"),\n",
    "    (\"Marlon\", \"Crafford\"),\n",
    "]\n",
    "\n",
    "#Creando un Objeto de Conexion\n",
    "obj_conexion=conexion_bd()\n",
    "\n",
    "with obj_conexion.cursor() as cursor:\n",
    "    cursor.executemany(insert_reviewers_query,reviewers_records)\n",
    "    obj_conexion.commit() #Ejecutar fisicamente los cambios en LA BD"
   ]
  },
  {
   "cell_type": "code",
   "execution_count": null,
   "id": "ac182ce8",
   "metadata": {},
   "outputs": [],
   "source": [
    "create_ratings_table_query=\"\"\"\n",
    "CREATE TABLE ratings (\n",
    "   movie_id  INT,\n",
    "   reviewer_id INT,\n",
    "   rating DECIMAL(2,1),\n",
    "   FOREIGN KEY(movie_id) REFERENCES movies(id),\n",
    "   FOREIGN KEY(reviewer_id) REFERENCES reviewers(id),\n",
    "   PRIMARY KEY(movie_id,reviewer_id)\n",
    ")\n",
    "\n",
    "\"\"\"\n",
    "\n",
    "#Creando un Objeto de Conexion\n",
    "obj_conexion=conexion_bd()\n",
    "\n",
    "with obj_conexion.cursor() as cursor:\n",
    "    cursor.execute(create_ratings_table_query)\n",
    "    obj_conexion.commit() #Ejecutar fisicamente los cambios en LA BD"
   ]
  },
  {
   "cell_type": "code",
   "execution_count": null,
   "id": "cef3d2b1",
   "metadata": {},
   "outputs": [],
   "source": [
    "insert_ratings_query =\"\"\"\n",
    "INSERT INTO ratings\n",
    "(rating,movie_id,reviewer_id)\n",
    "VALUES(%s , %s ,%s)\n",
    "\"\"\"\n",
    "ratings_records = [\n",
    "    (6.4, 17, 5), (5.6, 19, 1), (6.3, 22, 14), (5.1, 21, 17),\n",
    "    (5.0, 5, 5), (6.5, 21, 5), (8.5, 30, 13), (9.7, 6, 4),\n",
    "    (8.5, 24, 12), (9.9, 14, 9), (8.7, 26, 14), (9.9, 6, 10),\n",
    "    (5.1, 30, 6), (5.4, 18, 16), (6.2, 6, 20), (7.3, 21, 19),\n",
    "    (8.1, 17, 18), (5.0, 7, 2), (9.8, 23, 3), (8.0, 22, 9),\n",
    "    (8.5, 11, 13), (5.0, 5, 11), (5.7, 8, 2), (7.6, 25, 19),\n",
    "    (5.2, 18, 15), (9.7, 13, 3), (5.8, 18, 8), (5.8, 30, 15),\n",
    "    (8.4, 21, 18), (6.2, 23, 16), (7.0, 10, 18), (9.5, 30, 20),\n",
    "    (8.9, 3, 19), (6.4, 12, 2), (7.8, 12, 22), (9.9, 15, 13),\n",
    "    (7.5, 20, 17), (9.0, 25, 6), (8.5, 23, 2), (5.3, 30, 17),\n",
    "    (6.4, 5, 10), (8.1, 5, 21), (5.7, 22, 1), (6.3, 28, 4),\n",
    "    (9.8, 13, 1)\n",
    "]\n",
    "\n",
    "\n",
    "#Creando un Objeto de Conexion\n",
    "obj_conexion=conexion_bd()\n",
    "\n",
    "with obj_conexion.cursor() as cursor:\n",
    "    cursor.executemany(insert_ratings_query,ratings_records)\n",
    "    obj_conexion.commit() #Ejecutar fisicamente los cambios en LA BD"
   ]
  },
  {
   "cell_type": "markdown",
   "id": "536eced4",
   "metadata": {},
   "source": [
    "# Estructura de la Tabla"
   ]
  },
  {
   "cell_type": "code",
   "execution_count": null,
   "id": "16bb0862",
   "metadata": {},
   "outputs": [],
   "source": [
    "#Creando un Objeto de Conexion\n",
    "obj_conexion=conexion_bd()\n",
    "\n",
    "show_table_query=\"describe movies\"\n",
    "\n",
    "with obj_conexion.cursor() as cursor:\n",
    "    cursor.execute(show_table_query)\n",
    "    result = cursor.fetchall()\n",
    "    for row in result:\n",
    "        print(row)\n",
    "    "
   ]
  },
  {
   "cell_type": "markdown",
   "id": "ff5e52aa",
   "metadata": {},
   "source": [
    "# Instrucciones SQL"
   ]
  },
  {
   "cell_type": "code",
   "execution_count": null,
   "id": "867ba86d",
   "metadata": {},
   "outputs": [],
   "source": [
    "#Mostrar Los primeros 15 registros\n",
    "select_movies_query=\"SELECT * FROM movies LIMIT 15\"\n",
    "\n",
    "#Creando un Objeto de Conexion\n",
    "obj_conexion=conexion_bd()\n",
    "\n",
    "with obj_conexion.cursor() as cursor:\n",
    "    cursor.execute(select_movies_query)\n",
    "    result = cursor.fetchall()\n",
    "    for row in result:\n",
    "        print(row)"
   ]
  },
  {
   "cell_type": "code",
   "execution_count": null,
   "id": "05a1378d",
   "metadata": {},
   "outputs": [],
   "source": [
    "#Seleccionar Algunos campos\n",
    "select_movies_query=\"SELECT title,release_year FROM movies LIMIT 15\"\n",
    "\n",
    "#Creando un Objeto de Conexion\n",
    "obj_conexion=conexion_bd()\n",
    "\n",
    "with obj_conexion.cursor() as cursor:\n",
    "    cursor.execute(select_movies_query)\n",
    "    result = cursor.fetchall()\n",
    "    for row in result:\n",
    "        print(row)"
   ]
  },
  {
   "cell_type": "code",
   "execution_count": null,
   "id": "ae016695",
   "metadata": {},
   "outputs": [],
   "source": [
    "#Utilizando Filtros WHERE Ordenando los resultados\n",
    "select_movies_query=\"\"\"\n",
    "        SELECT title,collection_in_mil \n",
    "        FROM movies \n",
    "        WHERE collection_in_mil >100\n",
    "        ORDER BY collection_in_mil DESC\n",
    "        \"\"\"\n",
    "\n",
    "#Creando un Objeto de Conexion\n",
    "obj_conexion=conexion_bd()\n",
    "\n",
    "with obj_conexion.cursor() as cursor:\n",
    "    cursor.execute(select_movies_query)\n",
    "    result = cursor.fetchall()\n",
    "    for row in result:\n",
    "        print(row)"
   ]
  },
  {
   "cell_type": "code",
   "execution_count": null,
   "id": "725e8493",
   "metadata": {},
   "outputs": [],
   "source": [
    "select_movies_avg=\"\"\"\n",
    "  SELECT title,avg(rating) average_rating from movies m inner join ratings r \n",
    "       on  m.id=r.movie_id\n",
    "       group by movie_id\n",
    "       order by average_rating desc\n",
    "       LIMIT 20\n",
    "\"\"\"\n",
    "\n",
    "#Creando un Objeto de Conexion\n",
    "obj_conexion=conexion_bd()\n",
    "\n",
    "with obj_conexion.cursor() as cursor:\n",
    "    cursor.execute(select_movies_avg)\n",
    "    result = cursor.fetchall()\n",
    "    for row in result:\n",
    "        print(row)"
   ]
  },
  {
   "cell_type": "code",
   "execution_count": null,
   "id": "99fcb6db",
   "metadata": {},
   "outputs": [],
   "source": [
    "movie_id = input(\"Ingrese el ID de la Pelicula\")\n",
    "reviewer_id = input(\"Ingrese el ID del reviewer\")\n",
    "\n",
    "select_movies_avg=\"\"\"\n",
    "SELECT title,r.reviewer_id,avg(rating) average_rating \n",
    "       from movies m inner join ratings r \n",
    "       on  m.id=r.movie_id\n",
    "       where m.id=%s and r.reviewer_id=%s\n",
    "       group by movie_id\n",
    "\"\"\"\n",
    "\n",
    "val_tuple=(\n",
    "    movie_id,\n",
    "    reviewer_id,\n",
    ")\n",
    "#Creando un Objeto de Conexion\n",
    "obj_conexion=conexion_bd()\n",
    "\n",
    "with obj_conexion.cursor() as cursor:\n",
    "    existe=False\n",
    "    for result in cursor.execute(select_movies_avg,val_tuple,multi=True):\n",
    "        if result.with_rows:\n",
    "            existe=True\n",
    "            print(result.fetchall())\n",
    "            break\n",
    "    if existe==False:\n",
    "        print(\"Nada que Mostra\")        "
   ]
  },
  {
   "cell_type": "markdown",
   "id": "3385edde",
   "metadata": {},
   "source": [
    "# Base datos & DataFrame"
   ]
  },
  {
   "cell_type": "code",
   "execution_count": null,
   "id": "04ace3a1",
   "metadata": {},
   "outputs": [],
   "source": [
    "import pandas as pd\n",
    "import sqlite3"
   ]
  },
  {
   "cell_type": "code",
   "execution_count": null,
   "id": "09acd990",
   "metadata": {},
   "outputs": [],
   "source": [
    "c=conn.cursor()\n",
    "c.execute('CREATE TABLE IF NOT EXISTS products (product_name text,price number)')\n",
    "conn.commit()"
   ]
  },
  {
   "cell_type": "code",
   "execution_count": null,
   "id": "ba201736",
   "metadata": {},
   "outputs": [],
   "source": [
    "conn = sqlite3.connect('bdlocal_mayo_2023')\n",
    "c.execute('CREATE TABLE IF NOT EXISTS products (product_name text,price number)')\n",
    "conn.commit()\n",
    "\n",
    "data = {'product_name': ['Computer','Tablet','Monitor','Printer'],\n",
    "        'price': [900,300,450,150]\n",
    "        }\n",
    "#Preparndo el DataFrame o la Estructura del DataFrame para imporar los datos de SQL\n",
    "df = pd.DataFrame(data,columns=['product_name','price'])\n",
    "df.to_sql('products',conn,if_exists='replace',index=False)\n",
    "c.execute('''\n",
    "SELECT * FROM PRODUCTS\n",
    "''')\n",
    "#Importando la informacio\n",
    "df = pd.DataFrame(c.fetchall(),columns=['product_name','price'])\n"
   ]
  },
  {
   "cell_type": "code",
   "execution_count": null,
   "id": "1909732c",
   "metadata": {},
   "outputs": [],
   "source": [
    "df.head(1)"
   ]
  },
  {
   "cell_type": "code",
   "execution_count": null,
   "id": "1fa9f2e9",
   "metadata": {},
   "outputs": [],
   "source": [
    "#Utilizando Filtros WHERE Ordenando los resultados\n",
    "movie_id = input(\"Ingrese el ID de la Pelicula\")\n",
    "select_movies_query=\"\"\"\n",
    "        SELECT * FROM movies where id=%s \n",
    "        \"\"\"\n",
    "\n",
    "val_tuple=(\n",
    "    movie_id,\n",
    ")\n",
    "\n",
    "#Creando un Objeto de Conexion\n",
    "obj_conexion=conexion_bd()\n",
    "\n",
    "with obj_conexion.cursor() as cursor:\n",
    "    cursor.execute(select_movies_query,val_tuple)\n",
    "    #me devolvera solo un registro usar fethone\n",
    "    result = cursor.fetchone()\n",
    "    print(result)\n",
    "    "
   ]
  },
  {
   "cell_type": "markdown",
   "id": "fbc5d43c",
   "metadata": {},
   "source": [
    "# Fetchall() \n",
    "recuperar \"N\" Registros y esta devolvera una lista de tuplas\n",
    "# Fetchone() \n",
    "recuperar \"1\" Registro y esta devolvera una tupla\n"
   ]
  },
  {
   "cell_type": "markdown",
   "id": "d723cd0d",
   "metadata": {},
   "source": [
    "# Origenes de Datos JSON"
   ]
  },
  {
   "cell_type": "code",
   "execution_count": 2,
   "id": "05d048a0",
   "metadata": {},
   "outputs": [],
   "source": [
    "cars = [\n",
    "    {\"name\":\"Honda\",\"price\":10000,\"model\":2020,\"power\":1300},\n",
    "    {\"name\":\"Toyota\",\"price\":12000,\"model\":2021,\"power\":1500},\n",
    "    {\"name\":\"Audi\",\"price\":15000,\"model\":2022,\"power\":1730},\n",
    "    {\"name\":\"Ford\",\"price\":18000,\"model\":2010,\"power\":1700},\n",
    "]"
   ]
  },
  {
   "cell_type": "code",
   "execution_count": 3,
   "id": "038a249a",
   "metadata": {},
   "outputs": [
    {
     "data": {
      "text/plain": [
       "[{'name': 'Honda', 'price': 10000, 'model': 2020, 'power': 1300},\n",
       " {'name': 'Toyota', 'price': 12000, 'model': 2021, 'power': 1500},\n",
       " {'name': 'Audi', 'price': 15000, 'model': 2022, 'power': 1730},\n",
       " {'name': 'Ford', 'price': 18000, 'model': 2010, 'power': 1700}]"
      ]
     },
     "execution_count": 3,
     "metadata": {},
     "output_type": "execute_result"
    }
   ],
   "source": [
    "cars"
   ]
  },
  {
   "cell_type": "code",
   "execution_count": 4,
   "id": "928312a7",
   "metadata": {},
   "outputs": [],
   "source": [
    "#Generando mi archivo en Formato JSON\n",
    "import json\n",
    "with open(\"cars.json\",\"w\") as f:\n",
    "    json.dump(cars,f)"
   ]
  },
  {
   "cell_type": "code",
   "execution_count": 5,
   "id": "d2d7d8ff",
   "metadata": {},
   "outputs": [],
   "source": [
    "import pandas as pd\n",
    "df_autos=pd.read_json('cars.json')"
   ]
  },
  {
   "cell_type": "code",
   "execution_count": 6,
   "id": "48e0943c",
   "metadata": {},
   "outputs": [
    {
     "data": {
      "text/html": [
       "<div>\n",
       "<style scoped>\n",
       "    .dataframe tbody tr th:only-of-type {\n",
       "        vertical-align: middle;\n",
       "    }\n",
       "\n",
       "    .dataframe tbody tr th {\n",
       "        vertical-align: top;\n",
       "    }\n",
       "\n",
       "    .dataframe thead th {\n",
       "        text-align: right;\n",
       "    }\n",
       "</style>\n",
       "<table border=\"1\" class=\"dataframe\">\n",
       "  <thead>\n",
       "    <tr style=\"text-align: right;\">\n",
       "      <th></th>\n",
       "      <th>name</th>\n",
       "      <th>price</th>\n",
       "      <th>model</th>\n",
       "      <th>power</th>\n",
       "    </tr>\n",
       "  </thead>\n",
       "  <tbody>\n",
       "    <tr>\n",
       "      <th>0</th>\n",
       "      <td>Honda</td>\n",
       "      <td>10000</td>\n",
       "      <td>2020</td>\n",
       "      <td>1300</td>\n",
       "    </tr>\n",
       "    <tr>\n",
       "      <th>1</th>\n",
       "      <td>Toyota</td>\n",
       "      <td>12000</td>\n",
       "      <td>2021</td>\n",
       "      <td>1500</td>\n",
       "    </tr>\n",
       "    <tr>\n",
       "      <th>2</th>\n",
       "      <td>Audi</td>\n",
       "      <td>15000</td>\n",
       "      <td>2022</td>\n",
       "      <td>1730</td>\n",
       "    </tr>\n",
       "    <tr>\n",
       "      <th>3</th>\n",
       "      <td>Ford</td>\n",
       "      <td>18000</td>\n",
       "      <td>2010</td>\n",
       "      <td>1700</td>\n",
       "    </tr>\n",
       "  </tbody>\n",
       "</table>\n",
       "</div>"
      ],
      "text/plain": [
       "     name  price  model  power\n",
       "0   Honda  10000   2020   1300\n",
       "1  Toyota  12000   2021   1500\n",
       "2    Audi  15000   2022   1730\n",
       "3    Ford  18000   2010   1700"
      ]
     },
     "execution_count": 6,
     "metadata": {},
     "output_type": "execute_result"
    }
   ],
   "source": [
    "df_autos"
   ]
  },
  {
   "cell_type": "code",
   "execution_count": 7,
   "id": "41eeed8d",
   "metadata": {},
   "outputs": [
    {
     "data": {
      "text/html": [
       "<div>\n",
       "<style scoped>\n",
       "    .dataframe tbody tr th:only-of-type {\n",
       "        vertical-align: middle;\n",
       "    }\n",
       "\n",
       "    .dataframe tbody tr th {\n",
       "        vertical-align: top;\n",
       "    }\n",
       "\n",
       "    .dataframe thead th {\n",
       "        text-align: right;\n",
       "    }\n",
       "</style>\n",
       "<table border=\"1\" class=\"dataframe\">\n",
       "  <thead>\n",
       "    <tr style=\"text-align: right;\">\n",
       "      <th></th>\n",
       "      <th>sepalLength</th>\n",
       "      <th>sepalWidth</th>\n",
       "      <th>petalLength</th>\n",
       "      <th>petalWidth</th>\n",
       "      <th>species</th>\n",
       "    </tr>\n",
       "  </thead>\n",
       "  <tbody>\n",
       "    <tr>\n",
       "      <th>0</th>\n",
       "      <td>5.1</td>\n",
       "      <td>3.5</td>\n",
       "      <td>1.4</td>\n",
       "      <td>0.2</td>\n",
       "      <td>setosa</td>\n",
       "    </tr>\n",
       "    <tr>\n",
       "      <th>1</th>\n",
       "      <td>4.9</td>\n",
       "      <td>3.0</td>\n",
       "      <td>1.4</td>\n",
       "      <td>0.2</td>\n",
       "      <td>setosa</td>\n",
       "    </tr>\n",
       "    <tr>\n",
       "      <th>2</th>\n",
       "      <td>4.7</td>\n",
       "      <td>3.2</td>\n",
       "      <td>1.3</td>\n",
       "      <td>0.2</td>\n",
       "      <td>setosa</td>\n",
       "    </tr>\n",
       "    <tr>\n",
       "      <th>3</th>\n",
       "      <td>4.6</td>\n",
       "      <td>3.1</td>\n",
       "      <td>1.5</td>\n",
       "      <td>0.2</td>\n",
       "      <td>setosa</td>\n",
       "    </tr>\n",
       "    <tr>\n",
       "      <th>4</th>\n",
       "      <td>5.0</td>\n",
       "      <td>3.6</td>\n",
       "      <td>1.4</td>\n",
       "      <td>0.2</td>\n",
       "      <td>setosa</td>\n",
       "    </tr>\n",
       "  </tbody>\n",
       "</table>\n",
       "</div>"
      ],
      "text/plain": [
       "   sepalLength  sepalWidth  petalLength  petalWidth species\n",
       "0          5.1         3.5          1.4         0.2  setosa\n",
       "1          4.9         3.0          1.4         0.2  setosa\n",
       "2          4.7         3.2          1.3         0.2  setosa\n",
       "3          4.6         3.1          1.5         0.2  setosa\n",
       "4          5.0         3.6          1.4         0.2  setosa"
      ]
     },
     "execution_count": 7,
     "metadata": {},
     "output_type": "execute_result"
    }
   ],
   "source": [
    "import pandas as pd\n",
    "df_iris_f=pd.read_json('https://raw.githubusercontent.com/domoritz/maps/master/data/iris.json')\n",
    "df_iris_f.head()"
   ]
  },
  {
   "cell_type": "code",
   "execution_count": null,
   "id": "3da11b94",
   "metadata": {},
   "outputs": [],
   "source": []
  }
 ],
 "metadata": {
  "kernelspec": {
   "display_name": "Python 3 (ipykernel)",
   "language": "python",
   "name": "python3"
  },
  "language_info": {
   "codemirror_mode": {
    "name": "ipython",
    "version": 3
   },
   "file_extension": ".py",
   "mimetype": "text/x-python",
   "name": "python",
   "nbconvert_exporter": "python",
   "pygments_lexer": "ipython3",
   "version": "3.7.0"
  }
 },
 "nbformat": 4,
 "nbformat_minor": 5
}
