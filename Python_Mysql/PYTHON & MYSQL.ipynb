{
 "cells": [
  {
   "cell_type": "markdown",
   "id": "7ec83021",
   "metadata": {},
   "source": [
    "# Instalacion del Connector/Python/MYSQL"
   ]
  },
  {
   "cell_type": "code",
   "execution_count": 2,
   "id": "717ae991",
   "metadata": {},
   "outputs": [],
   "source": [
    "#pip install mysql-connector-python\n",
    "import mysql.connector"
   ]
  },
  {
   "cell_type": "code",
   "execution_count": null,
   "id": "6374ddfc",
   "metadata": {},
   "outputs": [],
   "source": [
    "from mysql.connector import connect,Error\n",
    "try:\n",
    "    with connect(\n",
    "        host=\"localhost\",\n",
    "        user=\"root\",\n",
    "        password=\"Rioazulq12\"\n",
    "    )as connection:\n",
    "        print(connection)\n",
    "except Error as e:\n",
    "    print(e)"
   ]
  },
  {
   "cell_type": "markdown",
   "id": "8a5b76a1",
   "metadata": {},
   "source": [
    "# Creacion de Base de datos"
   ]
  },
  {
   "cell_type": "markdown",
   "id": "c1760abf",
   "metadata": {},
   "source": [
    "<img src=\"E_R.png\" />"
   ]
  },
  {
   "cell_type": "code",
   "execution_count": null,
   "id": "d711c9cf",
   "metadata": {},
   "outputs": [],
   "source": [
    "from mysql.connector import connect,Error\n",
    "try:\n",
    "    with connect(\n",
    "        host=\"localhost\",\n",
    "        user=\"root\",\n",
    "        password=\"Rioazulq12\"\n",
    "    )as connection:\n",
    "        create_db_query = \"CREATE DATABASE movies_online\"\n",
    "        with connection.cursor() as cursor:\n",
    "            cursor.execute(create_db_query)\n",
    "except Error as e:\n",
    "    print(e)            "
   ]
  },
  {
   "cell_type": "markdown",
   "id": "3b206cd1",
   "metadata": {},
   "source": [
    "# Creacion de Tablas"
   ]
  },
  {
   "cell_type": "code",
   "execution_count": null,
   "id": "9280053a",
   "metadata": {},
   "outputs": [],
   "source": [
    "import mysql.connector\n",
    "connection = mysql.connector.connect(\n",
    "     host=\"localhost\",\n",
    "     user=\"root\",\n",
    "     password=\"Rioazulq12\",\n",
    "     database=\"movies_online\"\n",
    "  )\n",
    "\n",
    "create_movies_table_query= \"\"\"\n",
    "CREATE TABLE movies(\n",
    "   id INT AUTO_INCREMENT PRIMARY KEY,\n",
    "   title VARCHAR(100),\n",
    "   release_year YEAR(4),\n",
    "   genre VARCHAR(100),\n",
    "   collection_in_mil INT\n",
    "  )\n",
    "\"\"\"\n",
    "with connection.cursor() as cursor:\n",
    "    cursor.execute(create_movies_table_query)\n",
    "    connection.commit() #Ejecutar fisicamente los cambios en LA BD"
   ]
  },
  {
   "cell_type": "code",
   "execution_count": null,
   "id": "2b689e95",
   "metadata": {},
   "outputs": [],
   "source": [
    "def conexion_bd():\n",
    "    connection = mysql.connector.connect(\n",
    "        host=\"localhost\",\n",
    "        user=\"root\",\n",
    "        password=\"Rioazulq12\",\n",
    "        database=\"movies_online\"\n",
    "  )\n",
    "    return connection"
   ]
  },
  {
   "cell_type": "markdown",
   "id": "0dba8cf0",
   "metadata": {},
   "source": [
    "# Insertar Registros a la Tabla"
   ]
  },
  {
   "cell_type": "code",
   "execution_count": 6,
   "id": "365fc43f",
   "metadata": {},
   "outputs": [],
   "source": [
    "insert_movies_query = \"\"\"\n",
    "INSERT INTO movies (title,release_year,genre,collection_in_mil)\n",
    "VALUES\n",
    "  (\"3 Idiots\", 2009, \"Drama\", 2.4),\n",
    "    (\"Eternal Sunshine of the Spotless Mind\", 2004, \"Drama\", 34.5),\n",
    "    (\"Good Will Hunting\", 1997, \"Drama\", 138.1),\n",
    "    (\"Skyfall\", 2012, \"Action\", 304.6),\n",
    "    (\"Gladiator\", 2000, \"Action\", 188.7),\n",
    "    (\"Black\", 2005, \"Drama\", 3.0),\n",
    "    (\"Titanic\", 1997, \"Romance\", 659.2),\n",
    "    (\"The Shawshank Redemption\", 1994, \"Drama\",28.4),\n",
    "    (\"Udaan\", 2010, \"Drama\", 1.5),\n",
    "    (\"Home Alone\", 1990, \"Comedy\", 286.9),\n",
    "    (\"Casablanca\", 1942, \"Romance\", 1.0),\n",
    "    (\"Avengers: Endgame\", 2019, \"Action\", 858.8),\n",
    "    (\"Night of the Living Dead\", 1968, \"Horror\", 2.5),\n",
    "    (\"The Godfather\", 1972, \"Crime\", 135.6),\n",
    "    (\"Haider\", 2014, \"Action\", 4.2),\n",
    "    (\"Inception\", 2010, \"Adventure\", 293.7),\n",
    "    (\"Evil\", 2003, \"Horror\", 1.3),\n",
    "    (\"Toy Story 4\", 2019, \"Animation\", 434.9),\n",
    "    (\"Air Force One\", 1997, \"Drama\", 138.1),\n",
    "    (\"The Dark Knight\", 2008, \"Action\",535.4),\n",
    "    (\"Bhaag Milkha Bhaag\", 2013, \"Sport\", 4.1),\n",
    "    (\"The Lion King\", 1994, \"Animation\", 423.6),\n",
    "    (\"Pulp Fiction\", 1994, \"Crime\", 108.8),\n",
    "    (\"Kai Po Che\", 2013, \"Sport\", 6.0),\n",
    "    (\"Beasts of No Nation\", 2015, \"War\", 1.4),\n",
    "    (\"Andadhun\", 2018, \"Thriller\", 2.9),\n",
    "    (\"The Silence of the Lambs\", 1991, \"Crime\", 68.2),\n",
    "    (\"Deadpool\", 2016, \"Action\", 363.6),\n",
    "    (\"Drishyam\", 2015, \"Mystery\", 3.0)\n",
    "\"\"\"\n",
    "\n",
    "#Creando un Objeto de Conexion\n",
    "obj_conexion=conexion_bd()\n",
    "\n",
    "with obj_conexion.cursor() as cursor:\n",
    "    cursor.execute(insert_movies_query)\n",
    "    obj_conexion.commit() #Ejecutar fisicamente los cambios en LA BD"
   ]
  },
  {
   "cell_type": "code",
   "execution_count": 7,
   "id": "4baf0935",
   "metadata": {},
   "outputs": [],
   "source": [
    "create_reviewers_tabla_query =\"\"\"\n",
    "CREATE TABLE reviewers (\n",
    "   id INT AUTO_INCREMENT PRIMARY KEY,\n",
    "   first_name VARCHAR(100),\n",
    "   last_name VARCHAR(100)\n",
    ")\n",
    "\"\"\"\n",
    "\n",
    "#Creando un Objeto de Conexion\n",
    "obj_conexion=conexion_bd()\n",
    "\n",
    "with obj_conexion.cursor() as cursor:\n",
    "    cursor.execute(create_reviewers_tabla_query)\n",
    "    obj_conexion.commit() #Ejecutar fisicamente los cambios en LA BD"
   ]
  },
  {
   "cell_type": "code",
   "execution_count": 8,
   "id": "0597361a",
   "metadata": {},
   "outputs": [],
   "source": [
    "insert_reviewers_query=\"\"\"\n",
    "INSERT INTO reviewers\n",
    "(first_name,last_name)\n",
    "VALUES(%s,%s)\n",
    "\"\"\"\n",
    "\n",
    "reviewers_records = [\n",
    "    (\"Chaitanya\", \"Baweja\"),\n",
    "    (\"Mary\", \"Cooper\"),\n",
    "    (\"John\", \"Wayne\"),\n",
    "    (\"Thomas\", \"Stoneman\"),\n",
    "    (\"Penny\", \"Hofstadter\"),\n",
    "    (\"Mitchell\", \"Marsh\"),\n",
    "    (\"Wyatt\", \"Skaggs\"),\n",
    "    (\"Andre\", \"Veiga\"),\n",
    "    (\"Sheldon\", \"Cooper\"),\n",
    "    (\"Kimbra\", \"Masters\"),\n",
    "    (\"Kat\", \"Dennings\"),\n",
    "    (\"Bruce\", \"Wayne\"),\n",
    "    (\"Domingo\", \"Cortes\"),\n",
    "    (\"Rajesh\", \"Koothrappali\"),\n",
    "    (\"Ben\", \"Glocker\"),\n",
    "    (\"Mahinder\", \"Dhoni\"),\n",
    "    (\"Akbar\", \"Khan\"),\n",
    "    (\"Howard\", \"Wolowitz\"),\n",
    "    (\"Pinkie\", \"Petit\"),\n",
    "    (\"Gurkaran\", \"Singh\"),\n",
    "    (\"Amy\", \"Farah Fowler\"),\n",
    "    (\"Marlon\", \"Crafford\"),\n",
    "]\n",
    "\n",
    "#Creando un Objeto de Conexion\n",
    "obj_conexion=conexion_bd()\n",
    "\n",
    "with obj_conexion.cursor() as cursor:\n",
    "    cursor.executemany(insert_reviewers_query,reviewers_records)\n",
    "    obj_conexion.commit() #Ejecutar fisicamente los cambios en LA BD"
   ]
  },
  {
   "cell_type": "code",
   "execution_count": 9,
   "id": "a911c10d",
   "metadata": {},
   "outputs": [],
   "source": [
    "create_ratings_table_query=\"\"\"\n",
    "CREATE TABLE ratings (\n",
    "   movie_id  INT,\n",
    "   reviewer_id INT,\n",
    "   rating DECIMAL(2,1),\n",
    "   FOREIGN KEY(movie_id) REFERENCES movies(id),\n",
    "   FOREIGN KEY(reviewer_id) REFERENCES reviewers(id),\n",
    "   PRIMARY KEY(movie_id,reviewer_id)\n",
    ")\n",
    "\n",
    "\"\"\"\n",
    "\n",
    "#Creando un Objeto de Conexion\n",
    "obj_conexion=conexion_bd()\n",
    "\n",
    "with obj_conexion.cursor() as cursor:\n",
    "    cursor.execute(create_ratings_table_query)\n",
    "    obj_conexion.commit() #Ejecutar fisicamente los cambios en LA BD"
   ]
  },
  {
   "cell_type": "code",
   "execution_count": 10,
   "id": "92eeedd2",
   "metadata": {},
   "outputs": [],
   "source": [
    "insert_ratings_query =\"\"\"\n",
    "INSERT INTO ratings\n",
    "(rating,movie_id,reviewer_id)\n",
    "VALUES(%s , %s ,%s)\n",
    "\"\"\"\n",
    "ratings_records = [\n",
    "    (6.4, 17, 5), (5.6, 19, 1), (6.3, 22, 14), (5.1, 21, 17),\n",
    "    (5.0, 5, 5), (6.5, 21, 5), (8.5, 30, 13), (9.7, 6, 4),\n",
    "    (8.5, 24, 12), (9.9, 14, 9), (8.7, 26, 14), (9.9, 6, 10),\n",
    "    (5.1, 30, 6), (5.4, 18, 16), (6.2, 6, 20), (7.3, 21, 19),\n",
    "    (8.1, 17, 18), (5.0, 7, 2), (9.8, 23, 3), (8.0, 22, 9),\n",
    "    (8.5, 11, 13), (5.0, 5, 11), (5.7, 8, 2), (7.6, 25, 19),\n",
    "    (5.2, 18, 15), (9.7, 13, 3), (5.8, 18, 8), (5.8, 30, 15),\n",
    "    (8.4, 21, 18), (6.2, 23, 16), (7.0, 10, 18), (9.5, 30, 20),\n",
    "    (8.9, 3, 19), (6.4, 12, 2), (7.8, 12, 22), (9.9, 15, 13),\n",
    "    (7.5, 20, 17), (9.0, 25, 6), (8.5, 23, 2), (5.3, 30, 17),\n",
    "    (6.4, 5, 10), (8.1, 5, 21), (5.7, 22, 1), (6.3, 28, 4),\n",
    "    (9.8, 13, 1)\n",
    "]\n",
    "\n",
    "\n",
    "#Creando un Objeto de Conexion\n",
    "obj_conexion=conexion_bd()\n",
    "\n",
    "with obj_conexion.cursor() as cursor:\n",
    "    cursor.executemany(insert_ratings_query,ratings_records)\n",
    "    obj_conexion.commit() #Ejecutar fisicamente los cambios en LA BD"
   ]
  },
  {
   "cell_type": "markdown",
   "id": "9fc4b721",
   "metadata": {},
   "source": [
    "# Estructura de la Tabla"
   ]
  },
  {
   "cell_type": "code",
   "execution_count": 14,
   "id": "52723748",
   "metadata": {},
   "outputs": [
    {
     "name": "stdout",
     "output_type": "stream",
     "text": [
      "('id', 'int', 'NO', 'PRI', None, 'auto_increment')\n",
      "('title', 'varchar(100)', 'YES', '', None, '')\n",
      "('release_year', 'year', 'YES', '', None, '')\n",
      "('genre', 'varchar(100)', 'YES', '', None, '')\n",
      "('collection_in_mil', 'int', 'YES', '', None, '')\n"
     ]
    }
   ],
   "source": [
    "#Creando un Objeto de Conexion\n",
    "obj_conexion=conexion_bd()\n",
    "\n",
    "show_table_query=\"describe movies\"\n",
    "\n",
    "with obj_conexion.cursor() as cursor:\n",
    "    cursor.execute(show_table_query)\n",
    "    result = cursor.fetchall()\n",
    "    for row in result:\n",
    "        print(row)\n",
    "    "
   ]
  },
  {
   "cell_type": "markdown",
   "id": "b329e47e",
   "metadata": {},
   "source": [
    "# Instrucciones SQL"
   ]
  },
  {
   "cell_type": "code",
   "execution_count": 17,
   "id": "218c7460",
   "metadata": {},
   "outputs": [
    {
     "name": "stdout",
     "output_type": "stream",
     "text": [
      "(1, 'Forrest Gump', 1994, 'Drama', 330)\n",
      "(2, '3 Idiots', 2009, 'Drama', 2)\n",
      "(3, 'Eternal Sunshine of the Spotless Mind', 2004, 'Drama', 35)\n",
      "(4, 'Good Will Hunting', 1997, 'Drama', 138)\n",
      "(5, 'Skyfall', 2012, 'Action', 305)\n",
      "(6, 'Gladiator', 2000, 'Action', 189)\n",
      "(7, 'Black', 2005, 'Drama', 3)\n",
      "(8, 'Titanic', 1997, 'Romance', 659)\n",
      "(9, 'The Shawshank Redemption', 1994, 'Drama', 28)\n",
      "(10, 'Udaan', 2010, 'Drama', 2)\n",
      "(11, 'Home Alone', 1990, 'Comedy', 287)\n",
      "(12, 'Casablanca', 1942, 'Romance', 1)\n",
      "(13, 'Avengers: Endgame', 2019, 'Action', 859)\n",
      "(14, 'Night of the Living Dead', 1968, 'Horror', 3)\n",
      "(15, 'The Godfather', 1972, 'Crime', 136)\n"
     ]
    }
   ],
   "source": [
    "#Mostrar Los primeros 15 registros\n",
    "select_movies_query=\"SELECT * FROM movies LIMIT 15\"\n",
    "\n",
    "#Creando un Objeto de Conexion\n",
    "obj_conexion=conexion_bd()\n",
    "\n",
    "with obj_conexion.cursor() as cursor:\n",
    "    cursor.execute(select_movies_query)\n",
    "    result = cursor.fetchall()\n",
    "    for row in result:\n",
    "        print(row)"
   ]
  },
  {
   "cell_type": "code",
   "execution_count": 20,
   "id": "b2b7f45f",
   "metadata": {},
   "outputs": [
    {
     "name": "stdout",
     "output_type": "stream",
     "text": [
      "('Forrest Gump', 1994)\n",
      "('3 Idiots', 2009)\n",
      "('Eternal Sunshine of the Spotless Mind', 2004)\n",
      "('Good Will Hunting', 1997)\n",
      "('Skyfall', 2012)\n",
      "('Gladiator', 2000)\n",
      "('Black', 2005)\n",
      "('Titanic', 1997)\n",
      "('The Shawshank Redemption', 1994)\n",
      "('Udaan', 2010)\n",
      "('Home Alone', 1990)\n",
      "('Casablanca', 1942)\n",
      "('Avengers: Endgame', 2019)\n",
      "('Night of the Living Dead', 1968)\n",
      "('The Godfather', 1972)\n"
     ]
    }
   ],
   "source": [
    "#Seleccionar Algunos campos\n",
    "select_movies_query=\"SELECT title,release_year FROM movies LIMIT 15\"\n",
    "\n",
    "#Creando un Objeto de Conexion\n",
    "obj_conexion=conexion_bd()\n",
    "\n",
    "with obj_conexion.cursor() as cursor:\n",
    "    cursor.execute(select_movies_query)\n",
    "    result = cursor.fetchall()\n",
    "    for row in result:\n",
    "        print(row)"
   ]
  },
  {
   "cell_type": "code",
   "execution_count": 23,
   "id": "95302a6f",
   "metadata": {},
   "outputs": [
    {
     "name": "stdout",
     "output_type": "stream",
     "text": [
      "('Avengers: Endgame', 859)\n",
      "('Titanic', 659)\n",
      "('The Dark Knight', 535)\n",
      "('Toy Story 4', 435)\n",
      "('The Lion King', 424)\n",
      "('Deadpool', 364)\n",
      "('Forrest Gump', 330)\n",
      "('Skyfall', 305)\n",
      "('Inception', 294)\n",
      "('Home Alone', 287)\n",
      "('Gladiator', 189)\n",
      "('Good Will Hunting', 138)\n",
      "('Air Force One', 138)\n",
      "('The Godfather', 136)\n",
      "('Pulp Fiction', 109)\n"
     ]
    }
   ],
   "source": [
    "#Utilizando Filtros WHERE Ordenando los resultados\n",
    "select_movies_query=\"\"\"\n",
    "        SELECT title,collection_in_mil \n",
    "        FROM movies \n",
    "        WHERE collection_in_mil >100\n",
    "        ORDER BY collection_in_mil DESC\n",
    "        \"\"\"\n",
    "\n",
    "#Creando un Objeto de Conexion\n",
    "obj_conexion=conexion_bd()\n",
    "\n",
    "with obj_conexion.cursor() as cursor:\n",
    "    cursor.execute(select_movies_query)\n",
    "    result = cursor.fetchall()\n",
    "    for row in result:\n",
    "        print(row)"
   ]
  },
  {
   "cell_type": "code",
   "execution_count": 25,
   "id": "88035196",
   "metadata": {},
   "outputs": [
    {
     "name": "stdout",
     "output_type": "stream",
     "text": [
      "('Night of the Living Dead', Decimal('9.90000'))\n",
      "('The Godfather', Decimal('9.90000'))\n",
      "('Avengers: Endgame', Decimal('9.75000'))\n",
      "('Eternal Sunshine of the Spotless Mind', Decimal('8.90000'))\n",
      "('Beasts of No Nation', Decimal('8.70000'))\n",
      "('Gladiator', Decimal('8.60000'))\n",
      "('Home Alone', Decimal('8.50000'))\n",
      "('Pulp Fiction', Decimal('8.50000'))\n",
      "('Kai Po Che', Decimal('8.30000'))\n",
      "('The Lion King', Decimal('8.16667'))\n",
      "('Air Force One', Decimal('7.50000'))\n",
      "('Inception', Decimal('7.25000'))\n",
      "('Casablanca', Decimal('7.10000'))\n",
      "('Udaan', Decimal('7.00000'))\n",
      "('Drishyam', Decimal('6.84000'))\n",
      "('The Dark Knight', Decimal('6.82500'))\n",
      "('Bhaag Milkha Bhaag', Decimal('6.66667'))\n",
      "('The Silence of the Lambs', Decimal('6.30000'))\n",
      "('Skyfall', Decimal('6.12500'))\n",
      "('Titanic', Decimal('5.70000'))\n"
     ]
    }
   ],
   "source": [
    "select_movies_avg=\"\"\"\n",
    "  SELECT title,avg(rating) average_rating from movies m inner join ratings r \n",
    "       on  m.id=r.movie_id\n",
    "       group by movie_id\n",
    "       order by average_rating desc\n",
    "       LIMIT 20\n",
    "\"\"\"\n",
    "\n",
    "#Creando un Objeto de Conexion\n",
    "obj_conexion=conexion_bd()\n",
    "\n",
    "with obj_conexion.cursor() as cursor:\n",
    "    cursor.execute(select_movies_avg)\n",
    "    result = cursor.fetchall()\n",
    "    for row in result:\n",
    "        print(row)"
   ]
  },
  {
   "cell_type": "code",
   "execution_count": 37,
   "id": "8356e363",
   "metadata": {},
   "outputs": [
    {
     "name": "stdout",
     "output_type": "stream",
     "text": [
      "Ingrese el ID de la Pelicula14\n",
      "Ingrese el ID del reviewer9\n",
      "[('Night of the Living Dead', 9, Decimal('9.90000'))]\n"
     ]
    }
   ],
   "source": [
    "movie_id = input(\"Ingrese el ID de la Pelicula\")\n",
    "reviewer_id = input(\"Ingrese el ID del reviewer\")\n",
    "\n",
    "select_movies_avg=\"\"\"\n",
    "SELECT title,r.reviewer_id,avg(rating) average_rating \n",
    "       from movies m inner join ratings r \n",
    "       on  m.id=r.movie_id\n",
    "       where m.id=%s and r.reviewer_id=%s\n",
    "       group by movie_id\n",
    "\"\"\"\n",
    "\n",
    "val_tuple=(\n",
    "    movie_id,\n",
    "    reviewer_id,\n",
    ")\n",
    "#Creando un Objeto de Conexion\n",
    "obj_conexion=conexion_bd()\n",
    "\n",
    "with obj_conexion.cursor() as cursor:\n",
    "    existe=False\n",
    "    for result in cursor.execute(select_movies_avg,val_tuple,multi=True):\n",
    "        if result.with_rows:\n",
    "            existe=True\n",
    "            print(result.fetchall())\n",
    "            break\n",
    "    if existe==False:\n",
    "        print(\"Nada que Mostra\")        "
   ]
  },
  {
   "cell_type": "markdown",
   "id": "cb8afed0",
   "metadata": {},
   "source": [
    "# Base datos & DataFrame"
   ]
  },
  {
   "cell_type": "code",
   "execution_count": 38,
   "id": "c8edf512",
   "metadata": {},
   "outputs": [],
   "source": [
    "import pandas as pd\n",
    "import sqlite3"
   ]
  },
  {
   "cell_type": "code",
   "execution_count": 40,
   "id": "7c3e94e2",
   "metadata": {},
   "outputs": [],
   "source": []
  },
  {
   "cell_type": "code",
   "execution_count": 41,
   "id": "55b4108f",
   "metadata": {},
   "outputs": [],
   "source": [
    "c=conn.cursor()\n",
    "c.execute('CREATE TABLE IF NOT EXISTS products (product_name text,price number)')\n",
    "conn.commit()"
   ]
  },
  {
   "cell_type": "code",
   "execution_count": 47,
   "id": "8d824044",
   "metadata": {},
   "outputs": [],
   "source": [
    "conn = sqlite3.connect('bdlocal_mayo_2023')\n",
    "c.execute('CREATE TABLE IF NOT EXISTS products (product_name text,price number)')\n",
    "conn.commit()\n",
    "\n",
    "data = {'product_name': ['Computer','Tablet','Monitor','Printer'],\n",
    "        'price': [900,300,450,150]\n",
    "        }\n",
    "#Preparndo el DataFrame o la Estructura del DataFrame para imporar los datos de SQL\n",
    "df = pd.DataFrame(data,columns=['product_name','price'])\n",
    "df.to_sql('products',conn,if_exists='replace',index=False)\n",
    "c.execute('''\n",
    "SELECT * FROM PRODUCTS\n",
    "''')\n",
    "#Importando la informacio\n",
    "df = pd.DataFrame(c.fetchall(),columns=['product_name','price'])\n"
   ]
  },
  {
   "cell_type": "code",
   "execution_count": 48,
   "id": "d3441c3c",
   "metadata": {},
   "outputs": [
    {
     "data": {
      "text/html": [
       "<div>\n",
       "<style scoped>\n",
       "    .dataframe tbody tr th:only-of-type {\n",
       "        vertical-align: middle;\n",
       "    }\n",
       "\n",
       "    .dataframe tbody tr th {\n",
       "        vertical-align: top;\n",
       "    }\n",
       "\n",
       "    .dataframe thead th {\n",
       "        text-align: right;\n",
       "    }\n",
       "</style>\n",
       "<table border=\"1\" class=\"dataframe\">\n",
       "  <thead>\n",
       "    <tr style=\"text-align: right;\">\n",
       "      <th></th>\n",
       "      <th>product_name</th>\n",
       "      <th>price</th>\n",
       "    </tr>\n",
       "  </thead>\n",
       "  <tbody>\n",
       "    <tr>\n",
       "      <th>0</th>\n",
       "      <td>Computer</td>\n",
       "      <td>900</td>\n",
       "    </tr>\n",
       "    <tr>\n",
       "      <th>1</th>\n",
       "      <td>Tablet</td>\n",
       "      <td>300</td>\n",
       "    </tr>\n",
       "    <tr>\n",
       "      <th>2</th>\n",
       "      <td>Monitor</td>\n",
       "      <td>450</td>\n",
       "    </tr>\n",
       "    <tr>\n",
       "      <th>3</th>\n",
       "      <td>Printer</td>\n",
       "      <td>150</td>\n",
       "    </tr>\n",
       "  </tbody>\n",
       "</table>\n",
       "</div>"
      ],
      "text/plain": [
       "  product_name  price\n",
       "0     Computer    900\n",
       "1       Tablet    300\n",
       "2      Monitor    450\n",
       "3      Printer    150"
      ]
     },
     "execution_count": 48,
     "metadata": {},
     "output_type": "execute_result"
    }
   ],
   "source": [
    "df."
   ]
  },
  {
   "cell_type": "code",
   "execution_count": null,
   "id": "1075b5ca",
   "metadata": {},
   "outputs": [],
   "source": []
  }
 ],
 "metadata": {
  "kernelspec": {
   "display_name": "Python 3 (ipykernel)",
   "language": "python",
   "name": "python3"
  },
  "language_info": {
   "codemirror_mode": {
    "name": "ipython",
    "version": 3
   },
   "file_extension": ".py",
   "mimetype": "text/x-python",
   "name": "python",
   "nbconvert_exporter": "python",
   "pygments_lexer": "ipython3",
   "version": "3.7.0"
  }
 },
 "nbformat": 4,
 "nbformat_minor": 5
}
