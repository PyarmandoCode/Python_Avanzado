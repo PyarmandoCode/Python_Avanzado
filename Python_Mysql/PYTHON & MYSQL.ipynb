{
 "cells": [
  {
   "cell_type": "markdown",
   "id": "64290bc1",
   "metadata": {},
   "source": [
    "# Instalacion del Connector/Python/MYSQL"
   ]
  },
  {
   "cell_type": "code",
   "execution_count": null,
   "id": "c059a587",
   "metadata": {},
   "outputs": [],
   "source": [
    "#pip install mysql-connector-python\n",
    "import mysql.connector"
   ]
  },
  {
   "cell_type": "code",
   "execution_count": null,
   "id": "aa0ff1ce",
   "metadata": {},
   "outputs": [],
   "source": [
    "from mysql.connector import connect,Error\n",
    "try:\n",
    "    with connect(\n",
    "        host=\"localhost\",\n",
    "        user=\"root\",\n",
    "        password=\"Rioazulq12\"\n",
    "    )as connection:\n",
    "        print(connection)\n",
    "except Error as e:\n",
    "    print(e)"
   ]
  },
  {
   "cell_type": "markdown",
   "id": "91ebbf0a",
   "metadata": {},
   "source": [
    "# Creacion de Base de datos"
   ]
  },
  {
   "cell_type": "markdown",
   "id": "f1e70f76",
   "metadata": {},
   "source": [
    "<img src=\"E_R.png\" />"
   ]
  },
  {
   "cell_type": "code",
   "execution_count": null,
   "id": "4867626f",
   "metadata": {},
   "outputs": [],
   "source": [
    "from mysql.connector import connect,Error\n",
    "try:\n",
    "    with connect(\n",
    "        host=\"localhost\",\n",
    "        user=\"root\",\n",
    "        password=\"Rioazulq12\"\n",
    "    )as connection:\n",
    "        create_db_query = \"CREATE DATABASE movies_online\"\n",
    "        with connection.cursor() as cursor:\n",
    "            cursor.execute(create_db_query)\n",
    "except Error as e:\n",
    "    print(e)            "
   ]
  },
  {
   "cell_type": "markdown",
   "id": "b35d6ee7",
   "metadata": {},
   "source": [
    "# Creacion de Tablas"
   ]
  },
  {
   "cell_type": "code",
   "execution_count": null,
   "id": "5b8b1980",
   "metadata": {},
   "outputs": [],
   "source": [
    "import mysql.connector\n",
    "connection = mysql.connector.connect(\n",
    "     host=\"localhost\",\n",
    "     user=\"root\",\n",
    "     password=\"Rioazulq12\",\n",
    "     database=\"movies_online\"\n",
    "  )\n",
    "\n",
    "create_movies_table_query= \"\"\"\n",
    "CREATE TABLE movies(\n",
    "   id INT AUTO_INCREMENT PRIMARY KEY,\n",
    "   title VARCHAR(100),\n",
    "   release_year YEAR(4),\n",
    "   genre VARCHAR(100),\n",
    "   collection_in_mil INT\n",
    "  )\n",
    "\"\"\"\n",
    "with connection.cursor() as cursor:\n",
    "    cursor.execute(create_movies_table_query)\n",
    "    connection.commit() #Ejecutar fisicamente los cambios en LA BD"
   ]
  },
  {
   "cell_type": "code",
   "execution_count": null,
   "id": "c3c5b7a4",
   "metadata": {},
   "outputs": [],
   "source": [
    "def conexion_bd():\n",
    "    connection = mysql.connector.connect(\n",
    "        host=\"localhost\",\n",
    "        user=\"root\",\n",
    "        password=\"Rioazulq12\",\n",
    "        database=\"movies_online\"\n",
    "  )\n",
    "    return connection"
   ]
  },
  {
   "cell_type": "markdown",
   "id": "e07609e4",
   "metadata": {},
   "source": [
    "# Insertar Registros a la Tabla"
   ]
  },
  {
   "cell_type": "code",
   "execution_count": null,
   "id": "4b444872",
   "metadata": {},
   "outputs": [],
   "source": [
    "insert_movies_query = \"\"\"\n",
    "INSERT INTO movies (title,release_year,genre,collection_in_mil)\n",
    "VALUES\n",
    "  (\"3 Idiots\", 2009, \"Drama\", 2.4),\n",
    "    (\"Eternal Sunshine of the Spotless Mind\", 2004, \"Drama\", 34.5),\n",
    "    (\"Good Will Hunting\", 1997, \"Drama\", 138.1),\n",
    "    (\"Skyfall\", 2012, \"Action\", 304.6),\n",
    "    (\"Gladiator\", 2000, \"Action\", 188.7),\n",
    "    (\"Black\", 2005, \"Drama\", 3.0),\n",
    "    (\"Titanic\", 1997, \"Romance\", 659.2),\n",
    "    (\"The Shawshank Redemption\", 1994, \"Drama\",28.4),\n",
    "    (\"Udaan\", 2010, \"Drama\", 1.5),\n",
    "    (\"Home Alone\", 1990, \"Comedy\", 286.9),\n",
    "    (\"Casablanca\", 1942, \"Romance\", 1.0),\n",
    "    (\"Avengers: Endgame\", 2019, \"Action\", 858.8),\n",
    "    (\"Night of the Living Dead\", 1968, \"Horror\", 2.5),\n",
    "    (\"The Godfather\", 1972, \"Crime\", 135.6),\n",
    "    (\"Haider\", 2014, \"Action\", 4.2),\n",
    "    (\"Inception\", 2010, \"Adventure\", 293.7),\n",
    "    (\"Evil\", 2003, \"Horror\", 1.3),\n",
    "    (\"Toy Story 4\", 2019, \"Animation\", 434.9),\n",
    "    (\"Air Force One\", 1997, \"Drama\", 138.1),\n",
    "    (\"The Dark Knight\", 2008, \"Action\",535.4),\n",
    "    (\"Bhaag Milkha Bhaag\", 2013, \"Sport\", 4.1),\n",
    "    (\"The Lion King\", 1994, \"Animation\", 423.6),\n",
    "    (\"Pulp Fiction\", 1994, \"Crime\", 108.8),\n",
    "    (\"Kai Po Che\", 2013, \"Sport\", 6.0),\n",
    "    (\"Beasts of No Nation\", 2015, \"War\", 1.4),\n",
    "    (\"Andadhun\", 2018, \"Thriller\", 2.9),\n",
    "    (\"The Silence of the Lambs\", 1991, \"Crime\", 68.2),\n",
    "    (\"Deadpool\", 2016, \"Action\", 363.6),\n",
    "    (\"Drishyam\", 2015, \"Mystery\", 3.0)\n",
    "\"\"\"\n",
    "\n",
    "#Creando un Objeto de Conexion\n",
    "obj_conexion=conexion_bd()\n",
    "\n",
    "with obj_conexion.cursor() as cursor:\n",
    "    cursor.execute(insert_movies_query)\n",
    "    obj_conexion.commit() #Ejecutar fisicamente los cambios en LA BD"
   ]
  },
  {
   "cell_type": "code",
   "execution_count": null,
   "id": "954ffd31",
   "metadata": {},
   "outputs": [],
   "source": [
    "create_reviewers_tabla_query =\"\"\"\n",
    "CREATE TABLE reviewers (\n",
    "   id INT AUTO_INCREMENT PRIMARY KEY,\n",
    "   first_name VARCHAR(100),\n",
    "   last_name VARCHAR(100)\n",
    ")\n",
    "\"\"\"\n",
    "\n",
    "#Creando un Objeto de Conexion\n",
    "obj_conexion=conexion_bd()\n",
    "\n",
    "with obj_conexion.cursor() as cursor:\n",
    "    cursor.execute(create_reviewers_tabla_query)\n",
    "    obj_conexion.commit() #Ejecutar fisicamente los cambios en LA BD"
   ]
  },
  {
   "cell_type": "code",
   "execution_count": null,
   "id": "d08b3e54",
   "metadata": {},
   "outputs": [],
   "source": [
    "insert_reviewers_query=\"\"\"\n",
    "INSERT INTO reviewers\n",
    "(first_name,last_name)\n",
    "VALUES(%s,%s)\n",
    "\"\"\"\n",
    "\n",
    "reviewers_records = [\n",
    "    (\"Chaitanya\", \"Baweja\"),\n",
    "    (\"Mary\", \"Cooper\"),\n",
    "    (\"John\", \"Wayne\"),\n",
    "    (\"Thomas\", \"Stoneman\"),\n",
    "    (\"Penny\", \"Hofstadter\"),\n",
    "    (\"Mitchell\", \"Marsh\"),\n",
    "    (\"Wyatt\", \"Skaggs\"),\n",
    "    (\"Andre\", \"Veiga\"),\n",
    "    (\"Sheldon\", \"Cooper\"),\n",
    "    (\"Kimbra\", \"Masters\"),\n",
    "    (\"Kat\", \"Dennings\"),\n",
    "    (\"Bruce\", \"Wayne\"),\n",
    "    (\"Domingo\", \"Cortes\"),\n",
    "    (\"Rajesh\", \"Koothrappali\"),\n",
    "    (\"Ben\", \"Glocker\"),\n",
    "    (\"Mahinder\", \"Dhoni\"),\n",
    "    (\"Akbar\", \"Khan\"),\n",
    "    (\"Howard\", \"Wolowitz\"),\n",
    "    (\"Pinkie\", \"Petit\"),\n",
    "    (\"Gurkaran\", \"Singh\"),\n",
    "    (\"Amy\", \"Farah Fowler\"),\n",
    "    (\"Marlon\", \"Crafford\"),\n",
    "]\n",
    "\n",
    "#Creando un Objeto de Conexion\n",
    "obj_conexion=conexion_bd()\n",
    "\n",
    "with obj_conexion.cursor() as cursor:\n",
    "    cursor.executemany(insert_reviewers_query,reviewers_records)\n",
    "    obj_conexion.commit() #Ejecutar fisicamente los cambios en LA BD"
   ]
  },
  {
   "cell_type": "code",
   "execution_count": null,
   "id": "143847cd",
   "metadata": {},
   "outputs": [],
   "source": [
    "create_ratings_table_query=\"\"\"\n",
    "CREATE TABLE ratings (\n",
    "   movie_id  INT,\n",
    "   reviewer_id INT,\n",
    "   rating DECIMAL(2,1),\n",
    "   FOREIGN KEY(movie_id) REFERENCES movies(id),\n",
    "   FOREIGN KEY(reviewer_id) REFERENCES reviewers(id),\n",
    "   PRIMARY KEY(movie_id,reviewer_id)\n",
    ")\n",
    "\n",
    "\"\"\"\n",
    "\n",
    "#Creando un Objeto de Conexion\n",
    "obj_conexion=conexion_bd()\n",
    "\n",
    "with obj_conexion.cursor() as cursor:\n",
    "    cursor.execute(create_ratings_table_query)\n",
    "    obj_conexion.commit() #Ejecutar fisicamente los cambios en LA BD"
   ]
  },
  {
   "cell_type": "code",
   "execution_count": null,
   "id": "1cd9441e",
   "metadata": {},
   "outputs": [],
   "source": [
    "insert_ratings_query =\"\"\"\n",
    "INSERT INTO ratings\n",
    "(rating,movie_id,reviewer_id)\n",
    "VALUES(%s , %s ,%s)\n",
    "\"\"\"\n",
    "ratings_records = [\n",
    "    (6.4, 17, 5), (5.6, 19, 1), (6.3, 22, 14), (5.1, 21, 17),\n",
    "    (5.0, 5, 5), (6.5, 21, 5), (8.5, 30, 13), (9.7, 6, 4),\n",
    "    (8.5, 24, 12), (9.9, 14, 9), (8.7, 26, 14), (9.9, 6, 10),\n",
    "    (5.1, 30, 6), (5.4, 18, 16), (6.2, 6, 20), (7.3, 21, 19),\n",
    "    (8.1, 17, 18), (5.0, 7, 2), (9.8, 23, 3), (8.0, 22, 9),\n",
    "    (8.5, 11, 13), (5.0, 5, 11), (5.7, 8, 2), (7.6, 25, 19),\n",
    "    (5.2, 18, 15), (9.7, 13, 3), (5.8, 18, 8), (5.8, 30, 15),\n",
    "    (8.4, 21, 18), (6.2, 23, 16), (7.0, 10, 18), (9.5, 30, 20),\n",
    "    (8.9, 3, 19), (6.4, 12, 2), (7.8, 12, 22), (9.9, 15, 13),\n",
    "    (7.5, 20, 17), (9.0, 25, 6), (8.5, 23, 2), (5.3, 30, 17),\n",
    "    (6.4, 5, 10), (8.1, 5, 21), (5.7, 22, 1), (6.3, 28, 4),\n",
    "    (9.8, 13, 1)\n",
    "]\n",
    "\n",
    "\n",
    "#Creando un Objeto de Conexion\n",
    "obj_conexion=conexion_bd()\n",
    "\n",
    "with obj_conexion.cursor() as cursor:\n",
    "    cursor.executemany(insert_ratings_query,ratings_records)\n",
    "    obj_conexion.commit() #Ejecutar fisicamente los cambios en LA BD"
   ]
  },
  {
   "cell_type": "markdown",
   "id": "b0098807",
   "metadata": {},
   "source": [
    "# Estructura de la Tabla"
   ]
  },
  {
   "cell_type": "code",
   "execution_count": null,
   "id": "c0085b38",
   "metadata": {},
   "outputs": [],
   "source": [
    "#Creando un Objeto de Conexion\n",
    "obj_conexion=conexion_bd()\n",
    "\n",
    "show_table_query=\"describe movies\"\n",
    "\n",
    "with obj_conexion.cursor() as cursor:\n",
    "    cursor.execute(show_table_query)\n",
    "    result = cursor.fetchall()\n",
    "    for row in result:\n",
    "        print(row)\n",
    "    "
   ]
  },
  {
   "cell_type": "markdown",
   "id": "aa9074ad",
   "metadata": {},
   "source": [
    "# Instrucciones SQL"
   ]
  },
  {
   "cell_type": "code",
   "execution_count": null,
   "id": "cd98618a",
   "metadata": {},
   "outputs": [],
   "source": [
    "#Mostrar Los primeros 15 registros\n",
    "select_movies_query=\"SELECT * FROM movies LIMIT 15\"\n",
    "\n",
    "#Creando un Objeto de Conexion\n",
    "obj_conexion=conexion_bd()\n",
    "\n",
    "with obj_conexion.cursor() as cursor:\n",
    "    cursor.execute(select_movies_query)\n",
    "    result = cursor.fetchall()\n",
    "    for row in result:\n",
    "        print(row)"
   ]
  },
  {
   "cell_type": "code",
   "execution_count": null,
   "id": "028a72ae",
   "metadata": {},
   "outputs": [],
   "source": [
    "#Seleccionar Algunos campos\n",
    "select_movies_query=\"SELECT title,release_year FROM movies LIMIT 15\"\n",
    "\n",
    "#Creando un Objeto de Conexion\n",
    "obj_conexion=conexion_bd()\n",
    "\n",
    "with obj_conexion.cursor() as cursor:\n",
    "    cursor.execute(select_movies_query)\n",
    "    result = cursor.fetchall()\n",
    "    for row in result:\n",
    "        print(row)"
   ]
  },
  {
   "cell_type": "code",
   "execution_count": null,
   "id": "353eeb67",
   "metadata": {},
   "outputs": [],
   "source": [
    "#Utilizando Filtros WHERE Ordenando los resultados\n",
    "select_movies_query=\"\"\"\n",
    "        SELECT title,collection_in_mil \n",
    "        FROM movies \n",
    "        WHERE collection_in_mil >100\n",
    "        ORDER BY collection_in_mil DESC\n",
    "        \"\"\"\n",
    "\n",
    "#Creando un Objeto de Conexion\n",
    "obj_conexion=conexion_bd()\n",
    "\n",
    "with obj_conexion.cursor() as cursor:\n",
    "    cursor.execute(select_movies_query)\n",
    "    result = cursor.fetchall()\n",
    "    for row in result:\n",
    "        print(row)"
   ]
  },
  {
   "cell_type": "code",
   "execution_count": null,
   "id": "426cdd07",
   "metadata": {},
   "outputs": [],
   "source": [
    "select_movies_avg=\"\"\"\n",
    "  SELECT title,avg(rating) average_rating from movies m inner join ratings r \n",
    "       on  m.id=r.movie_id\n",
    "       group by movie_id\n",
    "       order by average_rating desc\n",
    "       LIMIT 20\n",
    "\"\"\"\n",
    "\n",
    "#Creando un Objeto de Conexion\n",
    "obj_conexion=conexion_bd()\n",
    "\n",
    "with obj_conexion.cursor() as cursor:\n",
    "    cursor.execute(select_movies_avg)\n",
    "    result = cursor.fetchall()\n",
    "    for row in result:\n",
    "        print(row)"
   ]
  },
  {
   "cell_type": "code",
   "execution_count": null,
   "id": "13617aca",
   "metadata": {},
   "outputs": [],
   "source": [
    "movie_id = input(\"Ingrese el ID de la Pelicula\")\n",
    "reviewer_id = input(\"Ingrese el ID del reviewer\")\n",
    "\n",
    "select_movies_avg=\"\"\"\n",
    "SELECT title,r.reviewer_id,avg(rating) average_rating \n",
    "       from movies m inner join ratings r \n",
    "       on  m.id=r.movie_id\n",
    "       where m.id=%s and r.reviewer_id=%s\n",
    "       group by movie_id\n",
    "\"\"\"\n",
    "\n",
    "val_tuple=(\n",
    "    movie_id,\n",
    "    reviewer_id,\n",
    ")\n",
    "#Creando un Objeto de Conexion\n",
    "obj_conexion=conexion_bd()\n",
    "\n",
    "with obj_conexion.cursor() as cursor:\n",
    "    existe=False\n",
    "    for result in cursor.execute(select_movies_avg,val_tuple,multi=True):\n",
    "        if result.with_rows:\n",
    "            existe=True\n",
    "            print(result.fetchall())\n",
    "            break\n",
    "    if existe==False:\n",
    "        print(\"Nada que Mostra\")        "
   ]
  },
  {
   "cell_type": "markdown",
   "id": "b3f10677",
   "metadata": {},
   "source": [
    "# Base datos & DataFrame"
   ]
  },
  {
   "cell_type": "code",
   "execution_count": null,
   "id": "7dea0840",
   "metadata": {},
   "outputs": [],
   "source": [
    "import pandas as pd\n",
    "import sqlite3"
   ]
  },
  {
   "cell_type": "code",
   "execution_count": null,
   "id": "b4bf9e82",
   "metadata": {},
   "outputs": [],
   "source": [
    "c=conn.cursor()\n",
    "c.execute('CREATE TABLE IF NOT EXISTS products (product_name text,price number)')\n",
    "conn.commit()"
   ]
  },
  {
   "cell_type": "code",
   "execution_count": null,
   "id": "31cddf38",
   "metadata": {},
   "outputs": [],
   "source": [
    "conn = sqlite3.connect('bdlocal_mayo_2023')\n",
    "c.execute('CREATE TABLE IF NOT EXISTS products (product_name text,price number)')\n",
    "conn.commit()\n",
    "\n",
    "data = {'product_name': ['Computer','Tablet','Monitor','Printer'],\n",
    "        'price': [900,300,450,150]\n",
    "        }\n",
    "#Preparndo el DataFrame o la Estructura del DataFrame para imporar los datos de SQL\n",
    "df = pd.DataFrame(data,columns=['product_name','price'])\n",
    "df.to_sql('products',conn,if_exists='replace',index=False)\n",
    "c.execute('''\n",
    "SELECT * FROM PRODUCTS\n",
    "''')\n",
    "#Importando la informacio\n",
    "df = pd.DataFrame(c.fetchall(),columns=['product_name','price'])\n"
   ]
  },
  {
   "cell_type": "code",
   "execution_count": null,
   "id": "73ca8a92",
   "metadata": {},
   "outputs": [],
   "source": [
    "df.head(1)"
   ]
  },
  {
   "cell_type": "code",
   "execution_count": null,
   "id": "76095fac",
   "metadata": {},
   "outputs": [],
   "source": [
    "#Utilizando Filtros WHERE Ordenando los resultados\n",
    "movie_id = input(\"Ingrese el ID de la Pelicula\")\n",
    "select_movies_query=\"\"\"\n",
    "        SELECT * FROM movies where id=%s \n",
    "        \"\"\"\n",
    "\n",
    "val_tuple=(\n",
    "    movie_id,\n",
    ")\n",
    "\n",
    "#Creando un Objeto de Conexion\n",
    "obj_conexion=conexion_bd()\n",
    "\n",
    "with obj_conexion.cursor() as cursor:\n",
    "    cursor.execute(select_movies_query,val_tuple)\n",
    "    #me devolvera solo un registro usar fethone\n",
    "    result = cursor.fetchone()\n",
    "    print(result)\n",
    "    "
   ]
  },
  {
   "cell_type": "markdown",
   "id": "98864cee",
   "metadata": {},
   "source": [
    "# Fetchall() \n",
    "recuperar \"N\" Registros y esta devolvera una lista de tuplas\n",
    "# Fetchone() \n",
    "recuperar \"1\" Registro y esta devolvera una tupla\n"
   ]
  },
  {
   "cell_type": "markdown",
   "id": "da38739f",
   "metadata": {},
   "source": [
    "# Origenes de Datos JSON"
   ]
  },
  {
   "cell_type": "code",
   "execution_count": 2,
   "id": "4b00ecb3",
   "metadata": {},
   "outputs": [],
   "source": [
    "cars = [\n",
    "    {\"name\":\"Honda\",\"price\":10000,\"model\":2020,\"power\":1300},\n",
    "    {\"name\":\"Toyota\",\"price\":12000,\"model\":2021,\"power\":1500},\n",
    "    {\"name\":\"Audi\",\"price\":15000,\"model\":2022,\"power\":1730},\n",
    "    {\"name\":\"Ford\",\"price\":18000,\"model\":2010,\"power\":1700},\n",
    "]"
   ]
  },
  {
   "cell_type": "code",
   "execution_count": 3,
   "id": "44bc4e2c",
   "metadata": {},
   "outputs": [
    {
     "data": {
      "text/plain": [
       "[{'name': 'Honda', 'price': 10000, 'model': 2020, 'power': 1300},\n",
       " {'name': 'Toyota', 'price': 12000, 'model': 2021, 'power': 1500},\n",
       " {'name': 'Audi', 'price': 15000, 'model': 2022, 'power': 1730},\n",
       " {'name': 'Ford', 'price': 18000, 'model': 2010, 'power': 1700}]"
      ]
     },
     "execution_count": 3,
     "metadata": {},
     "output_type": "execute_result"
    }
   ],
   "source": [
    "cars"
   ]
  },
  {
   "cell_type": "code",
   "execution_count": 4,
   "id": "b9e7acd5",
   "metadata": {},
   "outputs": [],
   "source": [
    "#Generando mi archivo en Formato JSON\n",
    "import json\n",
    "with open(\"cars.json\",\"w\") as f:\n",
    "    json.dump(cars,f)"
   ]
  },
  {
   "cell_type": "code",
   "execution_count": 5,
   "id": "864596fa",
   "metadata": {},
   "outputs": [],
   "source": [
    "import pandas as pd\n",
    "df_autos=pd.read_json('cars.json')"
   ]
  },
  {
   "cell_type": "code",
   "execution_count": 6,
   "id": "e9d5e901",
   "metadata": {},
   "outputs": [
    {
     "data": {
      "text/html": [
       "<div>\n",
       "<style scoped>\n",
       "    .dataframe tbody tr th:only-of-type {\n",
       "        vertical-align: middle;\n",
       "    }\n",
       "\n",
       "    .dataframe tbody tr th {\n",
       "        vertical-align: top;\n",
       "    }\n",
       "\n",
       "    .dataframe thead th {\n",
       "        text-align: right;\n",
       "    }\n",
       "</style>\n",
       "<table border=\"1\" class=\"dataframe\">\n",
       "  <thead>\n",
       "    <tr style=\"text-align: right;\">\n",
       "      <th></th>\n",
       "      <th>name</th>\n",
       "      <th>price</th>\n",
       "      <th>model</th>\n",
       "      <th>power</th>\n",
       "    </tr>\n",
       "  </thead>\n",
       "  <tbody>\n",
       "    <tr>\n",
       "      <th>0</th>\n",
       "      <td>Honda</td>\n",
       "      <td>10000</td>\n",
       "      <td>2020</td>\n",
       "      <td>1300</td>\n",
       "    </tr>\n",
       "    <tr>\n",
       "      <th>1</th>\n",
       "      <td>Toyota</td>\n",
       "      <td>12000</td>\n",
       "      <td>2021</td>\n",
       "      <td>1500</td>\n",
       "    </tr>\n",
       "    <tr>\n",
       "      <th>2</th>\n",
       "      <td>Audi</td>\n",
       "      <td>15000</td>\n",
       "      <td>2022</td>\n",
       "      <td>1730</td>\n",
       "    </tr>\n",
       "    <tr>\n",
       "      <th>3</th>\n",
       "      <td>Ford</td>\n",
       "      <td>18000</td>\n",
       "      <td>2010</td>\n",
       "      <td>1700</td>\n",
       "    </tr>\n",
       "  </tbody>\n",
       "</table>\n",
       "</div>"
      ],
      "text/plain": [
       "     name  price  model  power\n",
       "0   Honda  10000   2020   1300\n",
       "1  Toyota  12000   2021   1500\n",
       "2    Audi  15000   2022   1730\n",
       "3    Ford  18000   2010   1700"
      ]
     },
     "execution_count": 6,
     "metadata": {},
     "output_type": "execute_result"
    }
   ],
   "source": [
    "df_autos"
   ]
  },
  {
   "cell_type": "code",
   "execution_count": 7,
   "id": "b2b84648",
   "metadata": {},
   "outputs": [
    {
     "data": {
      "text/html": [
       "<div>\n",
       "<style scoped>\n",
       "    .dataframe tbody tr th:only-of-type {\n",
       "        vertical-align: middle;\n",
       "    }\n",
       "\n",
       "    .dataframe tbody tr th {\n",
       "        vertical-align: top;\n",
       "    }\n",
       "\n",
       "    .dataframe thead th {\n",
       "        text-align: right;\n",
       "    }\n",
       "</style>\n",
       "<table border=\"1\" class=\"dataframe\">\n",
       "  <thead>\n",
       "    <tr style=\"text-align: right;\">\n",
       "      <th></th>\n",
       "      <th>sepalLength</th>\n",
       "      <th>sepalWidth</th>\n",
       "      <th>petalLength</th>\n",
       "      <th>petalWidth</th>\n",
       "      <th>species</th>\n",
       "    </tr>\n",
       "  </thead>\n",
       "  <tbody>\n",
       "    <tr>\n",
       "      <th>0</th>\n",
       "      <td>5.1</td>\n",
       "      <td>3.5</td>\n",
       "      <td>1.4</td>\n",
       "      <td>0.2</td>\n",
       "      <td>setosa</td>\n",
       "    </tr>\n",
       "    <tr>\n",
       "      <th>1</th>\n",
       "      <td>4.9</td>\n",
       "      <td>3.0</td>\n",
       "      <td>1.4</td>\n",
       "      <td>0.2</td>\n",
       "      <td>setosa</td>\n",
       "    </tr>\n",
       "    <tr>\n",
       "      <th>2</th>\n",
       "      <td>4.7</td>\n",
       "      <td>3.2</td>\n",
       "      <td>1.3</td>\n",
       "      <td>0.2</td>\n",
       "      <td>setosa</td>\n",
       "    </tr>\n",
       "    <tr>\n",
       "      <th>3</th>\n",
       "      <td>4.6</td>\n",
       "      <td>3.1</td>\n",
       "      <td>1.5</td>\n",
       "      <td>0.2</td>\n",
       "      <td>setosa</td>\n",
       "    </tr>\n",
       "    <tr>\n",
       "      <th>4</th>\n",
       "      <td>5.0</td>\n",
       "      <td>3.6</td>\n",
       "      <td>1.4</td>\n",
       "      <td>0.2</td>\n",
       "      <td>setosa</td>\n",
       "    </tr>\n",
       "  </tbody>\n",
       "</table>\n",
       "</div>"
      ],
      "text/plain": [
       "   sepalLength  sepalWidth  petalLength  petalWidth species\n",
       "0          5.1         3.5          1.4         0.2  setosa\n",
       "1          4.9         3.0          1.4         0.2  setosa\n",
       "2          4.7         3.2          1.3         0.2  setosa\n",
       "3          4.6         3.1          1.5         0.2  setosa\n",
       "4          5.0         3.6          1.4         0.2  setosa"
      ]
     },
     "execution_count": 7,
     "metadata": {},
     "output_type": "execute_result"
    }
   ],
   "source": [
    "import pandas as pd\n",
    "df_iris_f=pd.read_json('https://raw.githubusercontent.com/domoritz/maps/master/data/iris.json')\n",
    "df_iris_f.head()"
   ]
  },
  {
   "cell_type": "markdown",
   "id": "5ab50426",
   "metadata": {},
   "source": [
    "# Trabajando con data Existente"
   ]
  },
  {
   "cell_type": "code",
   "execution_count": 8,
   "id": "7a32b655",
   "metadata": {},
   "outputs": [],
   "source": [
    "import pandas\n",
    "import mysql.connector"
   ]
  },
  {
   "cell_type": "markdown",
   "id": "5dfc8062",
   "metadata": {},
   "source": [
    "# Conectarme a la BD por medio de argumentos\n"
   ]
  },
  {
   "cell_type": "code",
   "execution_count": 10,
   "id": "c00fe62e",
   "metadata": {},
   "outputs": [],
   "source": [
    "cnx = mysql.connector.connect(user='root',password='Rioazulq12',database='Northwind',port='3306')"
   ]
  },
  {
   "cell_type": "code",
   "execution_count": 11,
   "id": "40ca54a6",
   "metadata": {},
   "outputs": [
    {
     "data": {
      "text/plain": [
       "<mysql.connector.connection.MySQLConnection at 0x1f197de1ef0>"
      ]
     },
     "execution_count": 11,
     "metadata": {},
     "output_type": "execute_result"
    }
   ],
   "source": [
    "cnx"
   ]
  },
  {
   "cell_type": "markdown",
   "id": "bbc7dcaa",
   "metadata": {},
   "source": [
    "# Ejecutar consultas del servidor en un Dataframe"
   ]
  },
  {
   "cell_type": "code",
   "execution_count": 12,
   "id": "a583b5b2",
   "metadata": {},
   "outputs": [],
   "source": [
    "query = pd.read_sql_query"
   ]
  },
  {
   "cell_type": "code",
   "execution_count": 15,
   "id": "0e23a618",
   "metadata": {},
   "outputs": [
    {
     "data": {
      "text/html": [
       "<div>\n",
       "<style scoped>\n",
       "    .dataframe tbody tr th:only-of-type {\n",
       "        vertical-align: middle;\n",
       "    }\n",
       "\n",
       "    .dataframe tbody tr th {\n",
       "        vertical-align: top;\n",
       "    }\n",
       "\n",
       "    .dataframe thead th {\n",
       "        text-align: right;\n",
       "    }\n",
       "</style>\n",
       "<table border=\"1\" class=\"dataframe\">\n",
       "  <thead>\n",
       "    <tr style=\"text-align: right;\">\n",
       "      <th></th>\n",
       "      <th>custId</th>\n",
       "      <th>companyName</th>\n",
       "      <th>contactName</th>\n",
       "      <th>contactTitle</th>\n",
       "      <th>address</th>\n",
       "      <th>city</th>\n",
       "      <th>region</th>\n",
       "      <th>postalCode</th>\n",
       "      <th>country</th>\n",
       "      <th>phone</th>\n",
       "      <th>mobile</th>\n",
       "      <th>email</th>\n",
       "      <th>fax</th>\n",
       "    </tr>\n",
       "  </thead>\n",
       "  <tbody>\n",
       "    <tr>\n",
       "      <th>0</th>\n",
       "      <td>2</td>\n",
       "      <td>Customer MLTDN</td>\n",
       "      <td>Hassall, Mark</td>\n",
       "      <td>Owner</td>\n",
       "      <td>Avda. de la Constitución 5678</td>\n",
       "      <td>México D.F.</td>\n",
       "      <td>None</td>\n",
       "      <td>10077</td>\n",
       "      <td>Mexico</td>\n",
       "      <td>(5) 789-0123</td>\n",
       "      <td>None</td>\n",
       "      <td>None</td>\n",
       "      <td>(5) 456-7890</td>\n",
       "    </tr>\n",
       "    <tr>\n",
       "      <th>1</th>\n",
       "      <td>3</td>\n",
       "      <td>Customer KBUDE</td>\n",
       "      <td>Peoples, John</td>\n",
       "      <td>Owner</td>\n",
       "      <td>Mataderos  7890</td>\n",
       "      <td>México D.F.</td>\n",
       "      <td>None</td>\n",
       "      <td>10097</td>\n",
       "      <td>Mexico</td>\n",
       "      <td>(5) 123-4567</td>\n",
       "      <td>None</td>\n",
       "      <td>None</td>\n",
       "      <td>None</td>\n",
       "    </tr>\n",
       "    <tr>\n",
       "      <th>2</th>\n",
       "      <td>13</td>\n",
       "      <td>Customer VMLOG</td>\n",
       "      <td>Benito, Almudena</td>\n",
       "      <td>Marketing Manager</td>\n",
       "      <td>Sierras de Granada 7890</td>\n",
       "      <td>México D.F.</td>\n",
       "      <td>None</td>\n",
       "      <td>10056</td>\n",
       "      <td>Mexico</td>\n",
       "      <td>(5) 456-7890</td>\n",
       "      <td>None</td>\n",
       "      <td>None</td>\n",
       "      <td>(5) 123-4567</td>\n",
       "    </tr>\n",
       "    <tr>\n",
       "      <th>3</th>\n",
       "      <td>58</td>\n",
       "      <td>Customer AHXHT</td>\n",
       "      <td>Fakhouri, Fadi</td>\n",
       "      <td>Sales Representative</td>\n",
       "      <td>Calle Dr. Jorge Cash 8901</td>\n",
       "      <td>México D.F.</td>\n",
       "      <td>None</td>\n",
       "      <td>10116</td>\n",
       "      <td>Mexico</td>\n",
       "      <td>(5) 890-1234</td>\n",
       "      <td>None</td>\n",
       "      <td>None</td>\n",
       "      <td>(5) 567-8901</td>\n",
       "    </tr>\n",
       "    <tr>\n",
       "      <th>4</th>\n",
       "      <td>80</td>\n",
       "      <td>Customer VONTK</td>\n",
       "      <td>Geschwandtner, Jens</td>\n",
       "      <td>Owner</td>\n",
       "      <td>Avda. Azteca 4567</td>\n",
       "      <td>México D.F.</td>\n",
       "      <td>None</td>\n",
       "      <td>10044</td>\n",
       "      <td>Mexico</td>\n",
       "      <td>(5) 678-9012</td>\n",
       "      <td>None</td>\n",
       "      <td>None</td>\n",
       "      <td>None</td>\n",
       "    </tr>\n",
       "  </tbody>\n",
       "</table>\n",
       "</div>"
      ],
      "text/plain": [
       "   custId     companyName          contactName          contactTitle  \\\n",
       "0       2  Customer MLTDN        Hassall, Mark                 Owner   \n",
       "1       3  Customer KBUDE        Peoples, John                 Owner   \n",
       "2      13  Customer VMLOG     Benito, Almudena     Marketing Manager   \n",
       "3      58  Customer AHXHT       Fakhouri, Fadi  Sales Representative   \n",
       "4      80  Customer VONTK  Geschwandtner, Jens                 Owner   \n",
       "\n",
       "                         address         city region postalCode country  \\\n",
       "0  Avda. de la Constitución 5678  México D.F.   None      10077  Mexico   \n",
       "1                Mataderos  7890  México D.F.   None      10097  Mexico   \n",
       "2        Sierras de Granada 7890  México D.F.   None      10056  Mexico   \n",
       "3      Calle Dr. Jorge Cash 8901  México D.F.   None      10116  Mexico   \n",
       "4              Avda. Azteca 4567  México D.F.   None      10044  Mexico   \n",
       "\n",
       "          phone mobile email           fax  \n",
       "0  (5) 789-0123   None  None  (5) 456-7890  \n",
       "1  (5) 123-4567   None  None          None  \n",
       "2  (5) 456-7890   None  None  (5) 123-4567  \n",
       "3  (5) 890-1234   None  None  (5) 567-8901  \n",
       "4  (5) 678-9012   None  None          None  "
      ]
     },
     "execution_count": 15,
     "metadata": {},
     "output_type": "execute_result"
    }
   ],
   "source": [
    "result1= query (\"select * from customer\",cnx)\n",
    "result1\n",
    "\n",
    "result2= query (\"select * from customer where city='México D.F.'\",cnx)\n",
    "result2"
   ]
  },
  {
   "cell_type": "code",
   "execution_count": 20,
   "id": "c86fc12c",
   "metadata": {},
   "outputs": [
    {
     "data": {
      "text/html": [
       "<div>\n",
       "<style scoped>\n",
       "    .dataframe tbody tr th:only-of-type {\n",
       "        vertical-align: middle;\n",
       "    }\n",
       "\n",
       "    .dataframe tbody tr th {\n",
       "        vertical-align: top;\n",
       "    }\n",
       "\n",
       "    .dataframe thead th {\n",
       "        text-align: right;\n",
       "    }\n",
       "</style>\n",
       "<table border=\"1\" class=\"dataframe\">\n",
       "  <thead>\n",
       "    <tr style=\"text-align: right;\">\n",
       "      <th></th>\n",
       "      <th>custId</th>\n",
       "      <th>companyName</th>\n",
       "      <th>contactName</th>\n",
       "      <th>contactTitle</th>\n",
       "      <th>address</th>\n",
       "      <th>city</th>\n",
       "      <th>region</th>\n",
       "      <th>postalCode</th>\n",
       "      <th>country</th>\n",
       "      <th>phone</th>\n",
       "      <th>mobile</th>\n",
       "      <th>email</th>\n",
       "      <th>fax</th>\n",
       "    </tr>\n",
       "  </thead>\n",
       "  <tbody>\n",
       "    <tr>\n",
       "      <th>0</th>\n",
       "      <td>2</td>\n",
       "      <td>Customer MLTDN</td>\n",
       "      <td>Hassall, Mark</td>\n",
       "      <td>Owner</td>\n",
       "      <td>Avda. de la Constitución 5678</td>\n",
       "      <td>México D.F.</td>\n",
       "      <td>None</td>\n",
       "      <td>10077</td>\n",
       "      <td>Mexico</td>\n",
       "      <td>(5) 789-0123</td>\n",
       "      <td>None</td>\n",
       "      <td>None</td>\n",
       "      <td>(5) 456-7890</td>\n",
       "    </tr>\n",
       "    <tr>\n",
       "      <th>1</th>\n",
       "      <td>3</td>\n",
       "      <td>Customer KBUDE</td>\n",
       "      <td>Peoples, John</td>\n",
       "      <td>Owner</td>\n",
       "      <td>Mataderos  7890</td>\n",
       "      <td>México D.F.</td>\n",
       "      <td>None</td>\n",
       "      <td>10097</td>\n",
       "      <td>Mexico</td>\n",
       "      <td>(5) 123-4567</td>\n",
       "      <td>None</td>\n",
       "      <td>None</td>\n",
       "      <td>None</td>\n",
       "    </tr>\n",
       "  </tbody>\n",
       "</table>\n",
       "</div>"
      ],
      "text/plain": [
       "   custId     companyName    contactName contactTitle  \\\n",
       "0       2  Customer MLTDN  Hassall, Mark        Owner   \n",
       "1       3  Customer KBUDE  Peoples, John        Owner   \n",
       "\n",
       "                         address         city region postalCode country  \\\n",
       "0  Avda. de la Constitución 5678  México D.F.   None      10077  Mexico   \n",
       "1                Mataderos  7890  México D.F.   None      10097  Mexico   \n",
       "\n",
       "          phone mobile email           fax  \n",
       "0  (5) 789-0123   None  None  (5) 456-7890  \n",
       "1  (5) 123-4567   None  None          None  "
      ]
     },
     "execution_count": 20,
     "metadata": {},
     "output_type": "execute_result"
    }
   ],
   "source": [
    "result3= query (\"select * from customer where country in('Mexico','UK','Canada')\",cnx)\n",
    "result3.head(2)"
   ]
  },
  {
   "cell_type": "code",
   "execution_count": 23,
   "id": "49dac50b",
   "metadata": {},
   "outputs": [
    {
     "data": {
      "text/html": [
       "<div>\n",
       "<style scoped>\n",
       "    .dataframe tbody tr th:only-of-type {\n",
       "        vertical-align: middle;\n",
       "    }\n",
       "\n",
       "    .dataframe tbody tr th {\n",
       "        vertical-align: top;\n",
       "    }\n",
       "\n",
       "    .dataframe thead th {\n",
       "        text-align: right;\n",
       "    }\n",
       "</style>\n",
       "<table border=\"1\" class=\"dataframe\">\n",
       "  <thead>\n",
       "    <tr style=\"text-align: right;\">\n",
       "      <th></th>\n",
       "      <th>custId</th>\n",
       "      <th>companyName</th>\n",
       "      <th>contactName</th>\n",
       "      <th>contactTitle</th>\n",
       "      <th>address</th>\n",
       "      <th>city</th>\n",
       "      <th>region</th>\n",
       "      <th>postalCode</th>\n",
       "      <th>country</th>\n",
       "      <th>phone</th>\n",
       "      <th>mobile</th>\n",
       "      <th>email</th>\n",
       "      <th>fax</th>\n",
       "    </tr>\n",
       "  </thead>\n",
       "  <tbody>\n",
       "    <tr>\n",
       "      <th>0</th>\n",
       "      <td>12</td>\n",
       "      <td>Customer PSNMQ</td>\n",
       "      <td>Ray, Mike</td>\n",
       "      <td>Sales Agent</td>\n",
       "      <td>Cerrito 3456</td>\n",
       "      <td>Buenos Aires</td>\n",
       "      <td>None</td>\n",
       "      <td>10057</td>\n",
       "      <td>Argentina</td>\n",
       "      <td>(1) 890-1234</td>\n",
       "      <td>None</td>\n",
       "      <td>None</td>\n",
       "      <td>(1) 567-8901</td>\n",
       "    </tr>\n",
       "    <tr>\n",
       "      <th>1</th>\n",
       "      <td>20</td>\n",
       "      <td>Customer THHDP</td>\n",
       "      <td>Kane, John</td>\n",
       "      <td>Sales Manager</td>\n",
       "      <td>Kirchgasse 9012</td>\n",
       "      <td>Graz</td>\n",
       "      <td>None</td>\n",
       "      <td>10059</td>\n",
       "      <td>Austria</td>\n",
       "      <td>1234-5678</td>\n",
       "      <td>None</td>\n",
       "      <td>None</td>\n",
       "      <td>9012-3456</td>\n",
       "    </tr>\n",
       "  </tbody>\n",
       "</table>\n",
       "</div>"
      ],
      "text/plain": [
       "   custId     companyName contactName   contactTitle          address  \\\n",
       "0      12  Customer PSNMQ   Ray, Mike    Sales Agent     Cerrito 3456   \n",
       "1      20  Customer THHDP  Kane, John  Sales Manager  Kirchgasse 9012   \n",
       "\n",
       "           city region postalCode    country         phone mobile email  \\\n",
       "0  Buenos Aires   None      10057  Argentina  (1) 890-1234   None  None   \n",
       "1          Graz   None      10059    Austria     1234-5678   None  None   \n",
       "\n",
       "            fax  \n",
       "0  (1) 567-8901  \n",
       "1     9012-3456  "
      ]
     },
     "execution_count": 23,
     "metadata": {},
     "output_type": "execute_result"
    }
   ],
   "source": [
    "result4= query (\"select * from customer where country like '%A%'\",cnx)\n",
    "result4.head(2)"
   ]
  },
  {
   "cell_type": "code",
   "execution_count": 30,
   "id": "bd456cf5",
   "metadata": {},
   "outputs": [],
   "source": [
    "result4= query (\"select * from product where unitPrice between 10 and 12\",cnx)\n",
    "result4.head(20)\n",
    "df_export=result4.to_csv('Precios_10_12',index=True)"
   ]
  },
  {
   "cell_type": "code",
   "execution_count": null,
   "id": "46161d41",
   "metadata": {},
   "outputs": [],
   "source": []
  }
 ],
 "metadata": {
  "kernelspec": {
   "display_name": "Python 3 (ipykernel)",
   "language": "python",
   "name": "python3"
  },
  "language_info": {
   "codemirror_mode": {
    "name": "ipython",
    "version": 3
   },
   "file_extension": ".py",
   "mimetype": "text/x-python",
   "name": "python",
   "nbconvert_exporter": "python",
   "pygments_lexer": "ipython3",
   "version": "3.7.0"
  }
 },
 "nbformat": 4,
 "nbformat_minor": 5
}
