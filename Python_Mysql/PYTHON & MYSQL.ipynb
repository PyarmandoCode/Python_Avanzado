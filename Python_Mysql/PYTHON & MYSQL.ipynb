{
 "cells": [
  {
   "cell_type": "markdown",
   "id": "a1a2f287",
   "metadata": {},
   "source": [
    "# Instalacion del Connector/Python/MYSQL"
   ]
  },
  {
   "cell_type": "code",
   "execution_count": 2,
   "id": "bb6620c8",
   "metadata": {},
   "outputs": [],
   "source": [
    "#pip install mysql-connector-python\n",
    "import mysql.connector"
   ]
  },
  {
   "cell_type": "code",
   "execution_count": null,
   "id": "5f616351",
   "metadata": {},
   "outputs": [],
   "source": [
    "from mysql.connector import connect,Error\n",
    "try:\n",
    "    with connect(\n",
    "        host=\"localhost\",\n",
    "        user=\"root\",\n",
    "        password=\"Rioazulq12\"\n",
    "    )as connection:\n",
    "        print(connection)\n",
    "except Error as e:\n",
    "    print(e)"
   ]
  },
  {
   "cell_type": "markdown",
   "id": "15a62a23",
   "metadata": {},
   "source": [
    "# Creacion de Base de datos"
   ]
  },
  {
   "cell_type": "markdown",
   "id": "664e52f0",
   "metadata": {},
   "source": [
    "<img src=\"E_R.png\" />"
   ]
  },
  {
   "cell_type": "code",
   "execution_count": null,
   "id": "3fd463fa",
   "metadata": {},
   "outputs": [],
   "source": [
    "from mysql.connector import connect,Error\n",
    "try:\n",
    "    with connect(\n",
    "        host=\"localhost\",\n",
    "        user=\"root\",\n",
    "        password=\"Rioazulq12\"\n",
    "    )as connection:\n",
    "        create_db_query = \"CREATE DATABASE movies_online\"\n",
    "        with connection.cursor() as cursor:\n",
    "            cursor.execute(create_db_query)\n",
    "except Error as e:\n",
    "    print(e)            "
   ]
  },
  {
   "cell_type": "markdown",
   "id": "93496ea2",
   "metadata": {},
   "source": [
    "# Creacion de Tablas"
   ]
  },
  {
   "cell_type": "code",
   "execution_count": null,
   "id": "4959c1c2",
   "metadata": {},
   "outputs": [],
   "source": [
    "import mysql.connector\n",
    "connection = mysql.connector.connect(\n",
    "     host=\"localhost\",\n",
    "     user=\"root\",\n",
    "     password=\"Rioazulq12\",\n",
    "     database=\"movies_online\"\n",
    "  )\n",
    "\n",
    "create_movies_table_query= \"\"\"\n",
    "CREATE TABLE movies(\n",
    "   id INT AUTO_INCREMENT PRIMARY KEY,\n",
    "   title VARCHAR(100),\n",
    "   release_year YEAR(4),\n",
    "   genre VARCHAR(100),\n",
    "   collection_in_mil INT\n",
    "  )\n",
    "\"\"\"\n",
    "with connection.cursor() as cursor:\n",
    "    cursor.execute(create_movies_table_query)\n",
    "    connection.commit() #Ejecutar fisicamente los cambios en LA BD"
   ]
  },
  {
   "cell_type": "code",
   "execution_count": null,
   "id": "e0790778",
   "metadata": {},
   "outputs": [],
   "source": [
    "def conexion_bd():\n",
    "    connection = mysql.connector.connect(\n",
    "        host=\"localhost\",\n",
    "        user=\"root\",\n",
    "        password=\"Rioazulq12\",\n",
    "        database=\"movies_online\"\n",
    "  )\n",
    "    return connection"
   ]
  },
  {
   "cell_type": "markdown",
   "id": "04a43e4c",
   "metadata": {},
   "source": [
    "# Insertar Registros a la Tabla"
   ]
  },
  {
   "cell_type": "code",
   "execution_count": 6,
   "id": "1ae7cc89",
   "metadata": {},
   "outputs": [],
   "source": [
    "insert_movies_query = \"\"\"\n",
    "INSERT INTO movies (title,release_year,genre,collection_in_mil)\n",
    "VALUES\n",
    "  (\"3 Idiots\", 2009, \"Drama\", 2.4),\n",
    "    (\"Eternal Sunshine of the Spotless Mind\", 2004, \"Drama\", 34.5),\n",
    "    (\"Good Will Hunting\", 1997, \"Drama\", 138.1),\n",
    "    (\"Skyfall\", 2012, \"Action\", 304.6),\n",
    "    (\"Gladiator\", 2000, \"Action\", 188.7),\n",
    "    (\"Black\", 2005, \"Drama\", 3.0),\n",
    "    (\"Titanic\", 1997, \"Romance\", 659.2),\n",
    "    (\"The Shawshank Redemption\", 1994, \"Drama\",28.4),\n",
    "    (\"Udaan\", 2010, \"Drama\", 1.5),\n",
    "    (\"Home Alone\", 1990, \"Comedy\", 286.9),\n",
    "    (\"Casablanca\", 1942, \"Romance\", 1.0),\n",
    "    (\"Avengers: Endgame\", 2019, \"Action\", 858.8),\n",
    "    (\"Night of the Living Dead\", 1968, \"Horror\", 2.5),\n",
    "    (\"The Godfather\", 1972, \"Crime\", 135.6),\n",
    "    (\"Haider\", 2014, \"Action\", 4.2),\n",
    "    (\"Inception\", 2010, \"Adventure\", 293.7),\n",
    "    (\"Evil\", 2003, \"Horror\", 1.3),\n",
    "    (\"Toy Story 4\", 2019, \"Animation\", 434.9),\n",
    "    (\"Air Force One\", 1997, \"Drama\", 138.1),\n",
    "    (\"The Dark Knight\", 2008, \"Action\",535.4),\n",
    "    (\"Bhaag Milkha Bhaag\", 2013, \"Sport\", 4.1),\n",
    "    (\"The Lion King\", 1994, \"Animation\", 423.6),\n",
    "    (\"Pulp Fiction\", 1994, \"Crime\", 108.8),\n",
    "    (\"Kai Po Che\", 2013, \"Sport\", 6.0),\n",
    "    (\"Beasts of No Nation\", 2015, \"War\", 1.4),\n",
    "    (\"Andadhun\", 2018, \"Thriller\", 2.9),\n",
    "    (\"The Silence of the Lambs\", 1991, \"Crime\", 68.2),\n",
    "    (\"Deadpool\", 2016, \"Action\", 363.6),\n",
    "    (\"Drishyam\", 2015, \"Mystery\", 3.0)\n",
    "\"\"\"\n",
    "\n",
    "#Creando un Objeto de Conexion\n",
    "obj_conexion=conexion_bd()\n",
    "\n",
    "with obj_conexion.cursor() as cursor:\n",
    "    cursor.execute(insert_movies_query)\n",
    "    obj_conexion.commit() #Ejecutar fisicamente los cambios en LA BD"
   ]
  },
  {
   "cell_type": "code",
   "execution_count": 7,
   "id": "b8886f60",
   "metadata": {},
   "outputs": [],
   "source": [
    "create_reviewers_tabla_query =\"\"\"\n",
    "CREATE TABLE reviewers (\n",
    "   id INT AUTO_INCREMENT PRIMARY KEY,\n",
    "   first_name VARCHAR(100),\n",
    "   last_name VARCHAR(100)\n",
    ")\n",
    "\"\"\"\n",
    "\n",
    "#Creando un Objeto de Conexion\n",
    "obj_conexion=conexion_bd()\n",
    "\n",
    "with obj_conexion.cursor() as cursor:\n",
    "    cursor.execute(create_reviewers_tabla_query)\n",
    "    obj_conexion.commit() #Ejecutar fisicamente los cambios en LA BD"
   ]
  },
  {
   "cell_type": "code",
   "execution_count": 8,
   "id": "06030917",
   "metadata": {},
   "outputs": [],
   "source": [
    "insert_reviewers_query=\"\"\"\n",
    "INSERT INTO reviewers\n",
    "(first_name,last_name)\n",
    "VALUES(%s,%s)\n",
    "\"\"\"\n",
    "\n",
    "reviewers_records = [\n",
    "    (\"Chaitanya\", \"Baweja\"),\n",
    "    (\"Mary\", \"Cooper\"),\n",
    "    (\"John\", \"Wayne\"),\n",
    "    (\"Thomas\", \"Stoneman\"),\n",
    "    (\"Penny\", \"Hofstadter\"),\n",
    "    (\"Mitchell\", \"Marsh\"),\n",
    "    (\"Wyatt\", \"Skaggs\"),\n",
    "    (\"Andre\", \"Veiga\"),\n",
    "    (\"Sheldon\", \"Cooper\"),\n",
    "    (\"Kimbra\", \"Masters\"),\n",
    "    (\"Kat\", \"Dennings\"),\n",
    "    (\"Bruce\", \"Wayne\"),\n",
    "    (\"Domingo\", \"Cortes\"),\n",
    "    (\"Rajesh\", \"Koothrappali\"),\n",
    "    (\"Ben\", \"Glocker\"),\n",
    "    (\"Mahinder\", \"Dhoni\"),\n",
    "    (\"Akbar\", \"Khan\"),\n",
    "    (\"Howard\", \"Wolowitz\"),\n",
    "    (\"Pinkie\", \"Petit\"),\n",
    "    (\"Gurkaran\", \"Singh\"),\n",
    "    (\"Amy\", \"Farah Fowler\"),\n",
    "    (\"Marlon\", \"Crafford\"),\n",
    "]\n",
    "\n",
    "#Creando un Objeto de Conexion\n",
    "obj_conexion=conexion_bd()\n",
    "\n",
    "with obj_conexion.cursor() as cursor:\n",
    "    cursor.executemany(insert_reviewers_query,reviewers_records)\n",
    "    obj_conexion.commit() #Ejecutar fisicamente los cambios en LA BD"
   ]
  },
  {
   "cell_type": "code",
   "execution_count": 9,
   "id": "ff5393c7",
   "metadata": {},
   "outputs": [],
   "source": [
    "create_ratings_table_query=\"\"\"\n",
    "CREATE TABLE ratings (\n",
    "   movie_id  INT,\n",
    "   reviewer_id INT,\n",
    "   rating DECIMAL(2,1),\n",
    "   FOREIGN KEY(movie_id) REFERENCES movies(id),\n",
    "   FOREIGN KEY(reviewer_id) REFERENCES reviewers(id),\n",
    "   PRIMARY KEY(movie_id,reviewer_id)\n",
    ")\n",
    "\n",
    "\"\"\"\n",
    "\n",
    "#Creando un Objeto de Conexion\n",
    "obj_conexion=conexion_bd()\n",
    "\n",
    "with obj_conexion.cursor() as cursor:\n",
    "    cursor.execute(create_ratings_table_query)\n",
    "    obj_conexion.commit() #Ejecutar fisicamente los cambios en LA BD"
   ]
  },
  {
   "cell_type": "code",
   "execution_count": 10,
   "id": "c52d4042",
   "metadata": {},
   "outputs": [],
   "source": [
    "insert_ratings_query =\"\"\"\n",
    "INSERT INTO ratings\n",
    "(rating,movie_id,reviewer_id)\n",
    "VALUES(%s , %s ,%s)\n",
    "\"\"\"\n",
    "ratings_records = [\n",
    "    (6.4, 17, 5), (5.6, 19, 1), (6.3, 22, 14), (5.1, 21, 17),\n",
    "    (5.0, 5, 5), (6.5, 21, 5), (8.5, 30, 13), (9.7, 6, 4),\n",
    "    (8.5, 24, 12), (9.9, 14, 9), (8.7, 26, 14), (9.9, 6, 10),\n",
    "    (5.1, 30, 6), (5.4, 18, 16), (6.2, 6, 20), (7.3, 21, 19),\n",
    "    (8.1, 17, 18), (5.0, 7, 2), (9.8, 23, 3), (8.0, 22, 9),\n",
    "    (8.5, 11, 13), (5.0, 5, 11), (5.7, 8, 2), (7.6, 25, 19),\n",
    "    (5.2, 18, 15), (9.7, 13, 3), (5.8, 18, 8), (5.8, 30, 15),\n",
    "    (8.4, 21, 18), (6.2, 23, 16), (7.0, 10, 18), (9.5, 30, 20),\n",
    "    (8.9, 3, 19), (6.4, 12, 2), (7.8, 12, 22), (9.9, 15, 13),\n",
    "    (7.5, 20, 17), (9.0, 25, 6), (8.5, 23, 2), (5.3, 30, 17),\n",
    "    (6.4, 5, 10), (8.1, 5, 21), (5.7, 22, 1), (6.3, 28, 4),\n",
    "    (9.8, 13, 1)\n",
    "]\n",
    "\n",
    "\n",
    "#Creando un Objeto de Conexion\n",
    "obj_conexion=conexion_bd()\n",
    "\n",
    "with obj_conexion.cursor() as cursor:\n",
    "    cursor.executemany(insert_ratings_query,ratings_records)\n",
    "    obj_conexion.commit() #Ejecutar fisicamente los cambios en LA BD"
   ]
  },
  {
   "cell_type": "markdown",
   "id": "c9c98bd5",
   "metadata": {},
   "source": [
    "# Estructura de la Tabla"
   ]
  },
  {
   "cell_type": "code",
   "execution_count": 14,
   "id": "74223934",
   "metadata": {},
   "outputs": [
    {
     "name": "stdout",
     "output_type": "stream",
     "text": [
      "('id', 'int', 'NO', 'PRI', None, 'auto_increment')\n",
      "('title', 'varchar(100)', 'YES', '', None, '')\n",
      "('release_year', 'year', 'YES', '', None, '')\n",
      "('genre', 'varchar(100)', 'YES', '', None, '')\n",
      "('collection_in_mil', 'int', 'YES', '', None, '')\n"
     ]
    }
   ],
   "source": [
    "#Creando un Objeto de Conexion\n",
    "obj_conexion=conexion_bd()\n",
    "\n",
    "show_table_query=\"describe movies\"\n",
    "\n",
    "with obj_conexion.cursor() as cursor:\n",
    "    cursor.execute(show_table_query)\n",
    "    result = cursor.fetchall()\n",
    "    for row in result:\n",
    "        print(row)\n",
    "    "
   ]
  },
  {
   "cell_type": "markdown",
   "id": "69ee68ac",
   "metadata": {},
   "source": [
    "# Instrucciones SQL"
   ]
  },
  {
   "cell_type": "code",
   "execution_count": 17,
   "id": "4cdfb6fa",
   "metadata": {},
   "outputs": [
    {
     "name": "stdout",
     "output_type": "stream",
     "text": [
      "(1, 'Forrest Gump', 1994, 'Drama', 330)\n",
      "(2, '3 Idiots', 2009, 'Drama', 2)\n",
      "(3, 'Eternal Sunshine of the Spotless Mind', 2004, 'Drama', 35)\n",
      "(4, 'Good Will Hunting', 1997, 'Drama', 138)\n",
      "(5, 'Skyfall', 2012, 'Action', 305)\n",
      "(6, 'Gladiator', 2000, 'Action', 189)\n",
      "(7, 'Black', 2005, 'Drama', 3)\n",
      "(8, 'Titanic', 1997, 'Romance', 659)\n",
      "(9, 'The Shawshank Redemption', 1994, 'Drama', 28)\n",
      "(10, 'Udaan', 2010, 'Drama', 2)\n",
      "(11, 'Home Alone', 1990, 'Comedy', 287)\n",
      "(12, 'Casablanca', 1942, 'Romance', 1)\n",
      "(13, 'Avengers: Endgame', 2019, 'Action', 859)\n",
      "(14, 'Night of the Living Dead', 1968, 'Horror', 3)\n",
      "(15, 'The Godfather', 1972, 'Crime', 136)\n"
     ]
    }
   ],
   "source": [
    "select_movies_query=\"SELECT * FROM movies LIMIT 15\"\n",
    "\n",
    "#Creando un Objeto de Conexion\n",
    "obj_conexion=conexion_bd()\n",
    "\n",
    "with obj_conexion.cursor() as cursor:\n",
    "    cursor.execute(select_movies_query)\n",
    "    result = cursor.fetchall()\n",
    "    for row in result:\n",
    "        print(row)"
   ]
  },
  {
   "cell_type": "code",
   "execution_count": null,
   "id": "759002d3",
   "metadata": {},
   "outputs": [],
   "source": []
  }
 ],
 "metadata": {
  "kernelspec": {
   "display_name": "Python 3 (ipykernel)",
   "language": "python",
   "name": "python3"
  },
  "language_info": {
   "codemirror_mode": {
    "name": "ipython",
    "version": 3
   },
   "file_extension": ".py",
   "mimetype": "text/x-python",
   "name": "python",
   "nbconvert_exporter": "python",
   "pygments_lexer": "ipython3",
   "version": "3.7.0"
  }
 },
 "nbformat": 4,
 "nbformat_minor": 5
}
