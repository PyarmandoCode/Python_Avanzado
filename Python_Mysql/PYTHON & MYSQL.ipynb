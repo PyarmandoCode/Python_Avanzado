{
 "cells": [
  {
   "cell_type": "markdown",
   "id": "e6d1a1fe",
   "metadata": {},
   "source": [
    "# Instalacion del Connector/Python/MYSQL"
   ]
  },
  {
   "cell_type": "code",
   "execution_count": 2,
   "id": "eab1b3f0",
   "metadata": {},
   "outputs": [],
   "source": [
    "#pip install mysql-connector-python\n",
    "import mysql.connector"
   ]
  },
  {
   "cell_type": "code",
   "execution_count": null,
   "id": "5e0019da",
   "metadata": {},
   "outputs": [],
   "source": [
    "from mysql.connector import connect,Error\n",
    "try:\n",
    "    with connect(\n",
    "        host=\"localhost\",\n",
    "        user=\"root\",\n",
    "        password=\"Rioazulq12\"\n",
    "    )as connection:\n",
    "        print(connection)\n",
    "except Error as e:\n",
    "    print(e)"
   ]
  },
  {
   "cell_type": "markdown",
   "id": "b64833b4",
   "metadata": {},
   "source": [
    "# Creacion de Base de datos"
   ]
  },
  {
   "cell_type": "code",
   "execution_count": null,
   "id": "2ba85db7",
   "metadata": {},
   "outputs": [],
   "source": [
    "from mysql.connector import connect,Error\n",
    "try:\n",
    "    with connect(\n",
    "        host=\"localhost\",\n",
    "        user=\"root\",\n",
    "        password=\"Rioazulq12\"\n",
    "    )as connection:\n",
    "        create_db_query = \"CREATE DATABASE movies_online\"\n",
    "        with connection.cursor() as cursor:\n",
    "            cursor.execute(create_db_query)\n",
    "except Error as e:\n",
    "    print(e)            "
   ]
  },
  {
   "cell_type": "markdown",
   "id": "954f8d4b",
   "metadata": {},
   "source": [
    "# Creacion de Tablas"
   ]
  },
  {
   "cell_type": "code",
   "execution_count": null,
   "id": "b6031fa2",
   "metadata": {},
   "outputs": [],
   "source": [
    "import mysql.connector\n",
    "connection = mysql.connector.connect(\n",
    "     host=\"localhost\",\n",
    "     user=\"root\",\n",
    "     password=\"Rioazulq12\",\n",
    "     database=\"movies_online\"\n",
    "  )\n",
    "\n",
    "create_movies_table_query= \"\"\"\n",
    "CREATE TABLE movies(\n",
    "   id INT AUTO_INCREMENT PRIMARY KEY,\n",
    "   title VARCHAR(100),\n",
    "   release_year YEAR(4),\n",
    "   genre VARCHAR(100),\n",
    "   collection_in_mil INT\n",
    "  )\n",
    "\"\"\"\n",
    "with connection.cursor() as cursor:\n",
    "    cursor.execute(create_movies_table_query)\n",
    "    connection.commit() #Ejecutar fisicamente los cambios en LA BD"
   ]
  },
  {
   "cell_type": "markdown",
   "id": "8d163fe3",
   "metadata": {},
   "source": [
    "# Insertar Registros a la Tabla"
   ]
  },
  {
   "cell_type": "code",
   "execution_count": 5,
   "id": "314f2a74",
   "metadata": {},
   "outputs": [],
   "source": [
    "insert_movies_query = \"\"\"\n",
    "INSERT INTO movies (title,release_year,genre,collection_in_mil)\n",
    "VALUES\n",
    "  (\"Forrest Gump\",1994,\"Drama\",330.2)\n",
    "\"\"\"\n",
    "\n",
    "obj_conexion=conexion_bd()\n",
    "with obj_conexion.cursor() as cursor:\n",
    "    cursor.execute(insert_movies_query)\n",
    "    obj_conexion.commit() #Ejecutar fisicamente los cambios en LA BD"
   ]
  },
  {
   "cell_type": "code",
   "execution_count": 3,
   "id": "574b52fc",
   "metadata": {},
   "outputs": [],
   "source": [
    "def conexion_bd():\n",
    "    connection = mysql.connector.connect(\n",
    "        host=\"localhost\",\n",
    "        user=\"root\",\n",
    "        password=\"Rioazulq12\",\n",
    "        database=\"movies_online\"\n",
    "  )\n",
    "    return connection"
   ]
  },
  {
   "cell_type": "code",
   "execution_count": null,
   "id": "00c27ad3",
   "metadata": {},
   "outputs": [],
   "source": []
  }
 ],
 "metadata": {
  "kernelspec": {
   "display_name": "Python 3 (ipykernel)",
   "language": "python",
   "name": "python3"
  },
  "language_info": {
   "codemirror_mode": {
    "name": "ipython",
    "version": 3
   },
   "file_extension": ".py",
   "mimetype": "text/x-python",
   "name": "python",
   "nbconvert_exporter": "python",
   "pygments_lexer": "ipython3",
   "version": "3.7.0"
  }
 },
 "nbformat": 4,
 "nbformat_minor": 5
}
