{
 "cells": [
  {
   "cell_type": "markdown",
   "id": "64347b03",
   "metadata": {},
   "source": [
    "# Instalacion del Connector/Python/MYSQL"
   ]
  },
  {
   "cell_type": "code",
   "execution_count": 2,
   "id": "e11dfd72",
   "metadata": {},
   "outputs": [],
   "source": [
    "#pip install mysql-connector-python\n",
    "import mysql.connector"
   ]
  },
  {
   "cell_type": "code",
   "execution_count": null,
   "id": "2dab5f0d",
   "metadata": {},
   "outputs": [],
   "source": [
    "from mysql.connector import connect,Error\n",
    "try:\n",
    "    with connect(\n",
    "        host=\"localhost\",\n",
    "        user=\"root\",\n",
    "        password=\"Rioazulq12\"\n",
    "    )as connection:\n",
    "        print(connection)\n",
    "except Error as e:\n",
    "    print(e)"
   ]
  },
  {
   "cell_type": "markdown",
   "id": "5e109a14",
   "metadata": {},
   "source": [
    "# Creacion de Base de datos"
   ]
  },
  {
   "cell_type": "code",
   "execution_count": null,
   "id": "534dc55c",
   "metadata": {},
   "outputs": [],
   "source": [
    "from mysql.connector import connect,Error\n",
    "try:\n",
    "    with connect(\n",
    "        host=\"localhost\",\n",
    "        user=\"root\",\n",
    "        password=\"Rioazulq12\"\n",
    "    )as connection:\n",
    "        create_db_query = \"CREATE DATABASE movies_online\"\n",
    "        with connection.cursor() as cursor:\n",
    "            cursor.execute(create_db_query)\n",
    "except Error as e:\n",
    "    print(e)            "
   ]
  },
  {
   "cell_type": "markdown",
   "id": "4b6b437a",
   "metadata": {},
   "source": [
    "# Creacion de Tablas"
   ]
  },
  {
   "cell_type": "code",
   "execution_count": null,
   "id": "594fdeac",
   "metadata": {},
   "outputs": [],
   "source": [
    "import mysql.connector\n",
    "connection = mysql.connector.connect(\n",
    "     host=\"localhost\",\n",
    "     user=\"root\",\n",
    "     password=\"Rioazulq12\",\n",
    "     database=\"movies_online\"\n",
    "  )\n",
    "\n",
    "create_movies_table_query= \"\"\"\n",
    "CREATE TABLE movies(\n",
    "   id INT AUTO_INCREMENT PRIMARY KEY,\n",
    "   title VARCHAR(100),\n",
    "   release_year YEAR(4),\n",
    "   genre VARCHAR(100),\n",
    "   collection_in_mil INT\n",
    "  )\n",
    "\"\"\"\n",
    "with connection.cursor() as cursor:\n",
    "    cursor.execute(create_movies_table_query)\n",
    "    connection.commit() #Ejecutar fisicamente los cambios en LA BD"
   ]
  },
  {
   "cell_type": "code",
   "execution_count": null,
   "id": "be041e17",
   "metadata": {},
   "outputs": [],
   "source": [
    "def conexion_bd():\n",
    "    connection = mysql.connector.connect(\n",
    "        host=\"localhost\",\n",
    "        user=\"root\",\n",
    "        password=\"Rioazulq12\",\n",
    "        database=\"movies_online\"\n",
    "  )\n",
    "    return connection"
   ]
  },
  {
   "cell_type": "markdown",
   "id": "60180f71",
   "metadata": {},
   "source": [
    "# Insertar Registros a la Tabla"
   ]
  },
  {
   "cell_type": "code",
   "execution_count": 6,
   "id": "43dab0cc",
   "metadata": {},
   "outputs": [],
   "source": [
    "insert_movies_query = \"\"\"\n",
    "INSERT INTO movies (title,release_year,genre,collection_in_mil)\n",
    "VALUES\n",
    "  (\"3 Idiots\", 2009, \"Drama\", 2.4),\n",
    "    (\"Eternal Sunshine of the Spotless Mind\", 2004, \"Drama\", 34.5),\n",
    "    (\"Good Will Hunting\", 1997, \"Drama\", 138.1),\n",
    "    (\"Skyfall\", 2012, \"Action\", 304.6),\n",
    "    (\"Gladiator\", 2000, \"Action\", 188.7),\n",
    "    (\"Black\", 2005, \"Drama\", 3.0),\n",
    "    (\"Titanic\", 1997, \"Romance\", 659.2),\n",
    "    (\"The Shawshank Redemption\", 1994, \"Drama\",28.4),\n",
    "    (\"Udaan\", 2010, \"Drama\", 1.5),\n",
    "    (\"Home Alone\", 1990, \"Comedy\", 286.9),\n",
    "    (\"Casablanca\", 1942, \"Romance\", 1.0),\n",
    "    (\"Avengers: Endgame\", 2019, \"Action\", 858.8),\n",
    "    (\"Night of the Living Dead\", 1968, \"Horror\", 2.5),\n",
    "    (\"The Godfather\", 1972, \"Crime\", 135.6),\n",
    "    (\"Haider\", 2014, \"Action\", 4.2),\n",
    "    (\"Inception\", 2010, \"Adventure\", 293.7),\n",
    "    (\"Evil\", 2003, \"Horror\", 1.3),\n",
    "    (\"Toy Story 4\", 2019, \"Animation\", 434.9),\n",
    "    (\"Air Force One\", 1997, \"Drama\", 138.1),\n",
    "    (\"The Dark Knight\", 2008, \"Action\",535.4),\n",
    "    (\"Bhaag Milkha Bhaag\", 2013, \"Sport\", 4.1),\n",
    "    (\"The Lion King\", 1994, \"Animation\", 423.6),\n",
    "    (\"Pulp Fiction\", 1994, \"Crime\", 108.8),\n",
    "    (\"Kai Po Che\", 2013, \"Sport\", 6.0),\n",
    "    (\"Beasts of No Nation\", 2015, \"War\", 1.4),\n",
    "    (\"Andadhun\", 2018, \"Thriller\", 2.9),\n",
    "    (\"The Silence of the Lambs\", 1991, \"Crime\", 68.2),\n",
    "    (\"Deadpool\", 2016, \"Action\", 363.6),\n",
    "    (\"Drishyam\", 2015, \"Mystery\", 3.0)\n",
    "\"\"\"\n",
    "\n",
    "#Creando un Objeto de Conexion\n",
    "obj_conexion=conexion_bd()\n",
    "\n",
    "with obj_conexion.cursor() as cursor:\n",
    "    cursor.execute(insert_movies_query)\n",
    "    obj_conexion.commit() #Ejecutar fisicamente los cambios en LA BD"
   ]
  },
  {
   "cell_type": "code",
   "execution_count": 7,
   "id": "ceb82cc3",
   "metadata": {},
   "outputs": [],
   "source": [
    "create_reviewers_tabla_query =\"\"\"\n",
    "CREATE TABLE reviewers (\n",
    "   id INT AUTO_INCREMENT PRIMARY KEY,\n",
    "   first_name VARCHAR(100),\n",
    "   last_name VARCHAR(100)\n",
    ")\n",
    "\"\"\"\n",
    "\n",
    "#Creando un Objeto de Conexion\n",
    "obj_conexion=conexion_bd()\n",
    "\n",
    "with obj_conexion.cursor() as cursor:\n",
    "    cursor.execute(create_reviewers_tabla_query)\n",
    "    obj_conexion.commit() #Ejecutar fisicamente los cambios en LA BD"
   ]
  },
  {
   "cell_type": "code",
   "execution_count": 8,
   "id": "28c602ae",
   "metadata": {},
   "outputs": [],
   "source": [
    "insert_reviewers_query=\"\"\"\n",
    "INSERT INTO reviewers\n",
    "(first_name,last_name)\n",
    "VALUES(%s,%s)\n",
    "\"\"\"\n",
    "\n",
    "reviewers_records = [\n",
    "    (\"Chaitanya\", \"Baweja\"),\n",
    "    (\"Mary\", \"Cooper\"),\n",
    "    (\"John\", \"Wayne\"),\n",
    "    (\"Thomas\", \"Stoneman\"),\n",
    "    (\"Penny\", \"Hofstadter\"),\n",
    "    (\"Mitchell\", \"Marsh\"),\n",
    "    (\"Wyatt\", \"Skaggs\"),\n",
    "    (\"Andre\", \"Veiga\"),\n",
    "    (\"Sheldon\", \"Cooper\"),\n",
    "    (\"Kimbra\", \"Masters\"),\n",
    "    (\"Kat\", \"Dennings\"),\n",
    "    (\"Bruce\", \"Wayne\"),\n",
    "    (\"Domingo\", \"Cortes\"),\n",
    "    (\"Rajesh\", \"Koothrappali\"),\n",
    "    (\"Ben\", \"Glocker\"),\n",
    "    (\"Mahinder\", \"Dhoni\"),\n",
    "    (\"Akbar\", \"Khan\"),\n",
    "    (\"Howard\", \"Wolowitz\"),\n",
    "    (\"Pinkie\", \"Petit\"),\n",
    "    (\"Gurkaran\", \"Singh\"),\n",
    "    (\"Amy\", \"Farah Fowler\"),\n",
    "    (\"Marlon\", \"Crafford\"),\n",
    "]\n",
    "\n",
    "#Creando un Objeto de Conexion\n",
    "obj_conexion=conexion_bd()\n",
    "\n",
    "with obj_conexion.cursor() as cursor:\n",
    "    cursor.executemany(insert_reviewers_query,reviewers_records)\n",
    "    obj_conexion.commit() #Ejecutar fisicamente los cambios en LA BD"
   ]
  },
  {
   "cell_type": "code",
   "execution_count": null,
   "id": "512a1236",
   "metadata": {},
   "outputs": [],
   "source": []
  }
 ],
 "metadata": {
  "kernelspec": {
   "display_name": "Python 3 (ipykernel)",
   "language": "python",
   "name": "python3"
  },
  "language_info": {
   "codemirror_mode": {
    "name": "ipython",
    "version": 3
   },
   "file_extension": ".py",
   "mimetype": "text/x-python",
   "name": "python",
   "nbconvert_exporter": "python",
   "pygments_lexer": "ipython3",
   "version": "3.7.0"
  }
 },
 "nbformat": 4,
 "nbformat_minor": 5
}
